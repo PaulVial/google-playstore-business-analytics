{
 "cells": [
  {
   "cell_type": "markdown",
   "id": "6c76a5c8",
   "metadata": {},
   "source": [
    "<h1 style=\"color:orange\">Sous-partie 1</h1>\n"
   ]
  },
  {
   "cell_type": "markdown",
   "id": "3217ad92",
   "metadata": {},
   "source": [
    "## 0. Setup technique + prétraitement rapide"
   ]
  },
  {
   "cell_type": "code",
   "execution_count": 1,
   "id": "81a45284",
   "metadata": {},
   "outputs": [
    {
     "data": {
      "text/html": [
       "<div>\n",
       "<style scoped>\n",
       "    .dataframe tbody tr th:only-of-type {\n",
       "        vertical-align: middle;\n",
       "    }\n",
       "\n",
       "    .dataframe tbody tr th {\n",
       "        vertical-align: top;\n",
       "    }\n",
       "\n",
       "    .dataframe thead th {\n",
       "        text-align: right;\n",
       "    }\n",
       "</style>\n",
       "<table border=\"1\" class=\"dataframe\">\n",
       "  <thead>\n",
       "    <tr style=\"text-align: right;\">\n",
       "      <th></th>\n",
       "      <th>App</th>\n",
       "      <th>Category</th>\n",
       "      <th>Rating</th>\n",
       "      <th>Reviews</th>\n",
       "      <th>Size</th>\n",
       "      <th>Installs</th>\n",
       "      <th>Type</th>\n",
       "      <th>Price</th>\n",
       "      <th>Content Rating</th>\n",
       "      <th>Genres</th>\n",
       "      <th>Last Updated</th>\n",
       "      <th>Current Ver</th>\n",
       "      <th>Android Ver</th>\n",
       "    </tr>\n",
       "  </thead>\n",
       "  <tbody>\n",
       "    <tr>\n",
       "      <th>0</th>\n",
       "      <td>Photo Editor &amp; Candy Camera &amp; Grid &amp; ScrapBook</td>\n",
       "      <td>ART_AND_DESIGN</td>\n",
       "      <td>4.1</td>\n",
       "      <td>159</td>\n",
       "      <td>19M</td>\n",
       "      <td>10,000+</td>\n",
       "      <td>Free</td>\n",
       "      <td>0</td>\n",
       "      <td>Everyone</td>\n",
       "      <td>Art &amp; Design</td>\n",
       "      <td>January 7, 2018</td>\n",
       "      <td>1.0.0</td>\n",
       "      <td>4.0.3 and up</td>\n",
       "    </tr>\n",
       "    <tr>\n",
       "      <th>1</th>\n",
       "      <td>Coloring book moana</td>\n",
       "      <td>ART_AND_DESIGN</td>\n",
       "      <td>3.9</td>\n",
       "      <td>967</td>\n",
       "      <td>14M</td>\n",
       "      <td>500,000+</td>\n",
       "      <td>Free</td>\n",
       "      <td>0</td>\n",
       "      <td>Everyone</td>\n",
       "      <td>Art &amp; Design;Pretend Play</td>\n",
       "      <td>January 15, 2018</td>\n",
       "      <td>2.0.0</td>\n",
       "      <td>4.0.3 and up</td>\n",
       "    </tr>\n",
       "    <tr>\n",
       "      <th>2</th>\n",
       "      <td>U Launcher Lite – FREE Live Cool Themes, Hide ...</td>\n",
       "      <td>ART_AND_DESIGN</td>\n",
       "      <td>4.7</td>\n",
       "      <td>87510</td>\n",
       "      <td>8.7M</td>\n",
       "      <td>5,000,000+</td>\n",
       "      <td>Free</td>\n",
       "      <td>0</td>\n",
       "      <td>Everyone</td>\n",
       "      <td>Art &amp; Design</td>\n",
       "      <td>August 1, 2018</td>\n",
       "      <td>1.2.4</td>\n",
       "      <td>4.0.3 and up</td>\n",
       "    </tr>\n",
       "    <tr>\n",
       "      <th>3</th>\n",
       "      <td>Sketch - Draw &amp; Paint</td>\n",
       "      <td>ART_AND_DESIGN</td>\n",
       "      <td>4.5</td>\n",
       "      <td>215644</td>\n",
       "      <td>25M</td>\n",
       "      <td>50,000,000+</td>\n",
       "      <td>Free</td>\n",
       "      <td>0</td>\n",
       "      <td>Teen</td>\n",
       "      <td>Art &amp; Design</td>\n",
       "      <td>June 8, 2018</td>\n",
       "      <td>Varies with device</td>\n",
       "      <td>4.2 and up</td>\n",
       "    </tr>\n",
       "    <tr>\n",
       "      <th>4</th>\n",
       "      <td>Pixel Draw - Number Art Coloring Book</td>\n",
       "      <td>ART_AND_DESIGN</td>\n",
       "      <td>4.3</td>\n",
       "      <td>967</td>\n",
       "      <td>2.8M</td>\n",
       "      <td>100,000+</td>\n",
       "      <td>Free</td>\n",
       "      <td>0</td>\n",
       "      <td>Everyone</td>\n",
       "      <td>Art &amp; Design;Creativity</td>\n",
       "      <td>June 20, 2018</td>\n",
       "      <td>1.1</td>\n",
       "      <td>4.4 and up</td>\n",
       "    </tr>\n",
       "  </tbody>\n",
       "</table>\n",
       "</div>"
      ],
      "text/plain": [
       "                                                 App        Category  Rating  \\\n",
       "0     Photo Editor & Candy Camera & Grid & ScrapBook  ART_AND_DESIGN     4.1   \n",
       "1                                Coloring book moana  ART_AND_DESIGN     3.9   \n",
       "2  U Launcher Lite – FREE Live Cool Themes, Hide ...  ART_AND_DESIGN     4.7   \n",
       "3                              Sketch - Draw & Paint  ART_AND_DESIGN     4.5   \n",
       "4              Pixel Draw - Number Art Coloring Book  ART_AND_DESIGN     4.3   \n",
       "\n",
       "  Reviews  Size     Installs  Type Price Content Rating  \\\n",
       "0     159   19M      10,000+  Free     0       Everyone   \n",
       "1     967   14M     500,000+  Free     0       Everyone   \n",
       "2   87510  8.7M   5,000,000+  Free     0       Everyone   \n",
       "3  215644   25M  50,000,000+  Free     0           Teen   \n",
       "4     967  2.8M     100,000+  Free     0       Everyone   \n",
       "\n",
       "                      Genres      Last Updated         Current Ver  \\\n",
       "0               Art & Design   January 7, 2018               1.0.0   \n",
       "1  Art & Design;Pretend Play  January 15, 2018               2.0.0   \n",
       "2               Art & Design    August 1, 2018               1.2.4   \n",
       "3               Art & Design      June 8, 2018  Varies with device   \n",
       "4    Art & Design;Creativity     June 20, 2018                 1.1   \n",
       "\n",
       "    Android Ver  \n",
       "0  4.0.3 and up  \n",
       "1  4.0.3 and up  \n",
       "2  4.0.3 and up  \n",
       "3    4.2 and up  \n",
       "4    4.4 and up  "
      ]
     },
     "execution_count": 1,
     "metadata": {},
     "output_type": "execute_result"
    }
   ],
   "source": [
    "import pandas as pd\n",
    "import matplotlib.pyplot as plt\n",
    "import seaborn as sns\n",
    "import plotly.express as px\n",
    "\n",
    "df = pd.read_csv('googleplaystore.csv')\n",
    "df.head(5)"
   ]
  },
  {
   "cell_type": "markdown",
   "id": "ef7b27a9",
   "metadata": {},
   "source": [
    "##### En inspectant chaque colonne j'ai remarqué des valeurs NaN ou erronnées dans certaines colonnes. Je vais par exemple effacer la catégorie '1.9' car je vais utiliser cette colonne dans la démarche. Mais je laisse certaines valeurs NaN dans d'autres colonnes que je ne vais pas utiliser."
   ]
  },
  {
   "cell_type": "code",
   "execution_count": 2,
   "id": "050617ce",
   "metadata": {},
   "outputs": [
    {
     "data": {
      "text/plain": [
       "array(['ART_AND_DESIGN', 'AUTO_AND_VEHICLES', 'BEAUTY',\n",
       "       'BOOKS_AND_REFERENCE', 'BUSINESS', 'COMICS', 'COMMUNICATION',\n",
       "       'DATING', 'EDUCATION', 'ENTERTAINMENT', 'EVENTS', 'FINANCE',\n",
       "       'FOOD_AND_DRINK', 'HEALTH_AND_FITNESS', 'HOUSE_AND_HOME',\n",
       "       'LIBRARIES_AND_DEMO', 'LIFESTYLE', 'GAME', 'FAMILY', 'MEDICAL',\n",
       "       'SOCIAL', 'SHOPPING', 'PHOTOGRAPHY', 'SPORTS', 'TRAVEL_AND_LOCAL',\n",
       "       'TOOLS', 'PERSONALIZATION', 'PRODUCTIVITY', 'PARENTING', 'WEATHER',\n",
       "       'VIDEO_PLAYERS', 'NEWS_AND_MAGAZINES', 'MAPS_AND_NAVIGATION',\n",
       "       '1.9'], dtype=object)"
      ]
     },
     "execution_count": 2,
     "metadata": {},
     "output_type": "execute_result"
    }
   ],
   "source": [
    "df[\"Category\"].unique()"
   ]
  },
  {
   "cell_type": "code",
   "execution_count": 3,
   "id": "a766d6b6",
   "metadata": {},
   "outputs": [],
   "source": [
    "df = df[df[\"Category\"] != \"1.9\"]\n"
   ]
  },
  {
   "cell_type": "markdown",
   "id": "d17a1af2",
   "metadata": {},
   "source": [
    "<h2>1. Présentation de l'état global du marché</h2>"
   ]
  },
  {
   "cell_type": "markdown",
   "id": "276b2eb2",
   "metadata": {},
   "source": [
    "#### L'objectif de cette première partie est de visualiser les données afin de faciliter leur compréhension pour notre client. Un schéma vaut mieux que mille mots."
   ]
  },
  {
   "cell_type": "code",
   "execution_count": 4,
   "id": "5919560d",
   "metadata": {},
   "outputs": [
    {
     "name": "stdout",
     "output_type": "stream",
     "text": [
      "Il y a 9659 applications différentes dans ce jeu de données. Répartis en 33 catégories différentes.\n"
     ]
    }
   ],
   "source": [
    "print(\"Il y a\",df['App'].nunique(),\"applications différentes dans ce jeu de données. Répartis en\",df['Category'].nunique(),\"catégories différentes.\")"
   ]
  },
  {
   "cell_type": "markdown",
   "id": "e83f1247",
   "metadata": {},
   "source": [
    "#### Nous allons visualiser répartition des applications par catégories pour se rendre compte des plus gros secteurs et des niches."
   ]
  },
  {
   "cell_type": "code",
   "execution_count": 5,
   "id": "76e3a24b",
   "metadata": {},
   "outputs": [
    {
     "name": "stderr",
     "output_type": "stream",
     "text": [
      "C:\\Users\\paulv\\AppData\\Local\\Temp\\ipykernel_22164\\850631128.py:16: FutureWarning: \n",
      "\n",
      "Passing `palette` without assigning `hue` is deprecated and will be removed in v0.14.0. Assign the `y` variable to `hue` and set `legend=False` for the same effect.\n",
      "\n",
      "  barplot = sns.barplot(y=\"Category\", x=\"App Count\", data=category_counts, palette=category_counts[\"Color\"].tolist())\n"
     ]
    },
    {
     "data": {
      "image/png": "[encoded data removed]",
      "text/plain": [
       "<Figure size 1200x600 with 1 Axes>"
      ]
     },
     "metadata": {},
     "output_type": "display_data"
    }
   ],
   "source": [
    "category_counts = df[\"Category\"].value_counts().reset_index()\n",
    "category_counts.columns = [\"Category\", \"App Count\"]\n",
    "category_counts = category_counts.sort_values(\"App Count\", ascending=False)\n",
    "\n",
    "def assign_color(count):\n",
    "    if count > 500:\n",
    "        return \"#6cc5ec\"\n",
    "    elif count >= 250:\n",
    "        return \"orange\"\n",
    "    else:\n",
    "        return \"#ec7282\"\n",
    "\n",
    "category_counts[\"Color\"] = category_counts[\"App Count\"].apply(assign_color)\n",
    "\n",
    "plt.figure(figsize=(12, 6))\n",
    "barplot = sns.barplot(y=\"Category\", x=\"App Count\", data=category_counts, palette=category_counts[\"Color\"].tolist())\n",
    "\n",
    "plt.title(\"Répartition des applications par catégorie\")\n",
    "plt.xlabel(\"Nombre d'applications\")\n",
    "plt.ylabel(\"Catégorie\")\n",
    "\n",
    "for bar in barplot.patches:\n",
    "    width = bar.get_width()\n",
    "    plt.text(width + 5, bar.get_y() + bar.get_height() / 2, int(width), va='center')\n",
    "\n",
    "plt.tight_layout()\n",
    "plt.show()\n"
   ]
  },
  {
   "cell_type": "markdown",
   "id": "fe92e93a",
   "metadata": {},
   "source": [
    "#### De même, nous allons nous représenter le publique cible des applications."
   ]
  },
  {
   "cell_type": "code",
   "execution_count": 6,
   "id": "bae8e0e6",
   "metadata": {},
   "outputs": [
    {
     "name": "stderr",
     "output_type": "stream",
     "text": [
      "C:\\Users\\paulv\\AppData\\Local\\Temp\\ipykernel_22164\\3761347519.py:16: FutureWarning: \n",
      "\n",
      "Passing `palette` without assigning `hue` is deprecated and will be removed in v0.14.0. Assign the `y` variable to `hue` and set `legend=False` for the same effect.\n",
      "\n",
      "  barplot = sns.barplot(y=\"Content Rating\", x=\"App Count\", data=content_counts, palette=content_counts[\"Color\"].tolist())\n"
     ]
    },
    {
     "data": {
      "image/png": "[encoded data removed]",
      "text/plain": [
       "<Figure size 1000x400 with 1 Axes>"
      ]
     },
     "metadata": {},
     "output_type": "display_data"
    }
   ],
   "source": [
    "content_counts = df[\"Content Rating\"].value_counts().reset_index()\n",
    "content_counts.columns = [\"Content Rating\", \"App Count\"]\n",
    "content_counts = content_counts.sort_values(\"App Count\", ascending=False)\n",
    "\n",
    "def assign_color(count):\n",
    "    if count > 500:\n",
    "        return \"#6cc5ec\"\n",
    "    elif count >= 250:\n",
    "        return \"orange\"\n",
    "    else:\n",
    "        return \"#ec7282\"\n",
    "\n",
    "content_counts[\"Color\"] = content_counts[\"App Count\"].apply(assign_color)\n",
    "\n",
    "plt.figure(figsize=(10, 4))\n",
    "barplot = sns.barplot(y=\"Content Rating\", x=\"App Count\", data=content_counts, palette=content_counts[\"Color\"].tolist())\n",
    "\n",
    "plt.title(\"Répartition des applications par publique\")\n",
    "plt.xlabel(\"Nombre d'applications\")\n",
    "plt.ylabel(\"Cible\")\n",
    "\n",
    "for bar in barplot.patches:\n",
    "    width = bar.get_width()\n",
    "    plt.text(width + 5, bar.get_y() + bar.get_height() / 2, int(width), va='center')\n",
    "\n",
    "plt.tight_layout()\n",
    "plt.show()\n"
   ]
  },
  {
   "cell_type": "markdown",
   "id": "373c6ec4",
   "metadata": {},
   "source": [
    "#### Ensuite, il est intéressant de voir la répartition des applications entre un model gratuit et un model payant."
   ]
  },
  {
   "cell_type": "code",
   "execution_count": 7,
   "id": "1a4174d0",
   "metadata": {},
   "outputs": [
    {
     "data": {
      "application/vnd.plotly.v1+json": {
       "config": {
        "plotlyServerURL": "https://plot.ly"
       },
       "data": [
        {
         "customdata": [
          [
           "Free"
          ],
          [
           "Paid"
          ]
         ],
         "domain": {
          "x": [
           0,
           1
          ],
          "y": [
           0,
           1
          ]
         },
         "hovertemplate": "Type=%{customdata[0]}<br>Count=%{value}<extra></extra>",
         "labels": [
          "Free",
          "Paid"
         ],
         "legendgroup": "",
         "marker": {
          "colors": [
           "#6cc5ec",
           "#ec7282"
          ]
         },
         "name": "",
         "pull": [
          0.05,
          0
         ],
         "showlegend": true,
         "textinfo": "percent+label",
         "type": "pie",
         "values": [
          10039,
          800
         ]
        }
       ],
       "layout": {
        "font": {
         "size": 14
        },
        "legend": {
         "tracegroupgap": 0
        },
        "showlegend": true,
        "template": {
         "data": {
          "bar": [
           {
            "error_x": {
             "color": "#2a3f5f"
            },
            "error_y": {
             "color": "#2a3f5f"
            },
            "marker": {
             "line": {
              "color": "#E5ECF6",
              "width": 0.5
             },
             "pattern": {
              "fillmode": "overlay",
              "size": 10,
              "solidity": 0.2
             }
            },
            "type": "bar"
           }
          ],
          "barpolar": [
           {
            "marker": {
             "line": {
              "color": "#E5ECF6",
              "width": 0.5
             },
             "pattern": {
              "fillmode": "overlay",
              "size": 10,
              "solidity": 0.2
             }
            },
            "type": "barpolar"
           }
          ],
          "carpet": [
           {
            "aaxis": {
             "endlinecolor": "#2a3f5f",
             "gridcolor": "white",
             "linecolor": "white",
             "minorgridcolor": "white",
             "startlinecolor": "#2a3f5f"
            },
            "baxis": {
             "endlinecolor": "#2a3f5f",
             "gridcolor": "white",
             "linecolor": "white",
             "minorgridcolor": "white",
             "startlinecolor": "#2a3f5f"
            },
            "type": "carpet"
           }
          ],
          "choropleth": [
           {
            "colorbar": {
             "outlinewidth": 0,
             "ticks": ""
            },
            "type": "choropleth"
           }
          ],
          "contour": [
           {
            "colorbar": {
             "outlinewidth": 0,
             "ticks": ""
            },
            "colorscale": [
             [
              0,
              "#0d0887"
             ],
             [
              0.1111111111111111,
              "#46039f"
             ],
             [
              0.2222222222222222,
              "#7201a8"
             ],
             [
              0.3333333333333333,
              "#9c179e"
             ],
             [
              0.4444444444444444,
              "#bd3786"
             ],
             [
              0.5555555555555556,
              "#d8576b"
             ],
             [
              0.6666666666666666,
              "#ed7953"
             ],
             [
              0.7777777777777778,
              "#fb9f3a"
             ],
             [
              0.8888888888888888,
              "#fdca26"
             ],
             [
              1,
              "#f0f921"
             ]
            ],
            "type": "contour"
           }
          ],
          "contourcarpet": [
           {
            "colorbar": {
             "outlinewidth": 0,
             "ticks": ""
            },
            "type": "contourcarpet"
           }
          ],
          "heatmap": [
           {
            "colorbar": {
             "outlinewidth": 0,
             "ticks": ""
            },
            "colorscale": [
             [
              0,
              "#0d0887"
             ],
             [
              0.1111111111111111,
              "#46039f"
             ],
             [
              0.2222222222222222,
              "#7201a8"
             ],
             [
              0.3333333333333333,
              "#9c179e"
             ],
             [
              0.4444444444444444,
              "#bd3786"
             ],
             [
              0.5555555555555556,
              "#d8576b"
             ],
             [
              0.6666666666666666,
              "#ed7953"
             ],
             [
              0.7777777777777778,
              "#fb9f3a"
             ],
             [
              0.8888888888888888,
              "#fdca26"
             ],
             [
              1,
              "#f0f921"
             ]
            ],
            "type": "heatmap"
           }
          ],
          "heatmapgl": [
           {
            "colorbar": {
             "outlinewidth": 0,
             "ticks": ""
            },
            "colorscale": [
             [
              0,
              "#0d0887"
             ],
             [
              0.1111111111111111,
              "#46039f"
             ],
             [
              0.2222222222222222,
              "#7201a8"
             ],
             [
              0.3333333333333333,
              "#9c179e"
             ],
             [
              0.4444444444444444,
              "#bd3786"
             ],
             [
              0.5555555555555556,
              "#d8576b"
             ],
             [
              0.6666666666666666,
              "#ed7953"
             ],
             [
              0.7777777777777778,
              "#fb9f3a"
             ],
             [
              0.8888888888888888,
              "#fdca26"
             ],
             [
              1,
              "#f0f921"
             ]
            ],
            "type": "heatmapgl"
           }
          ],
          "histogram": [
           {
            "marker": {
             "pattern": {
              "fillmode": "overlay",
              "size": 10,
              "solidity": 0.2
             }
            },
            "type": "histogram"
           }
          ],
          "histogram2d": [
           {
            "colorbar": {
             "outlinewidth": 0,
             "ticks": ""
            },
            "colorscale": [
             [
              0,
              "#0d0887"
             ],
             [
              0.1111111111111111,
              "#46039f"
             ],
             [
              0.2222222222222222,
              "#7201a8"
             ],
             [
              0.3333333333333333,
              "#9c179e"
             ],
             [
              0.4444444444444444,
              "#bd3786"
             ],
             [
              0.5555555555555556,
              "#d8576b"
             ],
             [
              0.6666666666666666,
              "#ed7953"
             ],
             [
              0.7777777777777778,
              "#fb9f3a"
             ],
             [
              0.8888888888888888,
              "#fdca26"
             ],
             [
              1,
              "#f0f921"
             ]
            ],
            "type": "histogram2d"
           }
          ],
          "histogram2dcontour": [
           {
            "colorbar": {
             "outlinewidth": 0,
             "ticks": ""
            },
            "colorscale": [
             [
              0,
              "#0d0887"
             ],
             [
              0.1111111111111111,
              "#46039f"
             ],
             [
              0.2222222222222222,
              "#7201a8"
             ],
             [
              0.3333333333333333,
              "#9c179e"
             ],
             [
              0.4444444444444444,
              "#bd3786"
             ],
             [
              0.5555555555555556,
              "#d8576b"
             ],
             [
              0.6666666666666666,
              "#ed7953"
             ],
             [
              0.7777777777777778,
              "#fb9f3a"
             ],
             [
              0.8888888888888888,
              "#fdca26"
             ],
             [
              1,
              "#f0f921"
             ]
            ],
            "type": "histogram2dcontour"
           }
          ],
          "mesh3d": [
           {
            "colorbar": {
             "outlinewidth": 0,
             "ticks": ""
            },
            "type": "mesh3d"
           }
          ],
          "parcoords": [
           {
            "line": {
             "colorbar": {
              "outlinewidth": 0,
              "ticks": ""
             }
            },
            "type": "parcoords"
           }
          ],
          "pie": [
           {
            "automargin": true,
            "type": "pie"
           }
          ],
          "scatter": [
           {
            "fillpattern": {
             "fillmode": "overlay",
             "size": 10,
             "solidity": 0.2
            },
            "type": "scatter"
           }
          ],
          "scatter3d": [
           {
            "line": {
             "colorbar": {
              "outlinewidth": 0,
              "ticks": ""
             }
            },
            "marker": {
             "colorbar": {
              "outlinewidth": 0,
              "ticks": ""
             }
            },
            "type": "scatter3d"
           }
          ],
          "scattercarpet": [
           {
            "marker": {
             "colorbar": {
              "outlinewidth": 0,
              "ticks": ""
             }
            },
            "type": "scattercarpet"
           }
          ],
          "scattergeo": [
           {
            "marker": {
             "colorbar": {
              "outlinewidth": 0,
              "ticks": ""
             }
            },
            "type": "scattergeo"
           }
          ],
          "scattergl": [
           {
            "marker": {
             "colorbar": {
              "outlinewidth": 0,
              "ticks": ""
             }
            },
            "type": "scattergl"
           }
          ],
          "scattermapbox": [
           {
            "marker": {
             "colorbar": {
              "outlinewidth": 0,
              "ticks": ""
             }
            },
            "type": "scattermapbox"
           }
          ],
          "scatterpolar": [
           {
            "marker": {
             "colorbar": {
              "outlinewidth": 0,
              "ticks": ""
             }
            },
            "type": "scatterpolar"
           }
          ],
          "scatterpolargl": [
           {
            "marker": {
             "colorbar": {
              "outlinewidth": 0,
              "ticks": ""
             }
            },
            "type": "scatterpolargl"
           }
          ],
          "scatterternary": [
           {
            "marker": {
             "colorbar": {
              "outlinewidth": 0,
              "ticks": ""
             }
            },
            "type": "scatterternary"
           }
          ],
          "surface": [
           {
            "colorbar": {
             "outlinewidth": 0,
             "ticks": ""
            },
            "colorscale": [
             [
              0,
              "#0d0887"
             ],
             [
              0.1111111111111111,
              "#46039f"
             ],
             [
              0.2222222222222222,
              "#7201a8"
             ],
             [
              0.3333333333333333,
              "#9c179e"
             ],
             [
              0.4444444444444444,
              "#bd3786"
             ],
             [
              0.5555555555555556,
              "#d8576b"
             ],
             [
              0.6666666666666666,
              "#ed7953"
             ],
             [
              0.7777777777777778,
              "#fb9f3a"
             ],
             [
              0.8888888888888888,
              "#fdca26"
             ],
             [
              1,
              "#f0f921"
             ]
            ],
            "type": "surface"
           }
          ],
          "table": [
           {
            "cells": {
             "fill": {
              "color": "#EBF0F8"
             },
             "line": {
              "color": "white"
             }
            },
            "header": {
             "fill": {
              "color": "#C8D4E3"
             },
             "line": {
              "color": "white"
             }
            },
            "type": "table"
           }
          ]
         },
         "layout": {
          "annotationdefaults": {
           "arrowcolor": "#2a3f5f",
           "arrowhead": 0,
           "arrowwidth": 1
          },
          "autotypenumbers": "strict",
          "coloraxis": {
           "colorbar": {
            "outlinewidth": 0,
            "ticks": ""
           }
          },
          "colorscale": {
           "diverging": [
            [
             0,
             "#8e0152"
            ],
            [
             0.1,
             "#c51b7d"
            ],
            [
             0.2,
             "#de77ae"
            ],
            [
             0.3,
             "#f1b6da"
            ],
            [
             0.4,
             "#fde0ef"
            ],
            [
             0.5,
             "#f7f7f7"
            ],
            [
             0.6,
             "#e6f5d0"
            ],
            [
             0.7,
             "#b8e186"
            ],
            [
             0.8,
             "#7fbc41"
            ],
            [
             0.9,
             "#4d9221"
            ],
            [
             1,
             "#276419"
            ]
           ],
           "sequential": [
            [
             0,
             "#0d0887"
            ],
            [
             0.1111111111111111,
             "#46039f"
            ],
            [
             0.2222222222222222,
             "#7201a8"
            ],
            [
             0.3333333333333333,
             "#9c179e"
            ],
            [
             0.4444444444444444,
             "#bd3786"
            ],
            [
             0.5555555555555556,
             "#d8576b"
            ],
            [
             0.6666666666666666,
             "#ed7953"
            ],
            [
             0.7777777777777778,
             "#fb9f3a"
            ],
            [
             0.8888888888888888,
             "#fdca26"
            ],
            [
             1,
             "#f0f921"
            ]
           ],
           "sequentialminus": [
            [
             0,
             "#0d0887"
            ],
            [
             0.1111111111111111,
             "#46039f"
            ],
            [
             0.2222222222222222,
             "#7201a8"
            ],
            [
             0.3333333333333333,
             "#9c179e"
            ],
            [
             0.4444444444444444,
             "#bd3786"
            ],
            [
             0.5555555555555556,
             "#d8576b"
            ],
            [
             0.6666666666666666,
             "#ed7953"
            ],
            [
             0.7777777777777778,
             "#fb9f3a"
            ],
            [
             0.8888888888888888,
             "#fdca26"
            ],
            [
             1,
             "#f0f921"
            ]
           ]
          },
          "colorway": [
           "#636efa",
           "#EF553B",
           "#00cc96",
           "#ab63fa",
           "#FFA15A",
           "#19d3f3",
           "#FF6692",
           "#B6E880",
           "#FF97FF",
           "#FECB52"
          ],
          "font": {
           "color": "#2a3f5f"
          },
          "geo": {
           "bgcolor": "white",
           "lakecolor": "white",
           "landcolor": "#E5ECF6",
           "showlakes": true,
           "showland": true,
           "subunitcolor": "white"
          },
          "hoverlabel": {
           "align": "left"
          },
          "hovermode": "closest",
          "mapbox": {
           "style": "light"
          },
          "paper_bgcolor": "white",
          "plot_bgcolor": "#E5ECF6",
          "polar": {
           "angularaxis": {
            "gridcolor": "white",
            "linecolor": "white",
            "ticks": ""
           },
           "bgcolor": "#E5ECF6",
           "radialaxis": {
            "gridcolor": "white",
            "linecolor": "white",
            "ticks": ""
           }
          },
          "scene": {
           "xaxis": {
            "backgroundcolor": "#E5ECF6",
            "gridcolor": "white",
            "gridwidth": 2,
            "linecolor": "white",
            "showbackground": true,
            "ticks": "",
            "zerolinecolor": "white"
           },
           "yaxis": {
            "backgroundcolor": "#E5ECF6",
            "gridcolor": "white",
            "gridwidth": 2,
            "linecolor": "white",
            "showbackground": true,
            "ticks": "",
            "zerolinecolor": "white"
           },
           "zaxis": {
            "backgroundcolor": "#E5ECF6",
            "gridcolor": "white",
            "gridwidth": 2,
            "linecolor": "white",
            "showbackground": true,
            "ticks": "",
            "zerolinecolor": "white"
           }
          },
          "shapedefaults": {
           "line": {
            "color": "#2a3f5f"
           }
          },
          "ternary": {
           "aaxis": {
            "gridcolor": "white",
            "linecolor": "white",
            "ticks": ""
           },
           "baxis": {
            "gridcolor": "white",
            "linecolor": "white",
            "ticks": ""
           },
           "bgcolor": "#E5ECF6",
           "caxis": {
            "gridcolor": "white",
            "linecolor": "white",
            "ticks": ""
           }
          },
          "title": {
           "x": 0.05
          },
          "xaxis": {
           "automargin": true,
           "gridcolor": "white",
           "linecolor": "white",
           "ticks": "",
           "title": {
            "standoff": 15
           },
           "zerolinecolor": "white",
           "zerolinewidth": 2
          },
          "yaxis": {
           "automargin": true,
           "gridcolor": "white",
           "linecolor": "white",
           "ticks": "",
           "title": {
            "standoff": 15
           },
           "zerolinecolor": "white",
           "zerolinewidth": 2
          }
         }
        },
        "title": {
         "text": "Répartition des applications gratuites vs payantes"
        }
       }
      }
     },
     "metadata": {},
     "output_type": "display_data"
    }
   ],
   "source": [
    "type_counts = df[\"Type\"].value_counts().reset_index()\n",
    "type_counts.columns = [\"Type\", \"Count\"]\n",
    "\n",
    "fig = px.pie(\n",
    "    type_counts,\n",
    "    names=\"Type\",\n",
    "    values=\"Count\",\n",
    "    title=\"Répartition des applications gratuites vs payantes\",\n",
    "    color=\"Type\",\n",
    "    color_discrete_map={\n",
    "        \"Free\": \"#6cc5ec\",\n",
    "        \"Paid\": \"#ec7282\"\n",
    "    },\n",
    ")\n",
    "\n",
    "fig.update_traces(textinfo=\"percent+label\", pull=[0.05, 0]) \n",
    "\n",
    "fig.update_layout(\n",
    "    showlegend=True,\n",
    "    font=dict(size=14)\n",
    ")\n",
    "\n",
    "fig.show()\n"
   ]
  },
  {
   "cell_type": "markdown",
   "id": "b1b4ca97",
   "metadata": {},
   "source": [
    "#### Et ensuite, la répartition du nombre de téléchargement. Ce qui va nous indiquer la répartition du marché."
   ]
  },
  {
   "cell_type": "code",
   "execution_count": 8,
   "id": "ca9d02a1",
   "metadata": {},
   "outputs": [
    {
     "name": "stderr",
     "output_type": "stream",
     "text": [
      "C:\\Users\\paulv\\AppData\\Local\\Temp\\ipykernel_22164\\1494242398.py:3: FutureWarning:\n",
      "\n",
      "\n",
      "\n",
      "Passing `palette` without assigning `hue` is deprecated and will be removed in v0.14.0. Assign the `x` variable to `hue` and set `legend=False` for the same effect.\n",
      "\n",
      "\n"
     ]
    },
    {
     "data": {
      "image/png": "[encoded data removed]",
      "text/plain": [
       "<Figure size 1400x600 with 1 Axes>"
      ]
     },
     "metadata": {},
     "output_type": "display_data"
    }
   ],
   "source": [
    "order = df['Installs'].value_counts().sort_values(ascending=False).index\n",
    "plt.figure(figsize=(14, 6))\n",
    "sns.countplot(x=\"Installs\", data=df, palette=\"Set1\", order=order)\n",
    "plt.xticks(rotation=45)\n",
    "plt.tight_layout()\n",
    "plt.show()"
   ]
  },
  {
   "cell_type": "code",
   "execution_count": 9,
   "id": "4c113869",
   "metadata": {},
   "outputs": [
    {
     "name": "stdout",
     "output_type": "stream",
     "text": [
      "Téléchargements moyens : 15,464,339\n",
      "Téléchargements médians : 100,000\n"
     ]
    }
   ],
   "source": [
    "df = df[df[\"Installs\"].str.contains(r\"^\\d\", na=False)] #Pour supprimer les colonnes qui possèdent potentiellement des erreurs\n",
    "df[\"Installs_clean\"] = df[\"Installs\"].str.replace(r\"[+,]\", \"\", regex=True).astype(int)\n",
    "\n",
    "mean_installs = df[\"Installs_clean\"].mean()\n",
    "median_installs = df[\"Installs_clean\"].median() ### Vérifier \n",
    "\n",
    "print(f\"Téléchargements moyens : {mean_installs:,.0f}\")\n",
    "print(f\"Téléchargements médians : {median_installs:,.0f}\")\n"
   ]
  },
  {
   "cell_type": "markdown",
   "id": "681e9c9c",
   "metadata": {},
   "source": [
    "#### Le marché des apps est dominé par une minorité de blockbusters. La majorité des applications restent en dessous de 100 000 téléchargements, ce qui indique un marché compétitif et inégalitaire."
   ]
  },
  {
   "cell_type": "markdown",
   "id": "a29f4e4c",
   "metadata": {},
   "source": [
    "## 2. Détecter les segments porteurs"
   ]
  },
  {
   "cell_type": "markdown",
   "id": "eb5d9634",
   "metadata": {},
   "source": [
    "#### L'objectif est de trouver une ou plusieurs catégories qui peuvent représenter un bon secteur d'investissement."
   ]
  },
  {
   "cell_type": "code",
   "execution_count": 10,
   "id": "5825a3d4",
   "metadata": {},
   "outputs": [
    {
     "data": {
      "text/plain": [
       "array([4.1, 3.9, 4.7, 4.5, 4.3, 4.4, 3.8, 4.2, 4.6, 3.2, 4. , nan, 4.8,\n",
       "       4.9, 3.6, 3.7, 3.3, 3.4, 3.5, 3.1, 5. , 2.6, 3. , 1.9, 2.5, 2.8,\n",
       "       2.7, 1. , 2.9, 2.3, 2.2, 1.7, 2. , 1.8, 2.4, 1.6, 2.1, 1.4, 1.5,\n",
       "       1.2])"
      ]
     },
     "execution_count": 10,
     "metadata": {},
     "output_type": "execute_result"
    }
   ],
   "source": [
    "df[\"Rating\"].unique()"
   ]
  },
  {
   "cell_type": "code",
   "execution_count": 11,
   "id": "3c9ce7cd",
   "metadata": {},
   "outputs": [
    {
     "data": {
      "text/plain": [
       "Series([], Name: count, dtype: int64)"
      ]
     },
     "execution_count": 11,
     "metadata": {},
     "output_type": "execute_result"
    }
   ],
   "source": [
    "df[pd.isna(df[\"Rating\"])].value_counts()"
   ]
  },
  {
   "cell_type": "code",
   "execution_count": 12,
   "id": "c9f002aa",
   "metadata": {},
   "outputs": [],
   "source": [
    "df = df.dropna(subset=['Rating'])"
   ]
  },
  {
   "cell_type": "markdown",
   "id": "0f1d42c2",
   "metadata": {},
   "source": [
    "#### Pour la suite, nous allons regrouper les données par catégorie afin de calculer le nombre moyen de téléchargements par application, le nombre d'applications, ainsi que la note moyenne par application."
   ]
  },
  {
   "cell_type": "code",
   "execution_count": 13,
   "id": "02a2784f",
   "metadata": {},
   "outputs": [],
   "source": [
    "segment_stats = df.groupby(\"Category\").agg({\n",
    "    \"App\": \"count\",\n",
    "    \"Rating\": \"mean\",\n",
    "    \"Installs_clean\": \"median\"\n",
    "}).rename(columns={\n",
    "    \"App\": \"App Count\",\n",
    "    \"Rating\": \"Average Rating\",\n",
    "    \"Installs_clean\": \"Median Installs\"\n",
    "}).reset_index()\n"
   ]
  },
  {
   "cell_type": "markdown",
   "id": "b1ae01a4",
   "metadata": {},
   "source": [
    "#### Puis on trace le nombre de téléchargement en fonction de la note moyenne. "
   ]
  },
  {
   "cell_type": "code",
   "execution_count": 14,
   "id": "ffbb9bfa",
   "metadata": {},
   "outputs": [
    {
     "data": {
      "application/vnd.plotly.v1+json": {
       "config": {
        "plotlyServerURL": "https://plot.ly"
       },
       "data": [
        {
         "hovertemplate": "<b>%{hovertext}</b><br><br>Category=ART_AND_DESIGN<br>Average Rating=%{x}<br>Median Installs=%{y}<br>App Count=%{marker.size}<extra></extra>",
         "hovertext": [
          "ART_AND_DESIGN"
         ],
         "legendgroup": "ART_AND_DESIGN",
         "marker": {
          "color": "#636efa",
          "size": [
           62
          ],
          "sizemode": "area",
          "sizeref": 0.48527777777777775,
          "symbol": "circle"
         },
         "mode": "markers",
         "name": "ART_AND_DESIGN",
         "orientation": "v",
         "showlegend": true,
         "type": "scatter",
         "x": [
          4.358064516129032
         ],
         "xaxis": "x",
         "y": [
          100000
         ],
         "yaxis": "y"
        },
        {
         "hovertemplate": "<b>%{hovertext}</b><br><br>Category=AUTO_AND_VEHICLES<br>Average Rating=%{x}<br>Median Installs=%{y}<br>App Count=%{marker.size}<extra></extra>",
         "hovertext": [
          "AUTO_AND_VEHICLES"
         ],
         "legendgroup": "AUTO_AND_VEHICLES",
         "marker": {
          "color": "#EF553B",
          "size": [
           73
          ],
          "sizemode": "area",
          "sizeref": 0.48527777777777775,
          "symbol": "circle"
         },
         "mode": "markers",
         "name": "AUTO_AND_VEHICLES",
         "orientation": "v",
         "showlegend": true,
         "type": "scatter",
         "x": [
          4.190410958904109
         ],
         "xaxis": "x",
         "y": [
          100000
         ],
         "yaxis": "y"
        },
        {
         "hovertemplate": "<b>%{hovertext}</b><br><br>Category=BEAUTY<br>Average Rating=%{x}<br>Median Installs=%{y}<br>App Count=%{marker.size}<extra></extra>",
         "hovertext": [
          "BEAUTY"
         ],
         "legendgroup": "BEAUTY",
         "marker": {
          "color": "#00cc96",
          "size": [
           42
          ],
          "sizemode": "area",
          "sizeref": 0.48527777777777775,
          "symbol": "circle"
         },
         "mode": "markers",
         "name": "BEAUTY",
         "orientation": "v",
         "showlegend": true,
         "type": "scatter",
         "x": [
          4.2785714285714285
         ],
         "xaxis": "x",
         "y": [
          100000
         ],
         "yaxis": "y"
        },
        {
         "hovertemplate": "<b>%{hovertext}</b><br><br>Category=BOOKS_AND_REFERENCE<br>Average Rating=%{x}<br>Median Installs=%{y}<br>App Count=%{marker.size}<extra></extra>",
         "hovertext": [
          "BOOKS_AND_REFERENCE"
         ],
         "legendgroup": "BOOKS_AND_REFERENCE",
         "marker": {
          "color": "#ab63fa",
          "size": [
           178
          ],
          "sizemode": "area",
          "sizeref": 0.48527777777777775,
          "symbol": "circle"
         },
         "mode": "markers",
         "name": "BOOKS_AND_REFERENCE",
         "orientation": "v",
         "showlegend": true,
         "type": "scatter",
         "x": [
          4.346067415730337
         ],
         "xaxis": "x",
         "y": [
          100000
         ],
         "yaxis": "y"
        },
        {
         "hovertemplate": "<b>%{hovertext}</b><br><br>Category=BUSINESS<br>Average Rating=%{x}<br>Median Installs=%{y}<br>App Count=%{marker.size}<extra></extra>",
         "hovertext": [
          "BUSINESS"
         ],
         "legendgroup": "BUSINESS",
         "marker": {
          "color": "#FFA15A",
          "size": [
           303
          ],
          "sizemode": "area",
          "sizeref": 0.48527777777777775,
          "symbol": "circle"
         },
         "mode": "markers",
         "name": "BUSINESS",
         "orientation": "v",
         "showlegend": true,
         "type": "scatter",
         "x": [
          4.121452145214521
         ],
         "xaxis": "x",
         "y": [
          50000
         ],
         "yaxis": "y"
        },
        {
         "hovertemplate": "<b>%{hovertext}</b><br><br>Category=COMICS<br>Average Rating=%{x}<br>Median Installs=%{y}<br>App Count=%{marker.size}<extra></extra>",
         "hovertext": [
          "COMICS"
         ],
         "legendgroup": "COMICS",
         "marker": {
          "color": "#19d3f3",
          "size": [
           58
          ],
          "sizemode": "area",
          "sizeref": 0.48527777777777775,
          "symbol": "circle"
         },
         "mode": "markers",
         "name": "COMICS",
         "orientation": "v",
         "showlegend": true,
         "type": "scatter",
         "x": [
          4.155172413793103
         ],
         "xaxis": "x",
         "y": [
          100000
         ],
         "yaxis": "y"
        },
        {
         "hovertemplate": "<b>%{hovertext}</b><br><br>Category=COMMUNICATION<br>Average Rating=%{x}<br>Median Installs=%{y}<br>App Count=%{marker.size}<extra></extra>",
         "hovertext": [
          "COMMUNICATION"
         ],
         "legendgroup": "COMMUNICATION",
         "marker": {
          "color": "#FF6692",
          "size": [
           328
          ],
          "sizemode": "area",
          "sizeref": 0.48527777777777775,
          "symbol": "circle"
         },
         "mode": "markers",
         "name": "COMMUNICATION",
         "orientation": "v",
         "showlegend": true,
         "type": "scatter",
         "x": [
          4.158536585365853
         ],
         "xaxis": "x",
         "y": [
          5000000
         ],
         "yaxis": "y"
        },
        {
         "hovertemplate": "<b>%{hovertext}</b><br><br>Category=DATING<br>Average Rating=%{x}<br>Median Installs=%{y}<br>App Count=%{marker.size}<extra></extra>",
         "hovertext": [
          "DATING"
         ],
         "legendgroup": "DATING",
         "marker": {
          "color": "#B6E880",
          "size": [
           195
          ],
          "sizemode": "area",
          "sizeref": 0.48527777777777775,
          "symbol": "circle"
         },
         "mode": "markers",
         "name": "DATING",
         "orientation": "v",
         "showlegend": true,
         "type": "scatter",
         "x": [
          3.9707692307692306
         ],
         "xaxis": "x",
         "y": [
          100000
         ],
         "yaxis": "y"
        },
        {
         "hovertemplate": "<b>%{hovertext}</b><br><br>Category=EDUCATION<br>Average Rating=%{x}<br>Median Installs=%{y}<br>App Count=%{marker.size}<extra></extra>",
         "hovertext": [
          "EDUCATION"
         ],
         "legendgroup": "EDUCATION",
         "marker": {
          "color": "#FF97FF",
          "size": [
           155
          ],
          "sizemode": "area",
          "sizeref": 0.48527777777777775,
          "symbol": "circle"
         },
         "mode": "markers",
         "name": "EDUCATION",
         "orientation": "v",
         "showlegend": true,
         "type": "scatter",
         "x": [
          4.389032258064516
         ],
         "xaxis": "x",
         "y": [
          1000000
         ],
         "yaxis": "y"
        },
        {
         "hovertemplate": "<b>%{hovertext}</b><br><br>Category=ENTERTAINMENT<br>Average Rating=%{x}<br>Median Installs=%{y}<br>App Count=%{marker.size}<extra></extra>",
         "hovertext": [
          "ENTERTAINMENT"
         ],
         "legendgroup": "ENTERTAINMENT",
         "marker": {
          "color": "#FECB52",
          "size": [
           149
          ],
          "sizemode": "area",
          "sizeref": 0.48527777777777775,
          "symbol": "circle"
         },
         "mode": "markers",
         "name": "ENTERTAINMENT",
         "orientation": "v",
         "showlegend": true,
         "type": "scatter",
         "x": [
          4.126174496644295
         ],
         "xaxis": "x",
         "y": [
          5000000
         ],
         "yaxis": "y"
        },
        {
         "hovertemplate": "<b>%{hovertext}</b><br><br>Category=EVENTS<br>Average Rating=%{x}<br>Median Installs=%{y}<br>App Count=%{marker.size}<extra></extra>",
         "hovertext": [
          "EVENTS"
         ],
         "legendgroup": "EVENTS",
         "marker": {
          "color": "#636efa",
          "size": [
           45
          ],
          "sizemode": "area",
          "sizeref": 0.48527777777777775,
          "symbol": "circle"
         },
         "mode": "markers",
         "name": "EVENTS",
         "orientation": "v",
         "showlegend": true,
         "type": "scatter",
         "x": [
          4.435555555555555
         ],
         "xaxis": "x",
         "y": [
          50000
         ],
         "yaxis": "y"
        },
        {
         "hovertemplate": "<b>%{hovertext}</b><br><br>Category=FAMILY<br>Average Rating=%{x}<br>Median Installs=%{y}<br>App Count=%{marker.size}<extra></extra>",
         "hovertext": [
          "FAMILY"
         ],
         "legendgroup": "FAMILY",
         "marker": {
          "color": "#EF553B",
          "size": [
           1747
          ],
          "sizemode": "area",
          "sizeref": 0.48527777777777775,
          "symbol": "circle"
         },
         "mode": "markers",
         "name": "FAMILY",
         "orientation": "v",
         "showlegend": true,
         "type": "scatter",
         "x": [
          4.1922724670864335
         ],
         "xaxis": "x",
         "y": [
          100000
         ],
         "yaxis": "y"
        },
        {
         "hovertemplate": "<b>%{hovertext}</b><br><br>Category=FINANCE<br>Average Rating=%{x}<br>Median Installs=%{y}<br>App Count=%{marker.size}<extra></extra>",
         "hovertext": [
          "FINANCE"
         ],
         "legendgroup": "FINANCE",
         "marker": {
          "color": "#00cc96",
          "size": [
           323
          ],
          "sizemode": "area",
          "sizeref": 0.48527777777777775,
          "symbol": "circle"
         },
         "mode": "markers",
         "name": "FINANCE",
         "orientation": "v",
         "showlegend": true,
         "type": "scatter",
         "x": [
          4.13188854489164
         ],
         "xaxis": "x",
         "y": [
          100000
         ],
         "yaxis": "y"
        },
        {
         "hovertemplate": "<b>%{hovertext}</b><br><br>Category=FOOD_AND_DRINK<br>Average Rating=%{x}<br>Median Installs=%{y}<br>App Count=%{marker.size}<extra></extra>",
         "hovertext": [
          "FOOD_AND_DRINK"
         ],
         "legendgroup": "FOOD_AND_DRINK",
         "marker": {
          "color": "#ab63fa",
          "size": [
           109
          ],
          "sizemode": "area",
          "sizeref": 0.48527777777777775,
          "symbol": "circle"
         },
         "mode": "markers",
         "name": "FOOD_AND_DRINK",
         "orientation": "v",
         "showlegend": true,
         "type": "scatter",
         "x": [
          4.1669724770642205
         ],
         "xaxis": "x",
         "y": [
          1000000
         ],
         "yaxis": "y"
        },
        {
         "hovertemplate": "<b>%{hovertext}</b><br><br>Category=GAME<br>Average Rating=%{x}<br>Median Installs=%{y}<br>App Count=%{marker.size}<extra></extra>",
         "hovertext": [
          "GAME"
         ],
         "legendgroup": "GAME",
         "marker": {
          "color": "#FFA15A",
          "size": [
           1097
          ],
          "sizemode": "area",
          "sizeref": 0.48527777777777775,
          "symbol": "circle"
         },
         "mode": "markers",
         "name": "GAME",
         "orientation": "v",
         "showlegend": true,
         "type": "scatter",
         "x": [
          4.286326344576117
         ],
         "xaxis": "x",
         "y": [
          5000000
         ],
         "yaxis": "y"
        },
        {
         "hovertemplate": "<b>%{hovertext}</b><br><br>Category=HEALTH_AND_FITNESS<br>Average Rating=%{x}<br>Median Installs=%{y}<br>App Count=%{marker.size}<extra></extra>",
         "hovertext": [
          "HEALTH_AND_FITNESS"
         ],
         "legendgroup": "HEALTH_AND_FITNESS",
         "marker": {
          "color": "#19d3f3",
          "size": [
           297
          ],
          "sizemode": "area",
          "sizeref": 0.48527777777777775,
          "symbol": "circle"
         },
         "mode": "markers",
         "name": "HEALTH_AND_FITNESS",
         "orientation": "v",
         "showlegend": true,
         "type": "scatter",
         "x": [
          4.277104377104377
         ],
         "xaxis": "x",
         "y": [
          1000000
         ],
         "yaxis": "y"
        },
        {
         "hovertemplate": "<b>%{hovertext}</b><br><br>Category=HOUSE_AND_HOME<br>Average Rating=%{x}<br>Median Installs=%{y}<br>App Count=%{marker.size}<extra></extra>",
         "hovertext": [
          "HOUSE_AND_HOME"
         ],
         "legendgroup": "HOUSE_AND_HOME",
         "marker": {
          "color": "#FF6692",
          "size": [
           76
          ],
          "sizemode": "area",
          "sizeref": 0.48527777777777775,
          "symbol": "circle"
         },
         "mode": "markers",
         "name": "HOUSE_AND_HOME",
         "orientation": "v",
         "showlegend": true,
         "type": "scatter",
         "x": [
          4.197368421052632
         ],
         "xaxis": "x",
         "y": [
          1000000
         ],
         "yaxis": "y"
        },
        {
         "hovertemplate": "<b>%{hovertext}</b><br><br>Category=LIBRARIES_AND_DEMO<br>Average Rating=%{x}<br>Median Installs=%{y}<br>App Count=%{marker.size}<extra></extra>",
         "hovertext": [
          "LIBRARIES_AND_DEMO"
         ],
         "legendgroup": "LIBRARIES_AND_DEMO",
         "marker": {
          "color": "#B6E880",
          "size": [
           65
          ],
          "sizemode": "area",
          "sizeref": 0.48527777777777775,
          "symbol": "circle"
         },
         "mode": "markers",
         "name": "LIBRARIES_AND_DEMO",
         "orientation": "v",
         "showlegend": true,
         "type": "scatter",
         "x": [
          4.178461538461539
         ],
         "xaxis": "x",
         "y": [
          50000
         ],
         "yaxis": "y"
        },
        {
         "hovertemplate": "<b>%{hovertext}</b><br><br>Category=LIFESTYLE<br>Average Rating=%{x}<br>Median Installs=%{y}<br>App Count=%{marker.size}<extra></extra>",
         "hovertext": [
          "LIFESTYLE"
         ],
         "legendgroup": "LIFESTYLE",
         "marker": {
          "color": "#FF97FF",
          "size": [
           314
          ],
          "sizemode": "area",
          "sizeref": 0.48527777777777775,
          "symbol": "circle"
         },
         "mode": "markers",
         "name": "LIFESTYLE",
         "orientation": "v",
         "showlegend": true,
         "type": "scatter",
         "x": [
          4.094904458598726
         ],
         "xaxis": "x",
         "y": [
          50000
         ],
         "yaxis": "y"
        },
        {
         "hovertemplate": "<b>%{hovertext}</b><br><br>Category=MAPS_AND_NAVIGATION<br>Average Rating=%{x}<br>Median Installs=%{y}<br>App Count=%{marker.size}<extra></extra>",
         "hovertext": [
          "MAPS_AND_NAVIGATION"
         ],
         "legendgroup": "MAPS_AND_NAVIGATION",
         "marker": {
          "color": "#FECB52",
          "size": [
           124
          ],
          "sizemode": "area",
          "sizeref": 0.48527777777777775,
          "symbol": "circle"
         },
         "mode": "markers",
         "name": "MAPS_AND_NAVIGATION",
         "orientation": "v",
         "showlegend": true,
         "type": "scatter",
         "x": [
          4.051612903225807
         ],
         "xaxis": "x",
         "y": [
          500000
         ],
         "yaxis": "y"
        },
        {
         "hovertemplate": "<b>%{hovertext}</b><br><br>Category=MEDICAL<br>Average Rating=%{x}<br>Median Installs=%{y}<br>App Count=%{marker.size}<extra></extra>",
         "hovertext": [
          "MEDICAL"
         ],
         "legendgroup": "MEDICAL",
         "marker": {
          "color": "#636efa",
          "size": [
           350
          ],
          "sizemode": "area",
          "sizeref": 0.48527777777777775,
          "symbol": "circle"
         },
         "mode": "markers",
         "name": "MEDICAL",
         "orientation": "v",
         "showlegend": true,
         "type": "scatter",
         "x": [
          4.1891428571428575
         ],
         "xaxis": "x",
         "y": [
          10000
         ],
         "yaxis": "y"
        },
        {
         "hovertemplate": "<b>%{hovertext}</b><br><br>Category=NEWS_AND_MAGAZINES<br>Average Rating=%{x}<br>Median Installs=%{y}<br>App Count=%{marker.size}<extra></extra>",
         "hovertext": [
          "NEWS_AND_MAGAZINES"
         ],
         "legendgroup": "NEWS_AND_MAGAZINES",
         "marker": {
          "color": "#EF553B",
          "size": [
           233
          ],
          "sizemode": "area",
          "sizeref": 0.48527777777777775,
          "symbol": "circle"
         },
         "mode": "markers",
         "name": "NEWS_AND_MAGAZINES",
         "orientation": "v",
         "showlegend": true,
         "type": "scatter",
         "x": [
          4.1321888412017165
         ],
         "xaxis": "x",
         "y": [
          500000
         ],
         "yaxis": "y"
        },
        {
         "hovertemplate": "<b>%{hovertext}</b><br><br>Category=PARENTING<br>Average Rating=%{x}<br>Median Installs=%{y}<br>App Count=%{marker.size}<extra></extra>",
         "hovertext": [
          "PARENTING"
         ],
         "legendgroup": "PARENTING",
         "marker": {
          "color": "#00cc96",
          "size": [
           50
          ],
          "sizemode": "area",
          "sizeref": 0.48527777777777775,
          "symbol": "circle"
         },
         "mode": "markers",
         "name": "PARENTING",
         "orientation": "v",
         "showlegend": true,
         "type": "scatter",
         "x": [
          4.3
         ],
         "xaxis": "x",
         "y": [
          100000
         ],
         "yaxis": "y"
        },
        {
         "hovertemplate": "<b>%{hovertext}</b><br><br>Category=PERSONALIZATION<br>Average Rating=%{x}<br>Median Installs=%{y}<br>App Count=%{marker.size}<extra></extra>",
         "hovertext": [
          "PERSONALIZATION"
         ],
         "legendgroup": "PERSONALIZATION",
         "marker": {
          "color": "#ab63fa",
          "size": [
           314
          ],
          "sizemode": "area",
          "sizeref": 0.48527777777777775,
          "symbol": "circle"
         },
         "mode": "markers",
         "name": "PERSONALIZATION",
         "orientation": "v",
         "showlegend": true,
         "type": "scatter",
         "x": [
          4.335987261146497
         ],
         "xaxis": "x",
         "y": [
          100000
         ],
         "yaxis": "y"
        },
        {
         "hovertemplate": "<b>%{hovertext}</b><br><br>Category=PHOTOGRAPHY<br>Average Rating=%{x}<br>Median Installs=%{y}<br>App Count=%{marker.size}<extra></extra>",
         "hovertext": [
          "PHOTOGRAPHY"
         ],
         "legendgroup": "PHOTOGRAPHY",
         "marker": {
          "color": "#FFA15A",
          "size": [
           317
          ],
          "sizemode": "area",
          "sizeref": 0.48527777777777775,
          "symbol": "circle"
         },
         "mode": "markers",
         "name": "PHOTOGRAPHY",
         "orientation": "v",
         "showlegend": true,
         "type": "scatter",
         "x": [
          4.19211356466877
         ],
         "xaxis": "x",
         "y": [
          5000000
         ],
         "yaxis": "y"
        },
        {
         "hovertemplate": "<b>%{hovertext}</b><br><br>Category=PRODUCTIVITY<br>Average Rating=%{x}<br>Median Installs=%{y}<br>App Count=%{marker.size}<extra></extra>",
         "hovertext": [
          "PRODUCTIVITY"
         ],
         "legendgroup": "PRODUCTIVITY",
         "marker": {
          "color": "#19d3f3",
          "size": [
           351
          ],
          "sizemode": "area",
          "sizeref": 0.48527777777777775,
          "symbol": "circle"
         },
         "mode": "markers",
         "name": "PRODUCTIVITY",
         "orientation": "v",
         "showlegend": true,
         "type": "scatter",
         "x": [
          4.211396011396012
         ],
         "xaxis": "x",
         "y": [
          1000000
         ],
         "yaxis": "y"
        },
        {
         "hovertemplate": "<b>%{hovertext}</b><br><br>Category=SHOPPING<br>Average Rating=%{x}<br>Median Installs=%{y}<br>App Count=%{marker.size}<extra></extra>",
         "hovertext": [
          "SHOPPING"
         ],
         "legendgroup": "SHOPPING",
         "marker": {
          "color": "#FF6692",
          "size": [
           238
          ],
          "sizemode": "area",
          "sizeref": 0.48527777777777775,
          "symbol": "circle"
         },
         "mode": "markers",
         "name": "SHOPPING",
         "orientation": "v",
         "showlegend": true,
         "type": "scatter",
         "x": [
          4.2596638655462185
         ],
         "xaxis": "x",
         "y": [
          1000000
         ],
         "yaxis": "y"
        },
        {
         "hovertemplate": "<b>%{hovertext}</b><br><br>Category=SOCIAL<br>Average Rating=%{x}<br>Median Installs=%{y}<br>App Count=%{marker.size}<extra></extra>",
         "hovertext": [
          "SOCIAL"
         ],
         "legendgroup": "SOCIAL",
         "marker": {
          "color": "#B6E880",
          "size": [
           259
          ],
          "sizemode": "area",
          "sizeref": 0.48527777777777775,
          "symbol": "circle"
         },
         "mode": "markers",
         "name": "SOCIAL",
         "orientation": "v",
         "showlegend": true,
         "type": "scatter",
         "x": [
          4.255598455598456
         ],
         "xaxis": "x",
         "y": [
          1000000
         ],
         "yaxis": "y"
        },
        {
         "hovertemplate": "<b>%{hovertext}</b><br><br>Category=SPORTS<br>Average Rating=%{x}<br>Median Installs=%{y}<br>App Count=%{marker.size}<extra></extra>",
         "hovertext": [
          "SPORTS"
         ],
         "legendgroup": "SPORTS",
         "marker": {
          "color": "#FF97FF",
          "size": [
           319
          ],
          "sizemode": "area",
          "sizeref": 0.48527777777777775,
          "symbol": "circle"
         },
         "mode": "markers",
         "name": "SPORTS",
         "orientation": "v",
         "showlegend": true,
         "type": "scatter",
         "x": [
          4.223510971786833
         ],
         "xaxis": "x",
         "y": [
          1000000
         ],
         "yaxis": "y"
        },
        {
         "hovertemplate": "<b>%{hovertext}</b><br><br>Category=TOOLS<br>Average Rating=%{x}<br>Median Installs=%{y}<br>App Count=%{marker.size}<extra></extra>",
         "hovertext": [
          "TOOLS"
         ],
         "legendgroup": "TOOLS",
         "marker": {
          "color": "#FECB52",
          "size": [
           734
          ],
          "sizemode": "area",
          "sizeref": 0.48527777777777775,
          "symbol": "circle"
         },
         "mode": "markers",
         "name": "TOOLS",
         "orientation": "v",
         "showlegend": true,
         "type": "scatter",
         "x": [
          4.04741144414169
         ],
         "xaxis": "x",
         "y": [
          100000
         ],
         "yaxis": "y"
        },
        {
         "hovertemplate": "<b>%{hovertext}</b><br><br>Category=TRAVEL_AND_LOCAL<br>Average Rating=%{x}<br>Median Installs=%{y}<br>App Count=%{marker.size}<extra></extra>",
         "hovertext": [
          "TRAVEL_AND_LOCAL"
         ],
         "legendgroup": "TRAVEL_AND_LOCAL",
         "marker": {
          "color": "#636efa",
          "size": [
           226
          ],
          "sizemode": "area",
          "sizeref": 0.48527777777777775,
          "symbol": "circle"
         },
         "mode": "markers",
         "name": "TRAVEL_AND_LOCAL",
         "orientation": "v",
         "showlegend": true,
         "type": "scatter",
         "x": [
          4.10929203539823
         ],
         "xaxis": "x",
         "y": [
          1000000
         ],
         "yaxis": "y"
        },
        {
         "hovertemplate": "<b>%{hovertext}</b><br><br>Category=VIDEO_PLAYERS<br>Average Rating=%{x}<br>Median Installs=%{y}<br>App Count=%{marker.size}<extra></extra>",
         "hovertext": [
          "VIDEO_PLAYERS"
         ],
         "legendgroup": "VIDEO_PLAYERS",
         "marker": {
          "color": "#EF553B",
          "size": [
           160
          ],
          "sizemode": "area",
          "sizeref": 0.48527777777777775,
          "symbol": "circle"
         },
         "mode": "markers",
         "name": "VIDEO_PLAYERS",
         "orientation": "v",
         "showlegend": true,
         "type": "scatter",
         "x": [
          4.063750000000001
         ],
         "xaxis": "x",
         "y": [
          1000000
         ],
         "yaxis": "y"
        },
        {
         "hovertemplate": "<b>%{hovertext}</b><br><br>Category=WEATHER<br>Average Rating=%{x}<br>Median Installs=%{y}<br>App Count=%{marker.size}<extra></extra>",
         "hovertext": [
          "WEATHER"
         ],
         "legendgroup": "WEATHER",
         "marker": {
          "color": "#00cc96",
          "size": [
           75
          ],
          "sizemode": "area",
          "sizeref": 0.48527777777777775,
          "symbol": "circle"
         },
         "mode": "markers",
         "name": "WEATHER",
         "orientation": "v",
         "showlegend": true,
         "type": "scatter",
         "x": [
          4.244
         ],
         "xaxis": "x",
         "y": [
          1000000
         ],
         "yaxis": "y"
        }
       ],
       "layout": {
        "font": {
         "size": 14
        },
        "legend": {
         "itemsizing": "constant",
         "title": {
          "text": "Category"
         },
         "tracegroupgap": 0
        },
        "plot_bgcolor": "white",
        "template": {
         "data": {
          "bar": [
           {
            "error_x": {
             "color": "#2a3f5f"
            },
            "error_y": {
             "color": "#2a3f5f"
            },
            "marker": {
             "line": {
              "color": "#E5ECF6",
              "width": 0.5
             },
             "pattern": {
              "fillmode": "overlay",
              "size": 10,
              "solidity": 0.2
             }
            },
            "type": "bar"
           }
          ],
          "barpolar": [
           {
            "marker": {
             "line": {
              "color": "#E5ECF6",
              "width": 0.5
             },
             "pattern": {
              "fillmode": "overlay",
              "size": 10,
              "solidity": 0.2
             }
            },
            "type": "barpolar"
           }
          ],
          "carpet": [
           {
            "aaxis": {
             "endlinecolor": "#2a3f5f",
             "gridcolor": "white",
             "linecolor": "white",
             "minorgridcolor": "white",
             "startlinecolor": "#2a3f5f"
            },
            "baxis": {
             "endlinecolor": "#2a3f5f",
             "gridcolor": "white",
             "linecolor": "white",
             "minorgridcolor": "white",
             "startlinecolor": "#2a3f5f"
            },
            "type": "carpet"
           }
          ],
          "choropleth": [
           {
            "colorbar": {
             "outlinewidth": 0,
             "ticks": ""
            },
            "type": "choropleth"
           }
          ],
          "contour": [
           {
            "colorbar": {
             "outlinewidth": 0,
             "ticks": ""
            },
            "colorscale": [
             [
              0,
              "#0d0887"
             ],
             [
              0.1111111111111111,
              "#46039f"
             ],
             [
              0.2222222222222222,
              "#7201a8"
             ],
             [
              0.3333333333333333,
              "#9c179e"
             ],
             [
              0.4444444444444444,
              "#bd3786"
             ],
             [
              0.5555555555555556,
              "#d8576b"
             ],
             [
              0.6666666666666666,
              "#ed7953"
             ],
             [
              0.7777777777777778,
              "#fb9f3a"
             ],
             [
              0.8888888888888888,
              "#fdca26"
             ],
             [
              1,
              "#f0f921"
             ]
            ],
            "type": "contour"
           }
          ],
          "contourcarpet": [
           {
            "colorbar": {
             "outlinewidth": 0,
             "ticks": ""
            },
            "type": "contourcarpet"
           }
          ],
          "heatmap": [
           {
            "colorbar": {
             "outlinewidth": 0,
             "ticks": ""
            },
            "colorscale": [
             [
              0,
              "#0d0887"
             ],
             [
              0.1111111111111111,
              "#46039f"
             ],
             [
              0.2222222222222222,
              "#7201a8"
             ],
             [
              0.3333333333333333,
              "#9c179e"
             ],
             [
              0.4444444444444444,
              "#bd3786"
             ],
             [
              0.5555555555555556,
              "#d8576b"
             ],
             [
              0.6666666666666666,
              "#ed7953"
             ],
             [
              0.7777777777777778,
              "#fb9f3a"
             ],
             [
              0.8888888888888888,
              "#fdca26"
             ],
             [
              1,
              "#f0f921"
             ]
            ],
            "type": "heatmap"
           }
          ],
          "heatmapgl": [
           {
            "colorbar": {
             "outlinewidth": 0,
             "ticks": ""
            },
            "colorscale": [
             [
              0,
              "#0d0887"
             ],
             [
              0.1111111111111111,
              "#46039f"
             ],
             [
              0.2222222222222222,
              "#7201a8"
             ],
             [
              0.3333333333333333,
              "#9c179e"
             ],
             [
              0.4444444444444444,
              "#bd3786"
             ],
             [
              0.5555555555555556,
              "#d8576b"
             ],
             [
              0.6666666666666666,
              "#ed7953"
             ],
             [
              0.7777777777777778,
              "#fb9f3a"
             ],
             [
              0.8888888888888888,
              "#fdca26"
             ],
             [
              1,
              "#f0f921"
             ]
            ],
            "type": "heatmapgl"
           }
          ],
          "histogram": [
           {
            "marker": {
             "pattern": {
              "fillmode": "overlay",
              "size": 10,
              "solidity": 0.2
             }
            },
            "type": "histogram"
           }
          ],
          "histogram2d": [
           {
            "colorbar": {
             "outlinewidth": 0,
             "ticks": ""
            },
            "colorscale": [
             [
              0,
              "#0d0887"
             ],
             [
              0.1111111111111111,
              "#46039f"
             ],
             [
              0.2222222222222222,
              "#7201a8"
             ],
             [
              0.3333333333333333,
              "#9c179e"
             ],
             [
              0.4444444444444444,
              "#bd3786"
             ],
             [
              0.5555555555555556,
              "#d8576b"
             ],
             [
              0.6666666666666666,
              "#ed7953"
             ],
             [
              0.7777777777777778,
              "#fb9f3a"
             ],
             [
              0.8888888888888888,
              "#fdca26"
             ],
             [
              1,
              "#f0f921"
             ]
            ],
            "type": "histogram2d"
           }
          ],
          "histogram2dcontour": [
           {
            "colorbar": {
             "outlinewidth": 0,
             "ticks": ""
            },
            "colorscale": [
             [
              0,
              "#0d0887"
             ],
             [
              0.1111111111111111,
              "#46039f"
             ],
             [
              0.2222222222222222,
              "#7201a8"
             ],
             [
              0.3333333333333333,
              "#9c179e"
             ],
             [
              0.4444444444444444,
              "#bd3786"
             ],
             [
              0.5555555555555556,
              "#d8576b"
             ],
             [
              0.6666666666666666,
              "#ed7953"
             ],
             [
              0.7777777777777778,
              "#fb9f3a"
             ],
             [
              0.8888888888888888,
              "#fdca26"
             ],
             [
              1,
              "#f0f921"
             ]
            ],
            "type": "histogram2dcontour"
           }
          ],
          "mesh3d": [
           {
            "colorbar": {
             "outlinewidth": 0,
             "ticks": ""
            },
            "type": "mesh3d"
           }
          ],
          "parcoords": [
           {
            "line": {
             "colorbar": {
              "outlinewidth": 0,
              "ticks": ""
             }
            },
            "type": "parcoords"
           }
          ],
          "pie": [
           {
            "automargin": true,
            "type": "pie"
           }
          ],
          "scatter": [
           {
            "fillpattern": {
             "fillmode": "overlay",
             "size": 10,
             "solidity": 0.2
            },
            "type": "scatter"
           }
          ],
          "scatter3d": [
           {
            "line": {
             "colorbar": {
              "outlinewidth": 0,
              "ticks": ""
             }
            },
            "marker": {
             "colorbar": {
              "outlinewidth": 0,
              "ticks": ""
             }
            },
            "type": "scatter3d"
           }
          ],
          "scattercarpet": [
           {
            "marker": {
             "colorbar": {
              "outlinewidth": 0,
              "ticks": ""
             }
            },
            "type": "scattercarpet"
           }
          ],
          "scattergeo": [
           {
            "marker": {
             "colorbar": {
              "outlinewidth": 0,
              "ticks": ""
             }
            },
            "type": "scattergeo"
           }
          ],
          "scattergl": [
           {
            "marker": {
             "colorbar": {
              "outlinewidth": 0,
              "ticks": ""
             }
            },
            "type": "scattergl"
           }
          ],
          "scattermapbox": [
           {
            "marker": {
             "colorbar": {
              "outlinewidth": 0,
              "ticks": ""
             }
            },
            "type": "scattermapbox"
           }
          ],
          "scatterpolar": [
           {
            "marker": {
             "colorbar": {
              "outlinewidth": 0,
              "ticks": ""
             }
            },
            "type": "scatterpolar"
           }
          ],
          "scatterpolargl": [
           {
            "marker": {
             "colorbar": {
              "outlinewidth": 0,
              "ticks": ""
             }
            },
            "type": "scatterpolargl"
           }
          ],
          "scatterternary": [
           {
            "marker": {
             "colorbar": {
              "outlinewidth": 0,
              "ticks": ""
             }
            },
            "type": "scatterternary"
           }
          ],
          "surface": [
           {
            "colorbar": {
             "outlinewidth": 0,
             "ticks": ""
            },
            "colorscale": [
             [
              0,
              "#0d0887"
             ],
             [
              0.1111111111111111,
              "#46039f"
             ],
             [
              0.2222222222222222,
              "#7201a8"
             ],
             [
              0.3333333333333333,
              "#9c179e"
             ],
             [
              0.4444444444444444,
              "#bd3786"
             ],
             [
              0.5555555555555556,
              "#d8576b"
             ],
             [
              0.6666666666666666,
              "#ed7953"
             ],
             [
              0.7777777777777778,
              "#fb9f3a"
             ],
             [
              0.8888888888888888,
              "#fdca26"
             ],
             [
              1,
              "#f0f921"
             ]
            ],
            "type": "surface"
           }
          ],
          "table": [
           {
            "cells": {
             "fill": {
              "color": "#EBF0F8"
             },
             "line": {
              "color": "white"
             }
            },
            "header": {
             "fill": {
              "color": "#C8D4E3"
             },
             "line": {
              "color": "white"
             }
            },
            "type": "table"
           }
          ]
         },
         "layout": {
          "annotationdefaults": {
           "arrowcolor": "#2a3f5f",
           "arrowhead": 0,
           "arrowwidth": 1
          },
          "autotypenumbers": "strict",
          "coloraxis": {
           "colorbar": {
            "outlinewidth": 0,
            "ticks": ""
           }
          },
          "colorscale": {
           "diverging": [
            [
             0,
             "#8e0152"
            ],
            [
             0.1,
             "#c51b7d"
            ],
            [
             0.2,
             "#de77ae"
            ],
            [
             0.3,
             "#f1b6da"
            ],
            [
             0.4,
             "#fde0ef"
            ],
            [
             0.5,
             "#f7f7f7"
            ],
            [
             0.6,
             "#e6f5d0"
            ],
            [
             0.7,
             "#b8e186"
            ],
            [
             0.8,
             "#7fbc41"
            ],
            [
             0.9,
             "#4d9221"
            ],
            [
             1,
             "#276419"
            ]
           ],
           "sequential": [
            [
             0,
             "#0d0887"
            ],
            [
             0.1111111111111111,
             "#46039f"
            ],
            [
             0.2222222222222222,
             "#7201a8"
            ],
            [
             0.3333333333333333,
             "#9c179e"
            ],
            [
             0.4444444444444444,
             "#bd3786"
            ],
            [
             0.5555555555555556,
             "#d8576b"
            ],
            [
             0.6666666666666666,
             "#ed7953"
            ],
            [
             0.7777777777777778,
             "#fb9f3a"
            ],
            [
             0.8888888888888888,
             "#fdca26"
            ],
            [
             1,
             "#f0f921"
            ]
           ],
           "sequentialminus": [
            [
             0,
             "#0d0887"
            ],
            [
             0.1111111111111111,
             "#46039f"
            ],
            [
             0.2222222222222222,
             "#7201a8"
            ],
            [
             0.3333333333333333,
             "#9c179e"
            ],
            [
             0.4444444444444444,
             "#bd3786"
            ],
            [
             0.5555555555555556,
             "#d8576b"
            ],
            [
             0.6666666666666666,
             "#ed7953"
            ],
            [
             0.7777777777777778,
             "#fb9f3a"
            ],
            [
             0.8888888888888888,
             "#fdca26"
            ],
            [
             1,
             "#f0f921"
            ]
           ]
          },
          "colorway": [
           "#636efa",
           "#EF553B",
           "#00cc96",
           "#ab63fa",
           "#FFA15A",
           "#19d3f3",
           "#FF6692",
           "#B6E880",
           "#FF97FF",
           "#FECB52"
          ],
          "font": {
           "color": "#2a3f5f"
          },
          "geo": {
           "bgcolor": "white",
           "lakecolor": "white",
           "landcolor": "#E5ECF6",
           "showlakes": true,
           "showland": true,
           "subunitcolor": "white"
          },
          "hoverlabel": {
           "align": "left"
          },
          "hovermode": "closest",
          "mapbox": {
           "style": "light"
          },
          "paper_bgcolor": "white",
          "plot_bgcolor": "#E5ECF6",
          "polar": {
           "angularaxis": {
            "gridcolor": "white",
            "linecolor": "white",
            "ticks": ""
           },
           "bgcolor": "#E5ECF6",
           "radialaxis": {
            "gridcolor": "white",
            "linecolor": "white",
            "ticks": ""
           }
          },
          "scene": {
           "xaxis": {
            "backgroundcolor": "#E5ECF6",
            "gridcolor": "white",
            "gridwidth": 2,
            "linecolor": "white",
            "showbackground": true,
            "ticks": "",
            "zerolinecolor": "white"
           },
           "yaxis": {
            "backgroundcolor": "#E5ECF6",
            "gridcolor": "white",
            "gridwidth": 2,
            "linecolor": "white",
            "showbackground": true,
            "ticks": "",
            "zerolinecolor": "white"
           },
           "zaxis": {
            "backgroundcolor": "#E5ECF6",
            "gridcolor": "white",
            "gridwidth": 2,
            "linecolor": "white",
            "showbackground": true,
            "ticks": "",
            "zerolinecolor": "white"
           }
          },
          "shapedefaults": {
           "line": {
            "color": "#2a3f5f"
           }
          },
          "ternary": {
           "aaxis": {
            "gridcolor": "white",
            "linecolor": "white",
            "ticks": ""
           },
           "baxis": {
            "gridcolor": "white",
            "linecolor": "white",
            "ticks": ""
           },
           "bgcolor": "#E5ECF6",
           "caxis": {
            "gridcolor": "white",
            "linecolor": "white",
            "ticks": ""
           }
          },
          "title": {
           "x": 0.05
          },
          "xaxis": {
           "automargin": true,
           "gridcolor": "white",
           "linecolor": "white",
           "ticks": "",
           "title": {
            "standoff": 15
           },
           "zerolinecolor": "white",
           "zerolinewidth": 2
          },
          "yaxis": {
           "automargin": true,
           "gridcolor": "white",
           "linecolor": "white",
           "ticks": "",
           "title": {
            "standoff": 15
           },
           "zerolinecolor": "white",
           "zerolinewidth": 2
          }
         }
        },
        "title": {
         "text": "Analyse des segments par note moyenne et popularité"
        },
        "xaxis": {
         "anchor": "y",
         "domain": [
          0,
          1
         ],
         "gridcolor": "lightgray",
         "showgrid": true,
         "title": {
          "text": "Note moyenne"
         }
        },
        "yaxis": {
         "anchor": "x",
         "domain": [
          0,
          1
         ],
         "gridcolor": "lightgray",
         "showgrid": true,
         "title": {
          "text": "Téléchargements médians (log)"
         },
         "type": "log"
        }
       }
      }
     },
     "metadata": {},
     "output_type": "display_data"
    }
   ],
   "source": [
    "fig = px.scatter(\n",
    "    segment_stats,\n",
    "    x=\"Average Rating\",\n",
    "    y=\"Median Installs\",\n",
    "    size=\"App Count\",\n",
    "    color=\"Category\",\n",
    "    hover_name=\"Category\",\n",
    "    size_max=60,\n",
    "    log_y=True,\n",
    "    title=\"Analyse des segments par note moyenne et popularité\"\n",
    ")\n",
    "\n",
    "fig.update_layout(\n",
    "    xaxis_title=\"Note moyenne\",\n",
    "    yaxis_title=\"Téléchargements médians (log)\",\n",
    "    plot_bgcolor='white',\n",
    "    font=dict(size=14),\n",
    "    xaxis=dict(showgrid=True, gridcolor='lightgray'),\n",
    "    yaxis=dict(showgrid=True, gridcolor='lightgray')\n",
    ")\n",
    "\n",
    "fig.show()\n"
   ]
  },
  {
   "cell_type": "markdown",
   "id": "631d5b3f",
   "metadata": {},
   "source": [
    "<h4>\n",
    "Ce graphique met en évidence l'équilibre entre la popularité et la satisfaction des utilisateurs. Les catégories positionnées en haut à droite représentent des segments à fort potentiel d'investissement, alliant forte adoption et excellente évaluation. À l'inverse, les points situés en bas à gauche méritent une analyse approfondie, car ils traduisent une faible traction et une satisfaction utilisateur limitée.\n",
    "</h4>\n"
   ]
  },
  {
   "cell_type": "markdown",
   "id": "4dc63caa",
   "metadata": {},
   "source": [
    "### Identification secteur court terme/ROI"
   ]
  },
  {
   "cell_type": "code",
   "execution_count": 15,
   "id": "ba9ac222",
   "metadata": {},
   "outputs": [
    {
     "data": {
      "application/vnd.plotly.v1+json": {
       "config": {
        "plotlyServerURL": "https://plot.ly"
       },
       "data": [
        {
         "hovertemplate": "<b>%{hovertext}</b><br><br>Average Rating=%{x}<br>Median Installs=%{y}<br>App Count=%{marker.size}<extra></extra>",
         "hovertext": [
          "ART_AND_DESIGN",
          "BOOKS_AND_REFERENCE",
          "EDUCATION",
          "PARENTING",
          "PERSONALIZATION"
         ],
         "legendgroup": "",
         "marker": {
          "color": "#6cc5ec",
          "size": [
           62,
           178,
           155,
           50,
           314
          ],
          "sizemode": "area",
          "sizeref": 0.48527777777777775,
          "symbol": "circle"
         },
         "mode": "markers",
         "name": "",
         "orientation": "v",
         "showlegend": false,
         "type": "scatter",
         "x": [
          4.358064516129032,
          4.346067415730337,
          4.389032258064516,
          4.3,
          4.335987261146497
         ],
         "xaxis": "x",
         "y": [
          100000,
          100000,
          1000000,
          100000,
          100000
         ],
         "yaxis": "y"
        },
        {
         "hovertemplate": "<b>%{hovertext}</b><br><br>Average Rating=%{x}<br>Median Installs=%{y}<br>App Count=%{marker.size}<extra></extra>",
         "hovertext": [
          "AUTO_AND_VEHICLES",
          "BEAUTY",
          "BUSINESS",
          "COMICS",
          "COMMUNICATION",
          "DATING",
          "ENTERTAINMENT",
          "EVENTS",
          "FAMILY",
          "FINANCE",
          "FOOD_AND_DRINK",
          "GAME",
          "HEALTH_AND_FITNESS",
          "HOUSE_AND_HOME",
          "LIBRARIES_AND_DEMO",
          "LIFESTYLE",
          "MAPS_AND_NAVIGATION",
          "MEDICAL",
          "NEWS_AND_MAGAZINES",
          "PHOTOGRAPHY",
          "PRODUCTIVITY",
          "SHOPPING",
          "SOCIAL",
          "SPORTS",
          "TOOLS",
          "TRAVEL_AND_LOCAL",
          "VIDEO_PLAYERS",
          "WEATHER"
         ],
         "legendgroup": "",
         "marker": {
          "color": "#ec7282",
          "size": [
           73,
           42,
           303,
           58,
           328,
           195,
           149,
           45,
           1747,
           323,
           109,
           1097,
           297,
           76,
           65,
           314,
           124,
           350,
           233,
           317,
           351,
           238,
           259,
           319,
           734,
           226,
           160,
           75
          ],
          "sizemode": "area",
          "sizeref": 0.48527777777777775,
          "symbol": "circle"
         },
         "mode": "markers",
         "name": "",
         "orientation": "v",
         "showlegend": false,
         "type": "scatter",
         "x": [
          4.190410958904109,
          4.2785714285714285,
          4.121452145214521,
          4.155172413793103,
          4.158536585365853,
          3.9707692307692306,
          4.126174496644295,
          4.435555555555555,
          4.1922724670864335,
          4.13188854489164,
          4.1669724770642205,
          4.286326344576117,
          4.277104377104377,
          4.197368421052632,
          4.178461538461539,
          4.094904458598726,
          4.051612903225807,
          4.1891428571428575,
          4.1321888412017165,
          4.19211356466877,
          4.211396011396012,
          4.2596638655462185,
          4.255598455598456,
          4.223510971786833,
          4.04741144414169,
          4.10929203539823,
          4.063750000000001,
          4.244
         ],
         "xaxis": "x",
         "y": [
          100000,
          100000,
          50000,
          100000,
          5000000,
          100000,
          5000000,
          50000,
          100000,
          100000,
          1000000,
          5000000,
          1000000,
          1000000,
          50000,
          50000,
          500000,
          10000,
          500000,
          5000000,
          1000000,
          1000000,
          1000000,
          1000000,
          100000,
          1000000,
          1000000,
          1000000
         ],
         "yaxis": "y"
        }
       ],
       "layout": {
        "font": {
         "size": 14
        },
        "legend": {
         "itemsizing": "constant",
         "tracegroupgap": 0
        },
        "plot_bgcolor": "white",
        "shapes": [
         {
          "line": {
           "color": "#ec7282",
           "dash": "dash"
          },
          "type": "line",
          "x0": 4.3,
          "x1": 4.3,
          "y0": 10000,
          "y1": 5000000
         },
         {
          "line": {
           "color": "#ec7282",
           "dash": "dash"
          },
          "type": "line",
          "x0": 3.9707692307692306,
          "x1": 4.435555555555555,
          "y0": 75000,
          "y1": 75000
         }
        ],
        "showlegend": false,
        "template": {
         "data": {
          "bar": [
           {
            "error_x": {
             "color": "#2a3f5f"
            },
            "error_y": {
             "color": "#2a3f5f"
            },
            "marker": {
             "line": {
              "color": "#E5ECF6",
              "width": 0.5
             },
             "pattern": {
              "fillmode": "overlay",
              "size": 10,
              "solidity": 0.2
             }
            },
            "type": "bar"
           }
          ],
          "barpolar": [
           {
            "marker": {
             "line": {
              "color": "#E5ECF6",
              "width": 0.5
             },
             "pattern": {
              "fillmode": "overlay",
              "size": 10,
              "solidity": 0.2
             }
            },
            "type": "barpolar"
           }
          ],
          "carpet": [
           {
            "aaxis": {
             "endlinecolor": "#2a3f5f",
             "gridcolor": "white",
             "linecolor": "white",
             "minorgridcolor": "white",
             "startlinecolor": "#2a3f5f"
            },
            "baxis": {
             "endlinecolor": "#2a3f5f",
             "gridcolor": "white",
             "linecolor": "white",
             "minorgridcolor": "white",
             "startlinecolor": "#2a3f5f"
            },
            "type": "carpet"
           }
          ],
          "choropleth": [
           {
            "colorbar": {
             "outlinewidth": 0,
             "ticks": ""
            },
            "type": "choropleth"
           }
          ],
          "contour": [
           {
            "colorbar": {
             "outlinewidth": 0,
             "ticks": ""
            },
            "colorscale": [
             [
              0,
              "#0d0887"
             ],
             [
              0.1111111111111111,
              "#46039f"
             ],
             [
              0.2222222222222222,
              "#7201a8"
             ],
             [
              0.3333333333333333,
              "#9c179e"
             ],
             [
              0.4444444444444444,
              "#bd3786"
             ],
             [
              0.5555555555555556,
              "#d8576b"
             ],
             [
              0.6666666666666666,
              "#ed7953"
             ],
             [
              0.7777777777777778,
              "#fb9f3a"
             ],
             [
              0.8888888888888888,
              "#fdca26"
             ],
             [
              1,
              "#f0f921"
             ]
            ],
            "type": "contour"
           }
          ],
          "contourcarpet": [
           {
            "colorbar": {
             "outlinewidth": 0,
             "ticks": ""
            },
            "type": "contourcarpet"
           }
          ],
          "heatmap": [
           {
            "colorbar": {
             "outlinewidth": 0,
             "ticks": ""
            },
            "colorscale": [
             [
              0,
              "#0d0887"
             ],
             [
              0.1111111111111111,
              "#46039f"
             ],
             [
              0.2222222222222222,
              "#7201a8"
             ],
             [
              0.3333333333333333,
              "#9c179e"
             ],
             [
              0.4444444444444444,
              "#bd3786"
             ],
             [
              0.5555555555555556,
              "#d8576b"
             ],
             [
              0.6666666666666666,
              "#ed7953"
             ],
             [
              0.7777777777777778,
              "#fb9f3a"
             ],
             [
              0.8888888888888888,
              "#fdca26"
             ],
             [
              1,
              "#f0f921"
             ]
            ],
            "type": "heatmap"
           }
          ],
          "heatmapgl": [
           {
            "colorbar": {
             "outlinewidth": 0,
             "ticks": ""
            },
            "colorscale": [
             [
              0,
              "#0d0887"
             ],
             [
              0.1111111111111111,
              "#46039f"
             ],
             [
              0.2222222222222222,
              "#7201a8"
             ],
             [
              0.3333333333333333,
              "#9c179e"
             ],
             [
              0.4444444444444444,
              "#bd3786"
             ],
             [
              0.5555555555555556,
              "#d8576b"
             ],
             [
              0.6666666666666666,
              "#ed7953"
             ],
             [
              0.7777777777777778,
              "#fb9f3a"
             ],
             [
              0.8888888888888888,
              "#fdca26"
             ],
             [
              1,
              "#f0f921"
             ]
            ],
            "type": "heatmapgl"
           }
          ],
          "histogram": [
           {
            "marker": {
             "pattern": {
              "fillmode": "overlay",
              "size": 10,
              "solidity": 0.2
             }
            },
            "type": "histogram"
           }
          ],
          "histogram2d": [
           {
            "colorbar": {
             "outlinewidth": 0,
             "ticks": ""
            },
            "colorscale": [
             [
              0,
              "#0d0887"
             ],
             [
              0.1111111111111111,
              "#46039f"
             ],
             [
              0.2222222222222222,
              "#7201a8"
             ],
             [
              0.3333333333333333,
              "#9c179e"
             ],
             [
              0.4444444444444444,
              "#bd3786"
             ],
             [
              0.5555555555555556,
              "#d8576b"
             ],
             [
              0.6666666666666666,
              "#ed7953"
             ],
             [
              0.7777777777777778,
              "#fb9f3a"
             ],
             [
              0.8888888888888888,
              "#fdca26"
             ],
             [
              1,
              "#f0f921"
             ]
            ],
            "type": "histogram2d"
           }
          ],
          "histogram2dcontour": [
           {
            "colorbar": {
             "outlinewidth": 0,
             "ticks": ""
            },
            "colorscale": [
             [
              0,
              "#0d0887"
             ],
             [
              0.1111111111111111,
              "#46039f"
             ],
             [
              0.2222222222222222,
              "#7201a8"
             ],
             [
              0.3333333333333333,
              "#9c179e"
             ],
             [
              0.4444444444444444,
              "#bd3786"
             ],
             [
              0.5555555555555556,
              "#d8576b"
             ],
             [
              0.6666666666666666,
              "#ed7953"
             ],
             [
              0.7777777777777778,
              "#fb9f3a"
             ],
             [
              0.8888888888888888,
              "#fdca26"
             ],
             [
              1,
              "#f0f921"
             ]
            ],
            "type": "histogram2dcontour"
           }
          ],
          "mesh3d": [
           {
            "colorbar": {
             "outlinewidth": 0,
             "ticks": ""
            },
            "type": "mesh3d"
           }
          ],
          "parcoords": [
           {
            "line": {
             "colorbar": {
              "outlinewidth": 0,
              "ticks": ""
             }
            },
            "type": "parcoords"
           }
          ],
          "pie": [
           {
            "automargin": true,
            "type": "pie"
           }
          ],
          "scatter": [
           {
            "fillpattern": {
             "fillmode": "overlay",
             "size": 10,
             "solidity": 0.2
            },
            "type": "scatter"
           }
          ],
          "scatter3d": [
           {
            "line": {
             "colorbar": {
              "outlinewidth": 0,
              "ticks": ""
             }
            },
            "marker": {
             "colorbar": {
              "outlinewidth": 0,
              "ticks": ""
             }
            },
            "type": "scatter3d"
           }
          ],
          "scattercarpet": [
           {
            "marker": {
             "colorbar": {
              "outlinewidth": 0,
              "ticks": ""
             }
            },
            "type": "scattercarpet"
           }
          ],
          "scattergeo": [
           {
            "marker": {
             "colorbar": {
              "outlinewidth": 0,
              "ticks": ""
             }
            },
            "type": "scattergeo"
           }
          ],
          "scattergl": [
           {
            "marker": {
             "colorbar": {
              "outlinewidth": 0,
              "ticks": ""
             }
            },
            "type": "scattergl"
           }
          ],
          "scattermapbox": [
           {
            "marker": {
             "colorbar": {
              "outlinewidth": 0,
              "ticks": ""
             }
            },
            "type": "scattermapbox"
           }
          ],
          "scatterpolar": [
           {
            "marker": {
             "colorbar": {
              "outlinewidth": 0,
              "ticks": ""
             }
            },
            "type": "scatterpolar"
           }
          ],
          "scatterpolargl": [
           {
            "marker": {
             "colorbar": {
              "outlinewidth": 0,
              "ticks": ""
             }
            },
            "type": "scatterpolargl"
           }
          ],
          "scatterternary": [
           {
            "marker": {
             "colorbar": {
              "outlinewidth": 0,
              "ticks": ""
             }
            },
            "type": "scatterternary"
           }
          ],
          "surface": [
           {
            "colorbar": {
             "outlinewidth": 0,
             "ticks": ""
            },
            "colorscale": [
             [
              0,
              "#0d0887"
             ],
             [
              0.1111111111111111,
              "#46039f"
             ],
             [
              0.2222222222222222,
              "#7201a8"
             ],
             [
              0.3333333333333333,
              "#9c179e"
             ],
             [
              0.4444444444444444,
              "#bd3786"
             ],
             [
              0.5555555555555556,
              "#d8576b"
             ],
             [
              0.6666666666666666,
              "#ed7953"
             ],
             [
              0.7777777777777778,
              "#fb9f3a"
             ],
             [
              0.8888888888888888,
              "#fdca26"
             ],
             [
              1,
              "#f0f921"
             ]
            ],
            "type": "surface"
           }
          ],
          "table": [
           {
            "cells": {
             "fill": {
              "color": "#EBF0F8"
             },
             "line": {
              "color": "white"
             }
            },
            "header": {
             "fill": {
              "color": "#C8D4E3"
             },
             "line": {
              "color": "white"
             }
            },
            "type": "table"
           }
          ]
         },
         "layout": {
          "annotationdefaults": {
           "arrowcolor": "#2a3f5f",
           "arrowhead": 0,
           "arrowwidth": 1
          },
          "autotypenumbers": "strict",
          "coloraxis": {
           "colorbar": {
            "outlinewidth": 0,
            "ticks": ""
           }
          },
          "colorscale": {
           "diverging": [
            [
             0,
             "#8e0152"
            ],
            [
             0.1,
             "#c51b7d"
            ],
            [
             0.2,
             "#de77ae"
            ],
            [
             0.3,
             "#f1b6da"
            ],
            [
             0.4,
             "#fde0ef"
            ],
            [
             0.5,
             "#f7f7f7"
            ],
            [
             0.6,
             "#e6f5d0"
            ],
            [
             0.7,
             "#b8e186"
            ],
            [
             0.8,
             "#7fbc41"
            ],
            [
             0.9,
             "#4d9221"
            ],
            [
             1,
             "#276419"
            ]
           ],
           "sequential": [
            [
             0,
             "#0d0887"
            ],
            [
             0.1111111111111111,
             "#46039f"
            ],
            [
             0.2222222222222222,
             "#7201a8"
            ],
            [
             0.3333333333333333,
             "#9c179e"
            ],
            [
             0.4444444444444444,
             "#bd3786"
            ],
            [
             0.5555555555555556,
             "#d8576b"
            ],
            [
             0.6666666666666666,
             "#ed7953"
            ],
            [
             0.7777777777777778,
             "#fb9f3a"
            ],
            [
             0.8888888888888888,
             "#fdca26"
            ],
            [
             1,
             "#f0f921"
            ]
           ],
           "sequentialminus": [
            [
             0,
             "#0d0887"
            ],
            [
             0.1111111111111111,
             "#46039f"
            ],
            [
             0.2222222222222222,
             "#7201a8"
            ],
            [
             0.3333333333333333,
             "#9c179e"
            ],
            [
             0.4444444444444444,
             "#bd3786"
            ],
            [
             0.5555555555555556,
             "#d8576b"
            ],
            [
             0.6666666666666666,
             "#ed7953"
            ],
            [
             0.7777777777777778,
             "#fb9f3a"
            ],
            [
             0.8888888888888888,
             "#fdca26"
            ],
            [
             1,
             "#f0f921"
            ]
           ]
          },
          "colorway": [
           "#636efa",
           "#EF553B",
           "#00cc96",
           "#ab63fa",
           "#FFA15A",
           "#19d3f3",
           "#FF6692",
           "#B6E880",
           "#FF97FF",
           "#FECB52"
          ],
          "font": {
           "color": "#2a3f5f"
          },
          "geo": {
           "bgcolor": "white",
           "lakecolor": "white",
           "landcolor": "#E5ECF6",
           "showlakes": true,
           "showland": true,
           "subunitcolor": "white"
          },
          "hoverlabel": {
           "align": "left"
          },
          "hovermode": "closest",
          "mapbox": {
           "style": "light"
          },
          "paper_bgcolor": "white",
          "plot_bgcolor": "#E5ECF6",
          "polar": {
           "angularaxis": {
            "gridcolor": "white",
            "linecolor": "white",
            "ticks": ""
           },
           "bgcolor": "#E5ECF6",
           "radialaxis": {
            "gridcolor": "white",
            "linecolor": "white",
            "ticks": ""
           }
          },
          "scene": {
           "xaxis": {
            "backgroundcolor": "#E5ECF6",
            "gridcolor": "white",
            "gridwidth": 2,
            "linecolor": "white",
            "showbackground": true,
            "ticks": "",
            "zerolinecolor": "white"
           },
           "yaxis": {
            "backgroundcolor": "#E5ECF6",
            "gridcolor": "white",
            "gridwidth": 2,
            "linecolor": "white",
            "showbackground": true,
            "ticks": "",
            "zerolinecolor": "white"
           },
           "zaxis": {
            "backgroundcolor": "#E5ECF6",
            "gridcolor": "white",
            "gridwidth": 2,
            "linecolor": "white",
            "showbackground": true,
            "ticks": "",
            "zerolinecolor": "white"
           }
          },
          "shapedefaults": {
           "line": {
            "color": "#2a3f5f"
           }
          },
          "ternary": {
           "aaxis": {
            "gridcolor": "white",
            "linecolor": "white",
            "ticks": ""
           },
           "baxis": {
            "gridcolor": "white",
            "linecolor": "white",
            "ticks": ""
           },
           "bgcolor": "#E5ECF6",
           "caxis": {
            "gridcolor": "white",
            "linecolor": "white",
            "ticks": ""
           }
          },
          "title": {
           "x": 0.05
          },
          "xaxis": {
           "automargin": true,
           "gridcolor": "white",
           "linecolor": "white",
           "ticks": "",
           "title": {
            "standoff": 15
           },
           "zerolinecolor": "white",
           "zerolinewidth": 2
          },
          "yaxis": {
           "automargin": true,
           "gridcolor": "white",
           "linecolor": "white",
           "ticks": "",
           "title": {
            "standoff": 15
           },
           "zerolinecolor": "white",
           "zerolinewidth": 2
          }
         }
        },
        "title": {
         "text": "Stratégie : court terme / ROI"
        },
        "xaxis": {
         "anchor": "y",
         "domain": [
          0,
          1
         ],
         "gridcolor": "lightgray",
         "showgrid": true,
         "title": {
          "text": "Note moyenne"
         }
        },
        "yaxis": {
         "anchor": "x",
         "domain": [
          0,
          1
         ],
         "gridcolor": "lightgray",
         "showgrid": true,
         "title": {
          "text": "Téléchargements médians (log)"
         },
         "type": "log"
        }
       }
      }
     },
     "metadata": {},
     "output_type": "display_data"
    }
   ],
   "source": [
    "rating_threshold = 4.3\n",
    "installs_threshold = 75000\n",
    "\n",
    "segment_stats[\"Pépite\"] = (\n",
    "    (segment_stats[\"Average Rating\"] >= rating_threshold) &\n",
    "    (segment_stats[\"Median Installs\"] >= installs_threshold)\n",
    ")\n",
    "\n",
    "segment_stats[\"Couleur\"] = segment_stats[\"Pépite\"].map({\n",
    "    True: \"#6cc5ec\",   \n",
    "    False: \"#ec7282\"   \n",
    "})\n",
    "\n",
    "fig = px.scatter(\n",
    "    segment_stats,\n",
    "    x=\"Average Rating\",\n",
    "    y=\"Median Installs\",\n",
    "    size=\"App Count\",\n",
    "    color=\"Couleur\",\n",
    "    hover_name=\"Category\",\n",
    "    color_discrete_map=\"identity\",\n",
    "    size_max=60,\n",
    "    log_y=True,\n",
    "    title=\"Stratégie : court terme / ROI\"\n",
    ")\n",
    "\n",
    "fig.add_shape(\n",
    "    type=\"line\",\n",
    "    x0=rating_threshold, x1=rating_threshold,\n",
    "    y0=segment_stats[\"Median Installs\"].min(), y1=segment_stats[\"Median Installs\"].max(),\n",
    "    line=dict(color=\"#ec7282\", dash=\"dash\"),\n",
    ")\n",
    "\n",
    "fig.add_shape(\n",
    "    type=\"line\",\n",
    "    y0=installs_threshold, y1=installs_threshold,\n",
    "    x0=segment_stats[\"Average Rating\"].min(), x1=segment_stats[\"Average Rating\"].max(),\n",
    "    line=dict(color=\"#ec7282\", dash=\"dash\"),\n",
    ")\n",
    "\n",
    "fig.update_traces(marker_symbol=\"circle\")\n",
    "fig.update_layout(\n",
    "    xaxis_title=\"Note moyenne\",\n",
    "    yaxis_title=\"Téléchargements médians (log)\",\n",
    "    plot_bgcolor='white',\n",
    "    font=dict(size=14),\n",
    "    xaxis=dict(showgrid=True, gridcolor='lightgray'),\n",
    "    yaxis=dict(showgrid=True, gridcolor='lightgray'),\n",
    "    showlegend=False\n",
    ")\n",
    "\n",
    "fig.show()\n"
   ]
  },
  {
   "cell_type": "markdown",
   "id": "cea86a54",
   "metadata": {},
   "source": [
    "#### Les catégories PARENTING, ART_AND_DESIGN, EDUCATION, BOOKS_AND_REFERENCE et PERSONALIZATION sont positionnées dans le quadrant supérieur droit du graphique, combinent une excellente satisfaction utilisateur avec une forte popularité, ce qui en fait des segments stratégiques à fort potentiel, idéaux pour un investissement à court terme ou une prise de position dominante sur des marchés déjà réceptifs.\n",
    "\n"
   ]
  },
  {
   "cell_type": "code",
   "execution_count": 16,
   "id": "11b1985f",
   "metadata": {},
   "outputs": [
    {
     "data": {
      "application/vnd.plotly.v1+json": {
       "config": {
        "plotlyServerURL": "https://plot.ly"
       },
       "data": [
        {
         "hovertemplate": "<b>%{hovertext}</b><br><br>Average Rating=%{x}<br>Median Installs=%{y}<br>App Count=%{marker.size}<extra></extra>",
         "hovertext": [
          "ART_AND_DESIGN",
          "AUTO_AND_VEHICLES",
          "BEAUTY",
          "BOOKS_AND_REFERENCE",
          "BUSINESS",
          "COMICS",
          "COMMUNICATION",
          "DATING",
          "EDUCATION",
          "ENTERTAINMENT",
          "FAMILY",
          "FINANCE",
          "FOOD_AND_DRINK",
          "GAME",
          "HEALTH_AND_FITNESS",
          "HOUSE_AND_HOME",
          "LIBRARIES_AND_DEMO",
          "LIFESTYLE",
          "MAPS_AND_NAVIGATION",
          "MEDICAL",
          "NEWS_AND_MAGAZINES",
          "PARENTING",
          "PERSONALIZATION",
          "PHOTOGRAPHY",
          "PRODUCTIVITY",
          "SHOPPING",
          "SOCIAL",
          "SPORTS",
          "TOOLS",
          "TRAVEL_AND_LOCAL",
          "VIDEO_PLAYERS",
          "WEATHER"
         ],
         "legendgroup": "",
         "marker": {
          "color": "#ec7282",
          "size": [
           62,
           73,
           42,
           178,
           303,
           58,
           328,
           195,
           155,
           149,
           1747,
           323,
           109,
           1097,
           297,
           76,
           65,
           314,
           124,
           350,
           233,
           50,
           314,
           317,
           351,
           238,
           259,
           319,
           734,
           226,
           160,
           75
          ],
          "sizemode": "area",
          "sizeref": 0.48527777777777775,
          "symbol": "circle"
         },
         "mode": "markers",
         "name": "",
         "orientation": "v",
         "showlegend": false,
         "type": "scatter",
         "x": [
          4.358064516129032,
          4.190410958904109,
          4.2785714285714285,
          4.346067415730337,
          4.121452145214521,
          4.155172413793103,
          4.158536585365853,
          3.9707692307692306,
          4.389032258064516,
          4.126174496644295,
          4.1922724670864335,
          4.13188854489164,
          4.1669724770642205,
          4.286326344576117,
          4.277104377104377,
          4.197368421052632,
          4.178461538461539,
          4.094904458598726,
          4.051612903225807,
          4.1891428571428575,
          4.1321888412017165,
          4.3,
          4.335987261146497,
          4.19211356466877,
          4.211396011396012,
          4.2596638655462185,
          4.255598455598456,
          4.223510971786833,
          4.04741144414169,
          4.10929203539823,
          4.063750000000001,
          4.244
         ],
         "xaxis": "x",
         "y": [
          100000,
          100000,
          100000,
          100000,
          50000,
          100000,
          5000000,
          100000,
          1000000,
          5000000,
          100000,
          100000,
          1000000,
          5000000,
          1000000,
          1000000,
          50000,
          50000,
          500000,
          10000,
          500000,
          100000,
          100000,
          5000000,
          1000000,
          1000000,
          1000000,
          1000000,
          100000,
          1000000,
          1000000,
          1000000
         ],
         "yaxis": "y"
        },
        {
         "hovertemplate": "<b>%{hovertext}</b><br><br>Average Rating=%{x}<br>Median Installs=%{y}<br>App Count=%{marker.size}<extra></extra>",
         "hovertext": [
          "EVENTS"
         ],
         "legendgroup": "",
         "marker": {
          "color": "#6cc5ec",
          "size": [
           45
          ],
          "sizemode": "area",
          "sizeref": 0.48527777777777775,
          "symbol": "circle"
         },
         "mode": "markers",
         "name": "",
         "orientation": "v",
         "showlegend": false,
         "type": "scatter",
         "x": [
          4.435555555555555
         ],
         "xaxis": "x",
         "y": [
          50000
         ],
         "yaxis": "y"
        }
       ],
       "layout": {
        "annotations": [
         {
          "bgcolor": "rgba(0, 0, 255, 0.05)",
          "font": {
           "color": "blue",
           "size": 14
          },
          "showarrow": false,
          "x": 4.35,
          "y": 7500
         }
        ],
        "font": {
         "size": 14
        },
        "legend": {
         "itemsizing": "constant",
         "tracegroupgap": 0
        },
        "plot_bgcolor": "white",
        "shapes": [
         {
          "line": {
           "color": "#6cc5ec",
           "dash": "dash"
          },
          "type": "line",
          "x0": 4.3,
          "x1": 4.3,
          "y0": 10000,
          "y1": 5000000
         },
         {
          "line": {
           "color": "#6cc5ec",
           "dash": "dash"
          },
          "type": "line",
          "x0": 3.9707692307692306,
          "x1": 4.435555555555555,
          "y0": 75000,
          "y1": 75000
         }
        ],
        "showlegend": false,
        "template": {
         "data": {
          "bar": [
           {
            "error_x": {
             "color": "#2a3f5f"
            },
            "error_y": {
             "color": "#2a3f5f"
            },
            "marker": {
             "line": {
              "color": "#E5ECF6",
              "width": 0.5
             },
             "pattern": {
              "fillmode": "overlay",
              "size": 10,
              "solidity": 0.2
             }
            },
            "type": "bar"
           }
          ],
          "barpolar": [
           {
            "marker": {
             "line": {
              "color": "#E5ECF6",
              "width": 0.5
             },
             "pattern": {
              "fillmode": "overlay",
              "size": 10,
              "solidity": 0.2
             }
            },
            "type": "barpolar"
           }
          ],
          "carpet": [
           {
            "aaxis": {
             "endlinecolor": "#2a3f5f",
             "gridcolor": "white",
             "linecolor": "white",
             "minorgridcolor": "white",
             "startlinecolor": "#2a3f5f"
            },
            "baxis": {
             "endlinecolor": "#2a3f5f",
             "gridcolor": "white",
             "linecolor": "white",
             "minorgridcolor": "white",
             "startlinecolor": "#2a3f5f"
            },
            "type": "carpet"
           }
          ],
          "choropleth": [
           {
            "colorbar": {
             "outlinewidth": 0,
             "ticks": ""
            },
            "type": "choropleth"
           }
          ],
          "contour": [
           {
            "colorbar": {
             "outlinewidth": 0,
             "ticks": ""
            },
            "colorscale": [
             [
              0,
              "#0d0887"
             ],
             [
              0.1111111111111111,
              "#46039f"
             ],
             [
              0.2222222222222222,
              "#7201a8"
             ],
             [
              0.3333333333333333,
              "#9c179e"
             ],
             [
              0.4444444444444444,
              "#bd3786"
             ],
             [
              0.5555555555555556,
              "#d8576b"
             ],
             [
              0.6666666666666666,
              "#ed7953"
             ],
             [
              0.7777777777777778,
              "#fb9f3a"
             ],
             [
              0.8888888888888888,
              "#fdca26"
             ],
             [
              1,
              "#f0f921"
             ]
            ],
            "type": "contour"
           }
          ],
          "contourcarpet": [
           {
            "colorbar": {
             "outlinewidth": 0,
             "ticks": ""
            },
            "type": "contourcarpet"
           }
          ],
          "heatmap": [
           {
            "colorbar": {
             "outlinewidth": 0,
             "ticks": ""
            },
            "colorscale": [
             [
              0,
              "#0d0887"
             ],
             [
              0.1111111111111111,
              "#46039f"
             ],
             [
              0.2222222222222222,
              "#7201a8"
             ],
             [
              0.3333333333333333,
              "#9c179e"
             ],
             [
              0.4444444444444444,
              "#bd3786"
             ],
             [
              0.5555555555555556,
              "#d8576b"
             ],
             [
              0.6666666666666666,
              "#ed7953"
             ],
             [
              0.7777777777777778,
              "#fb9f3a"
             ],
             [
              0.8888888888888888,
              "#fdca26"
             ],
             [
              1,
              "#f0f921"
             ]
            ],
            "type": "heatmap"
           }
          ],
          "heatmapgl": [
           {
            "colorbar": {
             "outlinewidth": 0,
             "ticks": ""
            },
            "colorscale": [
             [
              0,
              "#0d0887"
             ],
             [
              0.1111111111111111,
              "#46039f"
             ],
             [
              0.2222222222222222,
              "#7201a8"
             ],
             [
              0.3333333333333333,
              "#9c179e"
             ],
             [
              0.4444444444444444,
              "#bd3786"
             ],
             [
              0.5555555555555556,
              "#d8576b"
             ],
             [
              0.6666666666666666,
              "#ed7953"
             ],
             [
              0.7777777777777778,
              "#fb9f3a"
             ],
             [
              0.8888888888888888,
              "#fdca26"
             ],
             [
              1,
              "#f0f921"
             ]
            ],
            "type": "heatmapgl"
           }
          ],
          "histogram": [
           {
            "marker": {
             "pattern": {
              "fillmode": "overlay",
              "size": 10,
              "solidity": 0.2
             }
            },
            "type": "histogram"
           }
          ],
          "histogram2d": [
           {
            "colorbar": {
             "outlinewidth": 0,
             "ticks": ""
            },
            "colorscale": [
             [
              0,
              "#0d0887"
             ],
             [
              0.1111111111111111,
              "#46039f"
             ],
             [
              0.2222222222222222,
              "#7201a8"
             ],
             [
              0.3333333333333333,
              "#9c179e"
             ],
             [
              0.4444444444444444,
              "#bd3786"
             ],
             [
              0.5555555555555556,
              "#d8576b"
             ],
             [
              0.6666666666666666,
              "#ed7953"
             ],
             [
              0.7777777777777778,
              "#fb9f3a"
             ],
             [
              0.8888888888888888,
              "#fdca26"
             ],
             [
              1,
              "#f0f921"
             ]
            ],
            "type": "histogram2d"
           }
          ],
          "histogram2dcontour": [
           {
            "colorbar": {
             "outlinewidth": 0,
             "ticks": ""
            },
            "colorscale": [
             [
              0,
              "#0d0887"
             ],
             [
              0.1111111111111111,
              "#46039f"
             ],
             [
              0.2222222222222222,
              "#7201a8"
             ],
             [
              0.3333333333333333,
              "#9c179e"
             ],
             [
              0.4444444444444444,
              "#bd3786"
             ],
             [
              0.5555555555555556,
              "#d8576b"
             ],
             [
              0.6666666666666666,
              "#ed7953"
             ],
             [
              0.7777777777777778,
              "#fb9f3a"
             ],
             [
              0.8888888888888888,
              "#fdca26"
             ],
             [
              1,
              "#f0f921"
             ]
            ],
            "type": "histogram2dcontour"
           }
          ],
          "mesh3d": [
           {
            "colorbar": {
             "outlinewidth": 0,
             "ticks": ""
            },
            "type": "mesh3d"
           }
          ],
          "parcoords": [
           {
            "line": {
             "colorbar": {
              "outlinewidth": 0,
              "ticks": ""
             }
            },
            "type": "parcoords"
           }
          ],
          "pie": [
           {
            "automargin": true,
            "type": "pie"
           }
          ],
          "scatter": [
           {
            "fillpattern": {
             "fillmode": "overlay",
             "size": 10,
             "solidity": 0.2
            },
            "type": "scatter"
           }
          ],
          "scatter3d": [
           {
            "line": {
             "colorbar": {
              "outlinewidth": 0,
              "ticks": ""
             }
            },
            "marker": {
             "colorbar": {
              "outlinewidth": 0,
              "ticks": ""
             }
            },
            "type": "scatter3d"
           }
          ],
          "scattercarpet": [
           {
            "marker": {
             "colorbar": {
              "outlinewidth": 0,
              "ticks": ""
             }
            },
            "type": "scattercarpet"
           }
          ],
          "scattergeo": [
           {
            "marker": {
             "colorbar": {
              "outlinewidth": 0,
              "ticks": ""
             }
            },
            "type": "scattergeo"
           }
          ],
          "scattergl": [
           {
            "marker": {
             "colorbar": {
              "outlinewidth": 0,
              "ticks": ""
             }
            },
            "type": "scattergl"
           }
          ],
          "scattermapbox": [
           {
            "marker": {
             "colorbar": {
              "outlinewidth": 0,
              "ticks": ""
             }
            },
            "type": "scattermapbox"
           }
          ],
          "scatterpolar": [
           {
            "marker": {
             "colorbar": {
              "outlinewidth": 0,
              "ticks": ""
             }
            },
            "type": "scatterpolar"
           }
          ],
          "scatterpolargl": [
           {
            "marker": {
             "colorbar": {
              "outlinewidth": 0,
              "ticks": ""
             }
            },
            "type": "scatterpolargl"
           }
          ],
          "scatterternary": [
           {
            "marker": {
             "colorbar": {
              "outlinewidth": 0,
              "ticks": ""
             }
            },
            "type": "scatterternary"
           }
          ],
          "surface": [
           {
            "colorbar": {
             "outlinewidth": 0,
             "ticks": ""
            },
            "colorscale": [
             [
              0,
              "#0d0887"
             ],
             [
              0.1111111111111111,
              "#46039f"
             ],
             [
              0.2222222222222222,
              "#7201a8"
             ],
             [
              0.3333333333333333,
              "#9c179e"
             ],
             [
              0.4444444444444444,
              "#bd3786"
             ],
             [
              0.5555555555555556,
              "#d8576b"
             ],
             [
              0.6666666666666666,
              "#ed7953"
             ],
             [
              0.7777777777777778,
              "#fb9f3a"
             ],
             [
              0.8888888888888888,
              "#fdca26"
             ],
             [
              1,
              "#f0f921"
             ]
            ],
            "type": "surface"
           }
          ],
          "table": [
           {
            "cells": {
             "fill": {
              "color": "#EBF0F8"
             },
             "line": {
              "color": "white"
             }
            },
            "header": {
             "fill": {
              "color": "#C8D4E3"
             },
             "line": {
              "color": "white"
             }
            },
            "type": "table"
           }
          ]
         },
         "layout": {
          "annotationdefaults": {
           "arrowcolor": "#2a3f5f",
           "arrowhead": 0,
           "arrowwidth": 1
          },
          "autotypenumbers": "strict",
          "coloraxis": {
           "colorbar": {
            "outlinewidth": 0,
            "ticks": ""
           }
          },
          "colorscale": {
           "diverging": [
            [
             0,
             "#8e0152"
            ],
            [
             0.1,
             "#c51b7d"
            ],
            [
             0.2,
             "#de77ae"
            ],
            [
             0.3,
             "#f1b6da"
            ],
            [
             0.4,
             "#fde0ef"
            ],
            [
             0.5,
             "#f7f7f7"
            ],
            [
             0.6,
             "#e6f5d0"
            ],
            [
             0.7,
             "#b8e186"
            ],
            [
             0.8,
             "#7fbc41"
            ],
            [
             0.9,
             "#4d9221"
            ],
            [
             1,
             "#276419"
            ]
           ],
           "sequential": [
            [
             0,
             "#0d0887"
            ],
            [
             0.1111111111111111,
             "#46039f"
            ],
            [
             0.2222222222222222,
             "#7201a8"
            ],
            [
             0.3333333333333333,
             "#9c179e"
            ],
            [
             0.4444444444444444,
             "#bd3786"
            ],
            [
             0.5555555555555556,
             "#d8576b"
            ],
            [
             0.6666666666666666,
             "#ed7953"
            ],
            [
             0.7777777777777778,
             "#fb9f3a"
            ],
            [
             0.8888888888888888,
             "#fdca26"
            ],
            [
             1,
             "#f0f921"
            ]
           ],
           "sequentialminus": [
            [
             0,
             "#0d0887"
            ],
            [
             0.1111111111111111,
             "#46039f"
            ],
            [
             0.2222222222222222,
             "#7201a8"
            ],
            [
             0.3333333333333333,
             "#9c179e"
            ],
            [
             0.4444444444444444,
             "#bd3786"
            ],
            [
             0.5555555555555556,
             "#d8576b"
            ],
            [
             0.6666666666666666,
             "#ed7953"
            ],
            [
             0.7777777777777778,
             "#fb9f3a"
            ],
            [
             0.8888888888888888,
             "#fdca26"
            ],
            [
             1,
             "#f0f921"
            ]
           ]
          },
          "colorway": [
           "#636efa",
           "#EF553B",
           "#00cc96",
           "#ab63fa",
           "#FFA15A",
           "#19d3f3",
           "#FF6692",
           "#B6E880",
           "#FF97FF",
           "#FECB52"
          ],
          "font": {
           "color": "#2a3f5f"
          },
          "geo": {
           "bgcolor": "white",
           "lakecolor": "white",
           "landcolor": "#E5ECF6",
           "showlakes": true,
           "showland": true,
           "subunitcolor": "white"
          },
          "hoverlabel": {
           "align": "left"
          },
          "hovermode": "closest",
          "mapbox": {
           "style": "light"
          },
          "paper_bgcolor": "white",
          "plot_bgcolor": "#E5ECF6",
          "polar": {
           "angularaxis": {
            "gridcolor": "white",
            "linecolor": "white",
            "ticks": ""
           },
           "bgcolor": "#E5ECF6",
           "radialaxis": {
            "gridcolor": "white",
            "linecolor": "white",
            "ticks": ""
           }
          },
          "scene": {
           "xaxis": {
            "backgroundcolor": "#E5ECF6",
            "gridcolor": "white",
            "gridwidth": 2,
            "linecolor": "white",
            "showbackground": true,
            "ticks": "",
            "zerolinecolor": "white"
           },
           "yaxis": {
            "backgroundcolor": "#E5ECF6",
            "gridcolor": "white",
            "gridwidth": 2,
            "linecolor": "white",
            "showbackground": true,
            "ticks": "",
            "zerolinecolor": "white"
           },
           "zaxis": {
            "backgroundcolor": "#E5ECF6",
            "gridcolor": "white",
            "gridwidth": 2,
            "linecolor": "white",
            "showbackground": true,
            "ticks": "",
            "zerolinecolor": "white"
           }
          },
          "shapedefaults": {
           "line": {
            "color": "#2a3f5f"
           }
          },
          "ternary": {
           "aaxis": {
            "gridcolor": "white",
            "linecolor": "white",
            "ticks": ""
           },
           "baxis": {
            "gridcolor": "white",
            "linecolor": "white",
            "ticks": ""
           },
           "bgcolor": "#E5ECF6",
           "caxis": {
            "gridcolor": "white",
            "linecolor": "white",
            "ticks": ""
           }
          },
          "title": {
           "x": 0.05
          },
          "xaxis": {
           "automargin": true,
           "gridcolor": "white",
           "linecolor": "white",
           "ticks": "",
           "title": {
            "standoff": 15
           },
           "zerolinecolor": "white",
           "zerolinewidth": 2
          },
          "yaxis": {
           "automargin": true,
           "gridcolor": "white",
           "linecolor": "white",
           "ticks": "",
           "title": {
            "standoff": 15
           },
           "zerolinecolor": "white",
           "zerolinewidth": 2
          }
         }
        },
        "title": {
         "text": "Stratégie : identifier les niches qualitatives"
        },
        "xaxis": {
         "anchor": "y",
         "domain": [
          0,
          1
         ],
         "gridcolor": "lightgray",
         "showgrid": true,
         "title": {
          "text": "Note moyenne"
         }
        },
        "yaxis": {
         "anchor": "x",
         "domain": [
          0,
          1
         ],
         "gridcolor": "lightgray",
         "showgrid": true,
         "title": {
          "text": "Téléchargements médians (log)"
         },
         "type": "log"
        }
       }
      }
     },
     "metadata": {},
     "output_type": "display_data"
    }
   ],
   "source": [
    "rating_threshold = 4.3\n",
    "installs_threshold = 75000\n",
    "\n",
    "segment_stats[\"Niche Qualitative\"] = (\n",
    "    (segment_stats[\"Average Rating\"] >= rating_threshold) &\n",
    "    (segment_stats[\"Median Installs\"] < installs_threshold)\n",
    ")\n",
    "\n",
    "segment_stats[\"Couleur\"] = segment_stats[\"Niche Qualitative\"].map({\n",
    "    True: \"#6cc5ec\",\n",
    "    False: \"#ec7282\"\n",
    "})\n",
    "\n",
    "fig = px.scatter(\n",
    "    segment_stats,\n",
    "    x=\"Average Rating\",\n",
    "    y=\"Median Installs\",\n",
    "    size=\"App Count\",\n",
    "    color=\"Couleur\",\n",
    "    hover_name=\"Category\",\n",
    "    color_discrete_map=\"identity\",\n",
    "    size_max=60,\n",
    "    log_y=True,\n",
    "    title=\"Stratégie : identifier les niches qualitatives\"\n",
    ")\n",
    "\n",
    "fig.add_shape(\n",
    "    type=\"line\",\n",
    "    x0=rating_threshold, x1=rating_threshold,\n",
    "    y0=segment_stats[\"Median Installs\"].min(), y1=segment_stats[\"Median Installs\"].max(),\n",
    "    line=dict(color=\"#6cc5ec\", dash=\"dash\"),\n",
    ")\n",
    "\n",
    "fig.add_shape(\n",
    "    type=\"line\",\n",
    "    y0=installs_threshold, y1=installs_threshold,\n",
    "    x0=segment_stats[\"Average Rating\"].min(), x1=segment_stats[\"Average Rating\"].max(),\n",
    "    line=dict(color=\"#6cc5ec\", dash=\"dash\"),\n",
    ")\n",
    "\n",
    "fig.add_annotation(\n",
    "    x=rating_threshold + 0.05,\n",
    "    y=installs_threshold / 10,\n",
    "    showarrow=False,\n",
    "    font=dict(color=\"blue\", size=14),\n",
    "    bgcolor=\"rgba(0, 0, 255, 0.05)\"\n",
    ")\n",
    "\n",
    "fig.update_traces(marker_symbol=\"circle\")\n",
    "fig.update_layout(\n",
    "    xaxis_title=\"Note moyenne\",\n",
    "    yaxis_title=\"Téléchargements médians (log)\",\n",
    "    plot_bgcolor='white',\n",
    "    font=dict(size=14),\n",
    "    xaxis=dict(showgrid=True, gridcolor='lightgray'),\n",
    "    yaxis=dict(showgrid=True, gridcolor='lightgray'),\n",
    "    showlegend=False\n",
    ")\n",
    "\n",
    "fig.show()\n"
   ]
  },
  {
   "cell_type": "markdown",
   "id": "2c3845b2",
   "metadata": {},
   "source": [
    "<h4>La catégorie EVENT, située dans le quadrant inférieur droit du graphique, affiche une excellente note moyenne malgré une popularité encore modeste, ce qui en fait une niche qualitative. Elle représente une opportunité intéressante pour une stratégie de différenciation ou un investissement early-stage sur un marché prometteur mais encore sous-exploité.</h3>\n"
   ]
  },
  {
   "cell_type": "markdown",
   "id": "f027af76",
   "metadata": {},
   "source": [
    "<h2>3. Identification des catégories les plus favorables par niche</h2>"
   ]
  },
  {
   "cell_type": "code",
   "execution_count": 17,
   "id": "1b93a436",
   "metadata": {},
   "outputs": [],
   "source": [
    "columns = [\"Category\", \"App Count\", \"Average Rating\", \"Median Installs\"]\n",
    "\n",
    "court_terme = segment_stats[segment_stats[\"Category\"].isin([\"PARENTING\", \"ART_AND_DESIGN\", \"EDUCATION\",\"BOOKS_AND_REFERENCE\", \"PERSONALIZATION\"])][columns]\n",
    "differenciation = segment_stats[segment_stats[\"Category\"].isin([\"EVENTS\"])][columns]"
   ]
  },
  {
   "cell_type": "markdown",
   "id": "20cc6122",
   "metadata": {},
   "source": [
    "### Comparaison des catégories par niche\n",
    "\n",
    "#### Pour identifier la catégorie la plus pertinente dans chaque niche, nous comparons les trois segments retenus à partir de trois critères : la note moyenne, le nombre médian de téléchargements et le nombre d'applications dans la catégorie. \n",
    "\n",
    "#### Ces critères sont normalisés et pondérés pour calculer un score global. On utilise un coefficient de 0.4 pour le rating moyen, 0.4 pour le nombre d'installations et 0.2 pour la saturation du secteur (1 - nombre d'app normalisé). La catégorie obtenant le meilleur score est retenue comme la plus stratégique à explorer.\n",
    "\n",
    "### Score = C1 × Rating normalisé + C2 × Installs normalisé + C3 × (1−App count normalisé)"
   ]
  },
  {
   "cell_type": "code",
   "execution_count": 18,
   "id": "cc40a0ec",
   "metadata": {},
   "outputs": [],
   "source": [
    "from sklearn.preprocessing import MinMaxScaler\n",
    "\n",
    "C1 = 0.4\n",
    "C2 = 0.4 \n",
    "C3 = 0.2\n",
    "\n",
    "def compute_score(df):\n",
    "    scaler = MinMaxScaler()\n",
    "    df_scaled = df.copy()\n",
    "    df_scaled[[\"Rating_norm\", \"Installs_norm\", \"AppCount_norm\"]] = scaler.fit_transform(\n",
    "        df[[\"Average Rating\", \"Median Installs\", \"App Count\"]]\n",
    "    )\n",
    "    df_scaled[\"Score\"] = (\n",
    "        df_scaled[\"Rating_norm\"] * C1 +\n",
    "        df_scaled[\"Installs_norm\"] * C2 +\n",
    "        (1 - df_scaled[\"AppCount_norm\"]) * C3\n",
    "    )\n",
    "    return df_scaled.sort_values(\"Score\", ascending=False)\n",
    "\n",
    "best_court_terme = compute_score(court_terme)\n",
    "\n"
   ]
  },
  {
   "cell_type": "code",
   "execution_count": 19,
   "id": "6354b7b8",
   "metadata": {},
   "outputs": [
    {
     "data": {
      "text/html": [
       "<div>\n",
       "<style scoped>\n",
       "    .dataframe tbody tr th:only-of-type {\n",
       "        vertical-align: middle;\n",
       "    }\n",
       "\n",
       "    .dataframe tbody tr th {\n",
       "        vertical-align: top;\n",
       "    }\n",
       "\n",
       "    .dataframe thead th {\n",
       "        text-align: right;\n",
       "    }\n",
       "</style>\n",
       "<table border=\"1\" class=\"dataframe\">\n",
       "  <thead>\n",
       "    <tr style=\"text-align: right;\">\n",
       "      <th></th>\n",
       "      <th>Category</th>\n",
       "      <th>App Count</th>\n",
       "      <th>Average Rating</th>\n",
       "      <th>Median Installs</th>\n",
       "      <th>Rating_norm</th>\n",
       "      <th>Installs_norm</th>\n",
       "      <th>AppCount_norm</th>\n",
       "      <th>Score</th>\n",
       "    </tr>\n",
       "  </thead>\n",
       "  <tbody>\n",
       "    <tr>\n",
       "      <th>8</th>\n",
       "      <td>EDUCATION</td>\n",
       "      <td>155</td>\n",
       "      <td>4.389032</td>\n",
       "      <td>1000000.0</td>\n",
       "      <td>1.000000</td>\n",
       "      <td>1.0</td>\n",
       "      <td>0.397727</td>\n",
       "      <td>0.920455</td>\n",
       "    </tr>\n",
       "    <tr>\n",
       "      <th>0</th>\n",
       "      <td>ART_AND_DESIGN</td>\n",
       "      <td>62</td>\n",
       "      <td>4.358065</td>\n",
       "      <td>100000.0</td>\n",
       "      <td>0.652174</td>\n",
       "      <td>0.0</td>\n",
       "      <td>0.045455</td>\n",
       "      <td>0.451779</td>\n",
       "    </tr>\n",
       "    <tr>\n",
       "      <th>3</th>\n",
       "      <td>BOOKS_AND_REFERENCE</td>\n",
       "      <td>178</td>\n",
       "      <td>4.346067</td>\n",
       "      <td>100000.0</td>\n",
       "      <td>0.517424</td>\n",
       "      <td>0.0</td>\n",
       "      <td>0.484848</td>\n",
       "      <td>0.310000</td>\n",
       "    </tr>\n",
       "    <tr>\n",
       "      <th>22</th>\n",
       "      <td>PARENTING</td>\n",
       "      <td>50</td>\n",
       "      <td>4.300000</td>\n",
       "      <td>100000.0</td>\n",
       "      <td>0.000000</td>\n",
       "      <td>0.0</td>\n",
       "      <td>0.000000</td>\n",
       "      <td>0.200000</td>\n",
       "    </tr>\n",
       "    <tr>\n",
       "      <th>23</th>\n",
       "      <td>PERSONALIZATION</td>\n",
       "      <td>314</td>\n",
       "      <td>4.335987</td>\n",
       "      <td>100000.0</td>\n",
       "      <td>0.404205</td>\n",
       "      <td>0.0</td>\n",
       "      <td>1.000000</td>\n",
       "      <td>0.161682</td>\n",
       "    </tr>\n",
       "  </tbody>\n",
       "</table>\n",
       "</div>"
      ],
      "text/plain": [
       "               Category  App Count  Average Rating  Median Installs  \\\n",
       "8             EDUCATION        155        4.389032        1000000.0   \n",
       "0        ART_AND_DESIGN         62        4.358065         100000.0   \n",
       "3   BOOKS_AND_REFERENCE        178        4.346067         100000.0   \n",
       "22            PARENTING         50        4.300000         100000.0   \n",
       "23      PERSONALIZATION        314        4.335987         100000.0   \n",
       "\n",
       "    Rating_norm  Installs_norm  AppCount_norm     Score  \n",
       "8      1.000000            1.0       0.397727  0.920455  \n",
       "0      0.652174            0.0       0.045455  0.451779  \n",
       "3      0.517424            0.0       0.484848  0.310000  \n",
       "22     0.000000            0.0       0.000000  0.200000  \n",
       "23     0.404205            0.0       1.000000  0.161682  "
      ]
     },
     "execution_count": 19,
     "metadata": {},
     "output_type": "execute_result"
    }
   ],
   "source": [
    "best_court_terme"
   ]
  },
  {
   "cell_type": "markdown",
   "id": "08b4a457",
   "metadata": {},
   "source": [
    "#### Le calcul des scores nous permet d'identifier deux catégories dans lequelles se pencher plus en détail : EDUCATION (score 0.92) et EVENTS"
   ]
  },
  {
   "cell_type": "markdown",
   "id": "9c49dd18",
   "metadata": {},
   "source": [
    "## 4. Focus sur les applications des catégories EDUCATION et EVENTS\n",
    "#### L'objectif est de déterminer des lots d'application qui représente un ensemble intéressant pour investir"
   ]
  },
  {
   "cell_type": "markdown",
   "id": "8aac5c3a",
   "metadata": {},
   "source": [
    "## A. Model payant ou gratuit ?"
   ]
  },
  {
   "cell_type": "code",
   "execution_count": 20,
   "id": "31aa1925",
   "metadata": {},
   "outputs": [],
   "source": [
    "df_edu = df[df['Category'] == 'EDUCATION'].copy()\n",
    "df_evt = df[df['Category'] == 'EVENTS'].copy()"
   ]
  },
  {
   "cell_type": "markdown",
   "id": "0bab1be8",
   "metadata": {},
   "source": [
    "## Focus sur la catégorie Education"
   ]
  },
  {
   "cell_type": "code",
   "execution_count": 21,
   "id": "30ef00ad",
   "metadata": {},
   "outputs": [
    {
     "data": {
      "text/plain": [
       "App\n",
       "Duolingo: Learn Languages Free                        4\n",
       "Learn languages, grammar & vocabulary with Memrise    4\n",
       "Quizlet: Learn Languages & Vocab with Flashcards      4\n",
       "Rosetta Stone: Learn to Speak & Read New Languages    4\n",
       "Khan Academy                                          3\n",
       "                                                     ..\n",
       "Blinkist - Nonfiction Books                           1\n",
       "Sago Mini Hat Maker                                   1\n",
       "Fuzzy Numbers: Pre-K Number Foundation                1\n",
       "Toca Life: City                                       1\n",
       "Toca Life: Hospital                                   1\n",
       "Name: count, Length: 118, dtype: int64"
      ]
     },
     "execution_count": 21,
     "metadata": {},
     "output_type": "execute_result"
    }
   ],
   "source": [
    "df_edu[\"App\"].value_counts()"
   ]
  },
  {
   "cell_type": "markdown",
   "id": "74ab74ea",
   "metadata": {},
   "source": [
    "#### On observe la présence de doublons dans les applications, représentant différentes occurrences très similaires. Après vérification, la principale différence entre ces doublons réside dans le nombre de reviews. Par souci de cohérence et afin de conserver la version la plus représentative de l'engagement utilisateur, nous choisissons de ne garder que celle ayant le plus grand nombre de reviews."
   ]
  },
  {
   "cell_type": "code",
   "execution_count": 22,
   "id": "a09f9cb9",
   "metadata": {},
   "outputs": [
    {
     "data": {
      "text/plain": [
       "np.int64(0)"
      ]
     },
     "execution_count": 22,
     "metadata": {},
     "output_type": "execute_result"
    }
   ],
   "source": [
    "df_edu = df_edu.sort_values('Reviews', ascending=False)\n",
    "df_edu = df_edu.drop_duplicates(subset='App', keep='first')\n",
    "\n",
    "df_edu['App'].duplicated().sum()"
   ]
  },
  {
   "cell_type": "code",
   "execution_count": 23,
   "id": "3b465d2a",
   "metadata": {},
   "outputs": [
    {
     "data": {
      "text/plain": [
       "Type\n",
       "Free    114\n",
       "Paid      4\n",
       "Name: count, dtype: int64"
      ]
     },
     "execution_count": 23,
     "metadata": {},
     "output_type": "execute_result"
    }
   ],
   "source": [
    "df_edu[\"Type\"].value_counts()"
   ]
  },
  {
   "cell_type": "code",
   "execution_count": 24,
   "id": "6f77ba04",
   "metadata": {},
   "outputs": [
    {
     "name": "stdout",
     "output_type": "stream",
     "text": [
      "Les moyennes de notes sont :\n",
      "- Apps gratuites : 4.35\n",
      "- Apps payantes : 4.75\n"
     ]
    }
   ],
   "source": [
    "ratings = df_edu.groupby('Type')['Rating'].mean()\n",
    "print(f\"Les moyennes de notes sont :\\n- Apps gratuites : {ratings['Free']:.2f}\\n- Apps payantes : {ratings['Paid']:.2f}\")"
   ]
  },
  {
   "cell_type": "code",
   "execution_count": 25,
   "id": "eebcddc3",
   "metadata": {},
   "outputs": [
    {
     "name": "stdout",
     "output_type": "stream",
     "text": [
      "Nombre moyen d'installations :\n",
      "- Apps gratuites : 3,089,912\n",
      "- Apps payantes : 150,500\n"
     ]
    }
   ],
   "source": [
    "installs = df_edu.groupby('Type')['Installs_clean'].mean()\n",
    "print(f\"Nombre moyen d'installations :\\n- Apps gratuites : {int(installs['Free']):,}\\n- Apps payantes : {int(installs['Paid']):,}\")"
   ]
  },
  {
   "cell_type": "code",
   "execution_count": 26,
   "id": "6f945aeb",
   "metadata": {},
   "outputs": [
    {
     "name": "stdout",
     "output_type": "stream",
     "text": [
      "Taux d'engagement moyen :\n",
      "- Apps gratuites : 3.00%\n",
      "- Apps payantes : 3.24%\n"
     ]
    }
   ],
   "source": [
    "df_edu['Reviews'] = df_edu['Reviews'].str.replace(',', '').astype(int)\n",
    "df_edu['Engagement'] = df_edu['Reviews'] / df_edu['Installs_clean']\n",
    "engagement = df_edu.groupby('Type')['Engagement'].mean()\n",
    "print(f\"Taux d'engagement moyen :\\n- Apps gratuites : {engagement['Free']:.2%}\\n- Apps payantes : {engagement['Paid']:.2%}\")"
   ]
  },
  {
   "cell_type": "markdown",
   "id": "e96be3c9",
   "metadata": {},
   "source": [
    "#### On trace la distribution des notes par modèle économique"
   ]
  },
  {
   "cell_type": "code",
   "execution_count": 27,
   "id": "9d947811",
   "metadata": {},
   "outputs": [
    {
     "data": {
      "application/vnd.plotly.v1+json": {
       "config": {
        "plotlyServerURL": "https://plot.ly"
       },
       "data": [
        {
         "alignmentgroup": "True",
         "boxpoints": "all",
         "hovertemplate": "Modèle économique=%{x}<br>Note=%{y}<extra></extra>",
         "legendgroup": "",
         "marker": {
          "color": "#636efa"
         },
         "name": "",
         "notched": false,
         "offsetgroup": "",
         "orientation": "v",
         "showlegend": false,
         "type": "box",
         "x": [
          "Free",
          "Free",
          "Free",
          "Free",
          "Free",
          "Free",
          "Free",
          "Free",
          "Free",
          "Free",
          "Free",
          "Free",
          "Free",
          "Free",
          "Free",
          "Free",
          "Free",
          "Free",
          "Free",
          "Free",
          "Free",
          "Free",
          "Free",
          "Free",
          "Free",
          "Free",
          "Free",
          "Free",
          "Free",
          "Free",
          "Free",
          "Free",
          "Free",
          "Free",
          "Free",
          "Free",
          "Free",
          "Free",
          "Free",
          "Free",
          "Free",
          "Free",
          "Free",
          "Free",
          "Free",
          "Free",
          "Free",
          "Free",
          "Free",
          "Free",
          "Paid",
          "Free",
          "Free",
          "Free",
          "Free",
          "Free",
          "Free",
          "Free",
          "Free",
          "Paid",
          "Free",
          "Free",
          "Free",
          "Free",
          "Free",
          "Free",
          "Free",
          "Free",
          "Free",
          "Free",
          "Free",
          "Free",
          "Free",
          "Free",
          "Free",
          "Free",
          "Free",
          "Free",
          "Free",
          "Free",
          "Free",
          "Free",
          "Free",
          "Paid",
          "Free",
          "Free",
          "Free",
          "Free",
          "Free",
          "Free",
          "Free",
          "Free",
          "Free",
          "Free",
          "Free",
          "Free",
          "Free",
          "Free",
          "Free",
          "Free",
          "Free",
          "Free",
          "Free",
          "Free",
          "Free",
          "Free",
          "Free",
          "Free",
          "Free",
          "Free",
          "Free",
          "Free",
          "Paid",
          "Free",
          "Free",
          "Free",
          "Free",
          "Free"
         ],
         "x0": " ",
         "xaxis": "x",
         "y": [
          4.5,
          4.7,
          4.5,
          4.1,
          4.6,
          4.4,
          4,
          4.2,
          4.6,
          4.4,
          4,
          3.8,
          4.6,
          4.5,
          4.6,
          4.4,
          4.6,
          4.1,
          4.4,
          4.2,
          4.2,
          4.3,
          4.2,
          4.7,
          4.7,
          3.9,
          4.2,
          4.2,
          4.4,
          4.6,
          4.3,
          4.4,
          4.4,
          4.7,
          4,
          4.3,
          4,
          4.5,
          4.3,
          4.5,
          4.8,
          4.2,
          4.4,
          4.4,
          4,
          4.2,
          4.6,
          4.2,
          4.2,
          4.1,
          4.7,
          4.5,
          4.4,
          4.2,
          4.6,
          4.7,
          4.3,
          4,
          4.7,
          4.7,
          4,
          4.1,
          4.4,
          4,
          3.8,
          4,
          4.4,
          4.3,
          4.8,
          4.7,
          4.7,
          4,
          4.6,
          4.5,
          4.5,
          3.8,
          4.2,
          4.1,
          4.2,
          4.3,
          4.3,
          4.2,
          4.6,
          4.7,
          4.4,
          4.3,
          4.3,
          4.1,
          4.5,
          4.7,
          4.6,
          4.6,
          4.4,
          4.6,
          4.5,
          4.3,
          4.4,
          4.1,
          4.3,
          4.4,
          4.3,
          4.2,
          4.7,
          4.5,
          3.5,
          4.5,
          4.6,
          4.9,
          4.1,
          3.9,
          4.3,
          4.7,
          4.9,
          4.4,
          4.5,
          4.5,
          4.6,
          4.3
         ],
         "y0": " ",
         "yaxis": "y"
        }
       ],
       "layout": {
        "boxmode": "group",
        "legend": {
         "tracegroupgap": 0
        },
        "template": {
         "data": {
          "bar": [
           {
            "error_x": {
             "color": "#2a3f5f"
            },
            "error_y": {
             "color": "#2a3f5f"
            },
            "marker": {
             "line": {
              "color": "#E5ECF6",
              "width": 0.5
             },
             "pattern": {
              "fillmode": "overlay",
              "size": 10,
              "solidity": 0.2
             }
            },
            "type": "bar"
           }
          ],
          "barpolar": [
           {
            "marker": {
             "line": {
              "color": "#E5ECF6",
              "width": 0.5
             },
             "pattern": {
              "fillmode": "overlay",
              "size": 10,
              "solidity": 0.2
             }
            },
            "type": "barpolar"
           }
          ],
          "carpet": [
           {
            "aaxis": {
             "endlinecolor": "#2a3f5f",
             "gridcolor": "white",
             "linecolor": "white",
             "minorgridcolor": "white",
             "startlinecolor": "#2a3f5f"
            },
            "baxis": {
             "endlinecolor": "#2a3f5f",
             "gridcolor": "white",
             "linecolor": "white",
             "minorgridcolor": "white",
             "startlinecolor": "#2a3f5f"
            },
            "type": "carpet"
           }
          ],
          "choropleth": [
           {
            "colorbar": {
             "outlinewidth": 0,
             "ticks": ""
            },
            "type": "choropleth"
           }
          ],
          "contour": [
           {
            "colorbar": {
             "outlinewidth": 0,
             "ticks": ""
            },
            "colorscale": [
             [
              0,
              "#0d0887"
             ],
             [
              0.1111111111111111,
              "#46039f"
             ],
             [
              0.2222222222222222,
              "#7201a8"
             ],
             [
              0.3333333333333333,
              "#9c179e"
             ],
             [
              0.4444444444444444,
              "#bd3786"
             ],
             [
              0.5555555555555556,
              "#d8576b"
             ],
             [
              0.6666666666666666,
              "#ed7953"
             ],
             [
              0.7777777777777778,
              "#fb9f3a"
             ],
             [
              0.8888888888888888,
              "#fdca26"
             ],
             [
              1,
              "#f0f921"
             ]
            ],
            "type": "contour"
           }
          ],
          "contourcarpet": [
           {
            "colorbar": {
             "outlinewidth": 0,
             "ticks": ""
            },
            "type": "contourcarpet"
           }
          ],
          "heatmap": [
           {
            "colorbar": {
             "outlinewidth": 0,
             "ticks": ""
            },
            "colorscale": [
             [
              0,
              "#0d0887"
             ],
             [
              0.1111111111111111,
              "#46039f"
             ],
             [
              0.2222222222222222,
              "#7201a8"
             ],
             [
              0.3333333333333333,
              "#9c179e"
             ],
             [
              0.4444444444444444,
              "#bd3786"
             ],
             [
              0.5555555555555556,
              "#d8576b"
             ],
             [
              0.6666666666666666,
              "#ed7953"
             ],
             [
              0.7777777777777778,
              "#fb9f3a"
             ],
             [
              0.8888888888888888,
              "#fdca26"
             ],
             [
              1,
              "#f0f921"
             ]
            ],
            "type": "heatmap"
           }
          ],
          "heatmapgl": [
           {
            "colorbar": {
             "outlinewidth": 0,
             "ticks": ""
            },
            "colorscale": [
             [
              0,
              "#0d0887"
             ],
             [
              0.1111111111111111,
              "#46039f"
             ],
             [
              0.2222222222222222,
              "#7201a8"
             ],
             [
              0.3333333333333333,
              "#9c179e"
             ],
             [
              0.4444444444444444,
              "#bd3786"
             ],
             [
              0.5555555555555556,
              "#d8576b"
             ],
             [
              0.6666666666666666,
              "#ed7953"
             ],
             [
              0.7777777777777778,
              "#fb9f3a"
             ],
             [
              0.8888888888888888,
              "#fdca26"
             ],
             [
              1,
              "#f0f921"
             ]
            ],
            "type": "heatmapgl"
           }
          ],
          "histogram": [
           {
            "marker": {
             "pattern": {
              "fillmode": "overlay",
              "size": 10,
              "solidity": 0.2
             }
            },
            "type": "histogram"
           }
          ],
          "histogram2d": [
           {
            "colorbar": {
             "outlinewidth": 0,
             "ticks": ""
            },
            "colorscale": [
             [
              0,
              "#0d0887"
             ],
             [
              0.1111111111111111,
              "#46039f"
             ],
             [
              0.2222222222222222,
              "#7201a8"
             ],
             [
              0.3333333333333333,
              "#9c179e"
             ],
             [
              0.4444444444444444,
              "#bd3786"
             ],
             [
              0.5555555555555556,
              "#d8576b"
             ],
             [
              0.6666666666666666,
              "#ed7953"
             ],
             [
              0.7777777777777778,
              "#fb9f3a"
             ],
             [
              0.8888888888888888,
              "#fdca26"
             ],
             [
              1,
              "#f0f921"
             ]
            ],
            "type": "histogram2d"
           }
          ],
          "histogram2dcontour": [
           {
            "colorbar": {
             "outlinewidth": 0,
             "ticks": ""
            },
            "colorscale": [
             [
              0,
              "#0d0887"
             ],
             [
              0.1111111111111111,
              "#46039f"
             ],
             [
              0.2222222222222222,
              "#7201a8"
             ],
             [
              0.3333333333333333,
              "#9c179e"
             ],
             [
              0.4444444444444444,
              "#bd3786"
             ],
             [
              0.5555555555555556,
              "#d8576b"
             ],
             [
              0.6666666666666666,
              "#ed7953"
             ],
             [
              0.7777777777777778,
              "#fb9f3a"
             ],
             [
              0.8888888888888888,
              "#fdca26"
             ],
             [
              1,
              "#f0f921"
             ]
            ],
            "type": "histogram2dcontour"
           }
          ],
          "mesh3d": [
           {
            "colorbar": {
             "outlinewidth": 0,
             "ticks": ""
            },
            "type": "mesh3d"
           }
          ],
          "parcoords": [
           {
            "line": {
             "colorbar": {
              "outlinewidth": 0,
              "ticks": ""
             }
            },
            "type": "parcoords"
           }
          ],
          "pie": [
           {
            "automargin": true,
            "type": "pie"
           }
          ],
          "scatter": [
           {
            "fillpattern": {
             "fillmode": "overlay",
             "size": 10,
             "solidity": 0.2
            },
            "type": "scatter"
           }
          ],
          "scatter3d": [
           {
            "line": {
             "colorbar": {
              "outlinewidth": 0,
              "ticks": ""
             }
            },
            "marker": {
             "colorbar": {
              "outlinewidth": 0,
              "ticks": ""
             }
            },
            "type": "scatter3d"
           }
          ],
          "scattercarpet": [
           {
            "marker": {
             "colorbar": {
              "outlinewidth": 0,
              "ticks": ""
             }
            },
            "type": "scattercarpet"
           }
          ],
          "scattergeo": [
           {
            "marker": {
             "colorbar": {
              "outlinewidth": 0,
              "ticks": ""
             }
            },
            "type": "scattergeo"
           }
          ],
          "scattergl": [
           {
            "marker": {
             "colorbar": {
              "outlinewidth": 0,
              "ticks": ""
             }
            },
            "type": "scattergl"
           }
          ],
          "scattermapbox": [
           {
            "marker": {
             "colorbar": {
              "outlinewidth": 0,
              "ticks": ""
             }
            },
            "type": "scattermapbox"
           }
          ],
          "scatterpolar": [
           {
            "marker": {
             "colorbar": {
              "outlinewidth": 0,
              "ticks": ""
             }
            },
            "type": "scatterpolar"
           }
          ],
          "scatterpolargl": [
           {
            "marker": {
             "colorbar": {
              "outlinewidth": 0,
              "ticks": ""
             }
            },
            "type": "scatterpolargl"
           }
          ],
          "scatterternary": [
           {
            "marker": {
             "colorbar": {
              "outlinewidth": 0,
              "ticks": ""
             }
            },
            "type": "scatterternary"
           }
          ],
          "surface": [
           {
            "colorbar": {
             "outlinewidth": 0,
             "ticks": ""
            },
            "colorscale": [
             [
              0,
              "#0d0887"
             ],
             [
              0.1111111111111111,
              "#46039f"
             ],
             [
              0.2222222222222222,
              "#7201a8"
             ],
             [
              0.3333333333333333,
              "#9c179e"
             ],
             [
              0.4444444444444444,
              "#bd3786"
             ],
             [
              0.5555555555555556,
              "#d8576b"
             ],
             [
              0.6666666666666666,
              "#ed7953"
             ],
             [
              0.7777777777777778,
              "#fb9f3a"
             ],
             [
              0.8888888888888888,
              "#fdca26"
             ],
             [
              1,
              "#f0f921"
             ]
            ],
            "type": "surface"
           }
          ],
          "table": [
           {
            "cells": {
             "fill": {
              "color": "#EBF0F8"
             },
             "line": {
              "color": "white"
             }
            },
            "header": {
             "fill": {
              "color": "#C8D4E3"
             },
             "line": {
              "color": "white"
             }
            },
            "type": "table"
           }
          ]
         },
         "layout": {
          "annotationdefaults": {
           "arrowcolor": "#2a3f5f",
           "arrowhead": 0,
           "arrowwidth": 1
          },
          "autotypenumbers": "strict",
          "coloraxis": {
           "colorbar": {
            "outlinewidth": 0,
            "ticks": ""
           }
          },
          "colorscale": {
           "diverging": [
            [
             0,
             "#8e0152"
            ],
            [
             0.1,
             "#c51b7d"
            ],
            [
             0.2,
             "#de77ae"
            ],
            [
             0.3,
             "#f1b6da"
            ],
            [
             0.4,
             "#fde0ef"
            ],
            [
             0.5,
             "#f7f7f7"
            ],
            [
             0.6,
             "#e6f5d0"
            ],
            [
             0.7,
             "#b8e186"
            ],
            [
             0.8,
             "#7fbc41"
            ],
            [
             0.9,
             "#4d9221"
            ],
            [
             1,
             "#276419"
            ]
           ],
           "sequential": [
            [
             0,
             "#0d0887"
            ],
            [
             0.1111111111111111,
             "#46039f"
            ],
            [
             0.2222222222222222,
             "#7201a8"
            ],
            [
             0.3333333333333333,
             "#9c179e"
            ],
            [
             0.4444444444444444,
             "#bd3786"
            ],
            [
             0.5555555555555556,
             "#d8576b"
            ],
            [
             0.6666666666666666,
             "#ed7953"
            ],
            [
             0.7777777777777778,
             "#fb9f3a"
            ],
            [
             0.8888888888888888,
             "#fdca26"
            ],
            [
             1,
             "#f0f921"
            ]
           ],
           "sequentialminus": [
            [
             0,
             "#0d0887"
            ],
            [
             0.1111111111111111,
             "#46039f"
            ],
            [
             0.2222222222222222,
             "#7201a8"
            ],
            [
             0.3333333333333333,
             "#9c179e"
            ],
            [
             0.4444444444444444,
             "#bd3786"
            ],
            [
             0.5555555555555556,
             "#d8576b"
            ],
            [
             0.6666666666666666,
             "#ed7953"
            ],
            [
             0.7777777777777778,
             "#fb9f3a"
            ],
            [
             0.8888888888888888,
             "#fdca26"
            ],
            [
             1,
             "#f0f921"
            ]
           ]
          },
          "colorway": [
           "#636efa",
           "#EF553B",
           "#00cc96",
           "#ab63fa",
           "#FFA15A",
           "#19d3f3",
           "#FF6692",
           "#B6E880",
           "#FF97FF",
           "#FECB52"
          ],
          "font": {
           "color": "#2a3f5f"
          },
          "geo": {
           "bgcolor": "white",
           "lakecolor": "white",
           "landcolor": "#E5ECF6",
           "showlakes": true,
           "showland": true,
           "subunitcolor": "white"
          },
          "hoverlabel": {
           "align": "left"
          },
          "hovermode": "closest",
          "mapbox": {
           "style": "light"
          },
          "paper_bgcolor": "white",
          "plot_bgcolor": "#E5ECF6",
          "polar": {
           "angularaxis": {
            "gridcolor": "white",
            "linecolor": "white",
            "ticks": ""
           },
           "bgcolor": "#E5ECF6",
           "radialaxis": {
            "gridcolor": "white",
            "linecolor": "white",
            "ticks": ""
           }
          },
          "scene": {
           "xaxis": {
            "backgroundcolor": "#E5ECF6",
            "gridcolor": "white",
            "gridwidth": 2,
            "linecolor": "white",
            "showbackground": true,
            "ticks": "",
            "zerolinecolor": "white"
           },
           "yaxis": {
            "backgroundcolor": "#E5ECF6",
            "gridcolor": "white",
            "gridwidth": 2,
            "linecolor": "white",
            "showbackground": true,
            "ticks": "",
            "zerolinecolor": "white"
           },
           "zaxis": {
            "backgroundcolor": "#E5ECF6",
            "gridcolor": "white",
            "gridwidth": 2,
            "linecolor": "white",
            "showbackground": true,
            "ticks": "",
            "zerolinecolor": "white"
           }
          },
          "shapedefaults": {
           "line": {
            "color": "#2a3f5f"
           }
          },
          "ternary": {
           "aaxis": {
            "gridcolor": "white",
            "linecolor": "white",
            "ticks": ""
           },
           "baxis": {
            "gridcolor": "white",
            "linecolor": "white",
            "ticks": ""
           },
           "bgcolor": "#E5ECF6",
           "caxis": {
            "gridcolor": "white",
            "linecolor": "white",
            "ticks": ""
           }
          },
          "title": {
           "x": 0.05
          },
          "xaxis": {
           "automargin": true,
           "gridcolor": "white",
           "linecolor": "white",
           "ticks": "",
           "title": {
            "standoff": 15
           },
           "zerolinecolor": "white",
           "zerolinewidth": 2
          },
          "yaxis": {
           "automargin": true,
           "gridcolor": "white",
           "linecolor": "white",
           "ticks": "",
           "title": {
            "standoff": 15
           },
           "zerolinecolor": "white",
           "zerolinewidth": 2
          }
         }
        },
        "title": {
         "text": "Distribution des notes - EDUCATION (Free vs Paid)"
        },
        "xaxis": {
         "anchor": "y",
         "domain": [
          0,
          1
         ],
         "title": {
          "text": "Modèle économique"
         }
        },
        "yaxis": {
         "anchor": "x",
         "domain": [
          0,
          1
         ],
         "title": {
          "text": "Note"
         }
        }
       }
      }
     },
     "metadata": {},
     "output_type": "display_data"
    }
   ],
   "source": [
    "fig = px.box(\n",
    "    df_edu,\n",
    "    x='Type',\n",
    "    y='Rating',\n",
    "    points='all', \n",
    "    title=\"Distribution des notes - EDUCATION (Free vs Paid)\",\n",
    "    labels={'Rating': 'Note', 'Type': 'Modèle économique'}\n",
    ")\n",
    "fig.show()\n"
   ]
  },
  {
   "cell_type": "markdown",
   "id": "5b090b36",
   "metadata": {},
   "source": [
    "#### Et la distribution du nombre d'installation par modèle économique."
   ]
  },
  {
   "cell_type": "code",
   "execution_count": 28,
   "id": "cecb2500",
   "metadata": {},
   "outputs": [
    {
     "data": {
      "application/vnd.plotly.v1+json": {
       "config": {
        "plotlyServerURL": "https://plot.ly"
       },
       "data": [
        {
         "alignmentgroup": "True",
         "boxpoints": "all",
         "hovertemplate": "Modèle économique=%{x}<br>Installations=%{y}<extra></extra>",
         "legendgroup": "",
         "marker": {
          "color": "#636efa"
         },
         "name": "",
         "notched": false,
         "offsetgroup": "",
         "orientation": "v",
         "showlegend": false,
         "type": "box",
         "x": [
          "Free",
          "Free",
          "Free",
          "Free",
          "Free",
          "Free",
          "Free",
          "Free",
          "Free",
          "Free",
          "Free",
          "Free",
          "Free",
          "Free",
          "Free",
          "Free",
          "Free",
          "Free",
          "Free",
          "Free",
          "Free",
          "Free",
          "Free",
          "Free",
          "Free",
          "Free",
          "Free",
          "Free",
          "Free",
          "Free",
          "Free",
          "Free",
          "Free",
          "Free",
          "Free",
          "Free",
          "Free",
          "Free",
          "Free",
          "Free",
          "Free",
          "Free",
          "Free",
          "Free",
          "Free",
          "Free",
          "Free",
          "Free",
          "Free",
          "Free",
          "Paid",
          "Free",
          "Free",
          "Free",
          "Free",
          "Free",
          "Free",
          "Free",
          "Free",
          "Paid",
          "Free",
          "Free",
          "Free",
          "Free",
          "Free",
          "Free",
          "Free",
          "Free",
          "Free",
          "Free",
          "Free",
          "Free",
          "Free",
          "Free",
          "Free",
          "Free",
          "Free",
          "Free",
          "Free",
          "Free",
          "Free",
          "Free",
          "Free",
          "Paid",
          "Free",
          "Free",
          "Free",
          "Free",
          "Free",
          "Free",
          "Free",
          "Free",
          "Free",
          "Free",
          "Free",
          "Free",
          "Free",
          "Free",
          "Free",
          "Free",
          "Free",
          "Free",
          "Free",
          "Free",
          "Free",
          "Free",
          "Free",
          "Free",
          "Free",
          "Free",
          "Free",
          "Free",
          "Paid",
          "Free",
          "Free",
          "Free",
          "Free",
          "Free"
         ],
         "x0": " ",
         "xaxis": "x",
         "y": [
          1000000,
          500000,
          5000000,
          1000000,
          1000000,
          5000000,
          500000,
          1000000,
          5000000,
          5000000,
          100000,
          100000,
          1000000,
          100000,
          1000000,
          1000000,
          1000000,
          10000,
          1000000,
          10000000,
          1000000,
          10000,
          50000,
          100000000,
          1000000,
          50000,
          1000000,
          1000000,
          1000000,
          1000000,
          1000000,
          5000000,
          1000000,
          1000000,
          500000,
          1000000,
          10000,
          1000000,
          100000,
          1000000,
          500000,
          1000000,
          100000,
          500000,
          500000,
          500000,
          1000000,
          100000,
          5000000,
          50000,
          100000,
          10000000,
          1000000,
          100000,
          1000000,
          1000000,
          1000000,
          50000,
          10000000,
          500000,
          10000,
          1000000,
          1000000,
          1000000,
          5000000,
          50000,
          10000000,
          10000000,
          1000000,
          5000000,
          100000,
          100000,
          1000000,
          5000000,
          5000000,
          500000,
          10000,
          100000,
          100000,
          1000000,
          1000000,
          10000000,
          10000000,
          1000,
          100000,
          10000000,
          50000,
          10000000,
          500000,
          1000000,
          100000,
          10000000,
          100000,
          5000000,
          5000000,
          1000000,
          1000000,
          1000000,
          100000,
          10000000,
          1000000,
          5000000,
          5000000,
          500000,
          100000,
          500000,
          100000,
          1000000,
          1000000,
          100000,
          1000000,
          10000000,
          1000,
          1000000,
          10000000,
          1000000,
          500000,
          100000
         ],
         "y0": " ",
         "yaxis": "y"
        }
       ],
       "layout": {
        "boxmode": "group",
        "legend": {
         "tracegroupgap": 0
        },
        "template": {
         "data": {
          "bar": [
           {
            "error_x": {
             "color": "#2a3f5f"
            },
            "error_y": {
             "color": "#2a3f5f"
            },
            "marker": {
             "line": {
              "color": "#E5ECF6",
              "width": 0.5
             },
             "pattern": {
              "fillmode": "overlay",
              "size": 10,
              "solidity": 0.2
             }
            },
            "type": "bar"
           }
          ],
          "barpolar": [
           {
            "marker": {
             "line": {
              "color": "#E5ECF6",
              "width": 0.5
             },
             "pattern": {
              "fillmode": "overlay",
              "size": 10,
              "solidity": 0.2
             }
            },
            "type": "barpolar"
           }
          ],
          "carpet": [
           {
            "aaxis": {
             "endlinecolor": "#2a3f5f",
             "gridcolor": "white",
             "linecolor": "white",
             "minorgridcolor": "white",
             "startlinecolor": "#2a3f5f"
            },
            "baxis": {
             "endlinecolor": "#2a3f5f",
             "gridcolor": "white",
             "linecolor": "white",
             "minorgridcolor": "white",
             "startlinecolor": "#2a3f5f"
            },
            "type": "carpet"
           }
          ],
          "choropleth": [
           {
            "colorbar": {
             "outlinewidth": 0,
             "ticks": ""
            },
            "type": "choropleth"
           }
          ],
          "contour": [
           {
            "colorbar": {
             "outlinewidth": 0,
             "ticks": ""
            },
            "colorscale": [
             [
              0,
              "#0d0887"
             ],
             [
              0.1111111111111111,
              "#46039f"
             ],
             [
              0.2222222222222222,
              "#7201a8"
             ],
             [
              0.3333333333333333,
              "#9c179e"
             ],
             [
              0.4444444444444444,
              "#bd3786"
             ],
             [
              0.5555555555555556,
              "#d8576b"
             ],
             [
              0.6666666666666666,
              "#ed7953"
             ],
             [
              0.7777777777777778,
              "#fb9f3a"
             ],
             [
              0.8888888888888888,
              "#fdca26"
             ],
             [
              1,
              "#f0f921"
             ]
            ],
            "type": "contour"
           }
          ],
          "contourcarpet": [
           {
            "colorbar": {
             "outlinewidth": 0,
             "ticks": ""
            },
            "type": "contourcarpet"
           }
          ],
          "heatmap": [
           {
            "colorbar": {
             "outlinewidth": 0,
             "ticks": ""
            },
            "colorscale": [
             [
              0,
              "#0d0887"
             ],
             [
              0.1111111111111111,
              "#46039f"
             ],
             [
              0.2222222222222222,
              "#7201a8"
             ],
             [
              0.3333333333333333,
              "#9c179e"
             ],
             [
              0.4444444444444444,
              "#bd3786"
             ],
             [
              0.5555555555555556,
              "#d8576b"
             ],
             [
              0.6666666666666666,
              "#ed7953"
             ],
             [
              0.7777777777777778,
              "#fb9f3a"
             ],
             [
              0.8888888888888888,
              "#fdca26"
             ],
             [
              1,
              "#f0f921"
             ]
            ],
            "type": "heatmap"
           }
          ],
          "heatmapgl": [
           {
            "colorbar": {
             "outlinewidth": 0,
             "ticks": ""
            },
            "colorscale": [
             [
              0,
              "#0d0887"
             ],
             [
              0.1111111111111111,
              "#46039f"
             ],
             [
              0.2222222222222222,
              "#7201a8"
             ],
             [
              0.3333333333333333,
              "#9c179e"
             ],
             [
              0.4444444444444444,
              "#bd3786"
             ],
             [
              0.5555555555555556,
              "#d8576b"
             ],
             [
              0.6666666666666666,
              "#ed7953"
             ],
             [
              0.7777777777777778,
              "#fb9f3a"
             ],
             [
              0.8888888888888888,
              "#fdca26"
             ],
             [
              1,
              "#f0f921"
             ]
            ],
            "type": "heatmapgl"
           }
          ],
          "histogram": [
           {
            "marker": {
             "pattern": {
              "fillmode": "overlay",
              "size": 10,
              "solidity": 0.2
             }
            },
            "type": "histogram"
           }
          ],
          "histogram2d": [
           {
            "colorbar": {
             "outlinewidth": 0,
             "ticks": ""
            },
            "colorscale": [
             [
              0,
              "#0d0887"
             ],
             [
              0.1111111111111111,
              "#46039f"
             ],
             [
              0.2222222222222222,
              "#7201a8"
             ],
             [
              0.3333333333333333,
              "#9c179e"
             ],
             [
              0.4444444444444444,
              "#bd3786"
             ],
             [
              0.5555555555555556,
              "#d8576b"
             ],
             [
              0.6666666666666666,
              "#ed7953"
             ],
             [
              0.7777777777777778,
              "#fb9f3a"
             ],
             [
              0.8888888888888888,
              "#fdca26"
             ],
             [
              1,
              "#f0f921"
             ]
            ],
            "type": "histogram2d"
           }
          ],
          "histogram2dcontour": [
           {
            "colorbar": {
             "outlinewidth": 0,
             "ticks": ""
            },
            "colorscale": [
             [
              0,
              "#0d0887"
             ],
             [
              0.1111111111111111,
              "#46039f"
             ],
             [
              0.2222222222222222,
              "#7201a8"
             ],
             [
              0.3333333333333333,
              "#9c179e"
             ],
             [
              0.4444444444444444,
              "#bd3786"
             ],
             [
              0.5555555555555556,
              "#d8576b"
             ],
             [
              0.6666666666666666,
              "#ed7953"
             ],
             [
              0.7777777777777778,
              "#fb9f3a"
             ],
             [
              0.8888888888888888,
              "#fdca26"
             ],
             [
              1,
              "#f0f921"
             ]
            ],
            "type": "histogram2dcontour"
           }
          ],
          "mesh3d": [
           {
            "colorbar": {
             "outlinewidth": 0,
             "ticks": ""
            },
            "type": "mesh3d"
           }
          ],
          "parcoords": [
           {
            "line": {
             "colorbar": {
              "outlinewidth": 0,
              "ticks": ""
             }
            },
            "type": "parcoords"
           }
          ],
          "pie": [
           {
            "automargin": true,
            "type": "pie"
           }
          ],
          "scatter": [
           {
            "fillpattern": {
             "fillmode": "overlay",
             "size": 10,
             "solidity": 0.2
            },
            "type": "scatter"
           }
          ],
          "scatter3d": [
           {
            "line": {
             "colorbar": {
              "outlinewidth": 0,
              "ticks": ""
             }
            },
            "marker": {
             "colorbar": {
              "outlinewidth": 0,
              "ticks": ""
             }
            },
            "type": "scatter3d"
           }
          ],
          "scattercarpet": [
           {
            "marker": {
             "colorbar": {
              "outlinewidth": 0,
              "ticks": ""
             }
            },
            "type": "scattercarpet"
           }
          ],
          "scattergeo": [
           {
            "marker": {
             "colorbar": {
              "outlinewidth": 0,
              "ticks": ""
             }
            },
            "type": "scattergeo"
           }
          ],
          "scattergl": [
           {
            "marker": {
             "colorbar": {
              "outlinewidth": 0,
              "ticks": ""
             }
            },
            "type": "scattergl"
           }
          ],
          "scattermapbox": [
           {
            "marker": {
             "colorbar": {
              "outlinewidth": 0,
              "ticks": ""
             }
            },
            "type": "scattermapbox"
           }
          ],
          "scatterpolar": [
           {
            "marker": {
             "colorbar": {
              "outlinewidth": 0,
              "ticks": ""
             }
            },
            "type": "scatterpolar"
           }
          ],
          "scatterpolargl": [
           {
            "marker": {
             "colorbar": {
              "outlinewidth": 0,
              "ticks": ""
             }
            },
            "type": "scatterpolargl"
           }
          ],
          "scatterternary": [
           {
            "marker": {
             "colorbar": {
              "outlinewidth": 0,
              "ticks": ""
             }
            },
            "type": "scatterternary"
           }
          ],
          "surface": [
           {
            "colorbar": {
             "outlinewidth": 0,
             "ticks": ""
            },
            "colorscale": [
             [
              0,
              "#0d0887"
             ],
             [
              0.1111111111111111,
              "#46039f"
             ],
             [
              0.2222222222222222,
              "#7201a8"
             ],
             [
              0.3333333333333333,
              "#9c179e"
             ],
             [
              0.4444444444444444,
              "#bd3786"
             ],
             [
              0.5555555555555556,
              "#d8576b"
             ],
             [
              0.6666666666666666,
              "#ed7953"
             ],
             [
              0.7777777777777778,
              "#fb9f3a"
             ],
             [
              0.8888888888888888,
              "#fdca26"
             ],
             [
              1,
              "#f0f921"
             ]
            ],
            "type": "surface"
           }
          ],
          "table": [
           {
            "cells": {
             "fill": {
              "color": "#EBF0F8"
             },
             "line": {
              "color": "white"
             }
            },
            "header": {
             "fill": {
              "color": "#C8D4E3"
             },
             "line": {
              "color": "white"
             }
            },
            "type": "table"
           }
          ]
         },
         "layout": {
          "annotationdefaults": {
           "arrowcolor": "#2a3f5f",
           "arrowhead": 0,
           "arrowwidth": 1
          },
          "autotypenumbers": "strict",
          "coloraxis": {
           "colorbar": {
            "outlinewidth": 0,
            "ticks": ""
           }
          },
          "colorscale": {
           "diverging": [
            [
             0,
             "#8e0152"
            ],
            [
             0.1,
             "#c51b7d"
            ],
            [
             0.2,
             "#de77ae"
            ],
            [
             0.3,
             "#f1b6da"
            ],
            [
             0.4,
             "#fde0ef"
            ],
            [
             0.5,
             "#f7f7f7"
            ],
            [
             0.6,
             "#e6f5d0"
            ],
            [
             0.7,
             "#b8e186"
            ],
            [
             0.8,
             "#7fbc41"
            ],
            [
             0.9,
             "#4d9221"
            ],
            [
             1,
             "#276419"
            ]
           ],
           "sequential": [
            [
             0,
             "#0d0887"
            ],
            [
             0.1111111111111111,
             "#46039f"
            ],
            [
             0.2222222222222222,
             "#7201a8"
            ],
            [
             0.3333333333333333,
             "#9c179e"
            ],
            [
             0.4444444444444444,
             "#bd3786"
            ],
            [
             0.5555555555555556,
             "#d8576b"
            ],
            [
             0.6666666666666666,
             "#ed7953"
            ],
            [
             0.7777777777777778,
             "#fb9f3a"
            ],
            [
             0.8888888888888888,
             "#fdca26"
            ],
            [
             1,
             "#f0f921"
            ]
           ],
           "sequentialminus": [
            [
             0,
             "#0d0887"
            ],
            [
             0.1111111111111111,
             "#46039f"
            ],
            [
             0.2222222222222222,
             "#7201a8"
            ],
            [
             0.3333333333333333,
             "#9c179e"
            ],
            [
             0.4444444444444444,
             "#bd3786"
            ],
            [
             0.5555555555555556,
             "#d8576b"
            ],
            [
             0.6666666666666666,
             "#ed7953"
            ],
            [
             0.7777777777777778,
             "#fb9f3a"
            ],
            [
             0.8888888888888888,
             "#fdca26"
            ],
            [
             1,
             "#f0f921"
            ]
           ]
          },
          "colorway": [
           "#636efa",
           "#EF553B",
           "#00cc96",
           "#ab63fa",
           "#FFA15A",
           "#19d3f3",
           "#FF6692",
           "#B6E880",
           "#FF97FF",
           "#FECB52"
          ],
          "font": {
           "color": "#2a3f5f"
          },
          "geo": {
           "bgcolor": "white",
           "lakecolor": "white",
           "landcolor": "#E5ECF6",
           "showlakes": true,
           "showland": true,
           "subunitcolor": "white"
          },
          "hoverlabel": {
           "align": "left"
          },
          "hovermode": "closest",
          "mapbox": {
           "style": "light"
          },
          "paper_bgcolor": "white",
          "plot_bgcolor": "#E5ECF6",
          "polar": {
           "angularaxis": {
            "gridcolor": "white",
            "linecolor": "white",
            "ticks": ""
           },
           "bgcolor": "#E5ECF6",
           "radialaxis": {
            "gridcolor": "white",
            "linecolor": "white",
            "ticks": ""
           }
          },
          "scene": {
           "xaxis": {
            "backgroundcolor": "#E5ECF6",
            "gridcolor": "white",
            "gridwidth": 2,
            "linecolor": "white",
            "showbackground": true,
            "ticks": "",
            "zerolinecolor": "white"
           },
           "yaxis": {
            "backgroundcolor": "#E5ECF6",
            "gridcolor": "white",
            "gridwidth": 2,
            "linecolor": "white",
            "showbackground": true,
            "ticks": "",
            "zerolinecolor": "white"
           },
           "zaxis": {
            "backgroundcolor": "#E5ECF6",
            "gridcolor": "white",
            "gridwidth": 2,
            "linecolor": "white",
            "showbackground": true,
            "ticks": "",
            "zerolinecolor": "white"
           }
          },
          "shapedefaults": {
           "line": {
            "color": "#2a3f5f"
           }
          },
          "ternary": {
           "aaxis": {
            "gridcolor": "white",
            "linecolor": "white",
            "ticks": ""
           },
           "baxis": {
            "gridcolor": "white",
            "linecolor": "white",
            "ticks": ""
           },
           "bgcolor": "#E5ECF6",
           "caxis": {
            "gridcolor": "white",
            "linecolor": "white",
            "ticks": ""
           }
          },
          "title": {
           "x": 0.05
          },
          "xaxis": {
           "automargin": true,
           "gridcolor": "white",
           "linecolor": "white",
           "ticks": "",
           "title": {
            "standoff": 15
           },
           "zerolinecolor": "white",
           "zerolinewidth": 2
          },
          "yaxis": {
           "automargin": true,
           "gridcolor": "white",
           "linecolor": "white",
           "ticks": "",
           "title": {
            "standoff": 15
           },
           "zerolinecolor": "white",
           "zerolinewidth": 2
          }
         }
        },
        "title": {
         "text": "Distribution des installations - EDUCATION (échelle log)"
        },
        "xaxis": {
         "anchor": "y",
         "domain": [
          0,
          1
         ],
         "title": {
          "text": "Modèle économique"
         }
        },
        "yaxis": {
         "anchor": "x",
         "domain": [
          0,
          1
         ],
         "title": {
          "text": "Installations"
         },
         "type": "log"
        }
       }
      }
     },
     "metadata": {},
     "output_type": "display_data"
    }
   ],
   "source": [
    "fig = px.box(\n",
    "    df_edu,\n",
    "    x='Type',\n",
    "    y='Installs_clean',\n",
    "    points='all',\n",
    "    title=\"Distribution des installations - EDUCATION (échelle log)\",\n",
    "    labels={'Installs_clean': 'Installations', 'Type': 'Modèle économique'}\n",
    ")\n",
    "\n",
    "fig.update_yaxes(type='log')\n",
    "fig.show()\n"
   ]
  },
  {
   "cell_type": "markdown",
   "id": "47fe28d1",
   "metadata": {},
   "source": [
    "### Interprétation\n",
    "\n",
    "#### L’analyse des applications dans la catégorie EDUCATION révèle que les apps payantes présentent en moyenne une meilleure note utilisateur, ce qui traduit une qualité perçue plus élevée. Toutefois, les apps gratuites affichent des volumes d’installations nettement supérieurs, soulignant leur potentiel de diffusion massive. \n",
    "\n",
    "#### Étant donné que la catégorie Education se trouve dans le segment stratégique d'investissement à court terme / fort ROI, il est plus judicieux de prioriser les applications gratuites à fort volume d’utilisateurs, car elles bénéficient d’une large diffusion et d’un potentiel de monétisation rapide via des modèles freemium, publicitaires ou d’abonnement. De plus, une application d’éducation est par nature conçue pour être utilisée régulièrement et sur le long terme (apprentissage progressif, exercices quotidiens, révisions…), ce qui favorise une récurrence d’usage élevée et donc une rétention client solide, essentielle pour maximiser le retour sur investissement.\n",
    "\n",
    "#### Cela dit, les applications payantes, bien que moins téléchargées, présentent une meilleure qualité perçue (notes plus élevées) et peuvent représenter des opportunités pertinentes dans des niches éducatives spécialisées ou professionnelles, avec des utilisateurs plus engagés et prêts à payer pour de la valeur.\n",
    "\n",
    "#### Nous allons essayer d'identifier une ou plusieurs applications pour chaque modèles économiques\n",
    "\n",
    "#### Pour cela, nous recalculons un score basé sur la note moyenne et le nombre d’installations."
   ]
  },
  {
   "cell_type": "code",
   "execution_count": 29,
   "id": "bb57b5bd",
   "metadata": {},
   "outputs": [],
   "source": [
    "scaler = MinMaxScaler()\n",
    "\n",
    "df_edu[['Rating_norm', 'Installs_norm']] = scaler.fit_transform(df_edu[['Rating', 'Installs_clean']])\n",
    "df_edu['Attractiveness_Score'] = df_edu['Rating_norm'] * 0.5 + df_edu['Installs_norm'] * 0.5\n",
    "\n",
    "top_free = df_edu[df_edu['Type'] == 'Free'].sort_values('Attractiveness_Score', ascending=False).head(2)\n",
    "top_paid = df_edu[df_edu['Type'] == 'Paid'].sort_values('Attractiveness_Score', ascending=False).head(1)\n"
   ]
  },
  {
   "cell_type": "code",
   "execution_count": 30,
   "id": "bb80aa9d",
   "metadata": {},
   "outputs": [
    {
     "name": "stdout",
     "output_type": "stream",
     "text": [
      "Top apps gratuites :\n",
      "- Duolingo: Learn Languages Free → Note : 4.7, Installs : 100,000,000\n",
      "- Learn Japanese, Korean, Chinese Offline & Free → Note : 4.9, Installs : 1,000,000\n",
      "\n",
      "Top apps payantes :\n",
      "- Sago Mini Hat Maker → Note : 4.9, Installs : 1,000\n"
     ]
    }
   ],
   "source": [
    "print(\"Top apps gratuites :\")\n",
    "for app in top_free[['App', 'Rating', 'Installs_clean']].values:\n",
    "    print(f\"- {app[0]} → Note : {app[1]}, Installs : {int(app[2]):,}\")\n",
    "\n",
    "print(\"\\nTop apps payantes :\")\n",
    "for app in top_paid[['App', 'Rating', 'Installs_clean']].values:\n",
    "    print(f\"- {app[0]} → Note : {app[1]}, Installs : {int(app[2]):,}\")"
   ]
  },
  {
   "cell_type": "markdown",
   "id": "acff9163",
   "metadata": {},
   "source": [
    "#### Nous recommandons de porter votre attention sur les applications gratuites **\"Duolingo: Learn Languages Free\"** et **\"Learn Japanese, Korean, Chinese Offline & Free\"**. Et sur l'application payante **\"Sago Mini Hat Maker\"**"
   ]
  },
  {
   "cell_type": "markdown",
   "id": "8278207d",
   "metadata": {},
   "source": [
    "## Focus sur la catégorie EVENT"
   ]
  },
  {
   "cell_type": "markdown",
   "id": "eac57110",
   "metadata": {},
   "source": [
    "#### On va appliquer la même méthodologie que pour la catégorie EDUCATION"
   ]
  },
  {
   "cell_type": "code",
   "execution_count": 31,
   "id": "52a0b15e",
   "metadata": {},
   "outputs": [
    {
     "data": {
      "text/plain": [
       "App\n",
       "All Events in City                                   1\n",
       "Ticketmaster Event Tickets                           1\n",
       "Reminder                                             1\n",
       "Birdays - Birthday reminder                          1\n",
       "StubHub - Tickets to Sports, Concerts & Events       1\n",
       "Fever                                                1\n",
       "DroidAdmin for Android - Advice                      1\n",
       "SeatGeek – Tickets to Sports, Concerts, Broadway     1\n",
       "my4D                                                 1\n",
       "Vivid Seats – Event Tickets                          1\n",
       "Name days                                            1\n",
       "LBB - Find New & Unique Things To Do Around You      1\n",
       "Happy Birthday Songs Offline                         1\n",
       "Series Valley of the Wolves full of part             1\n",
       "Mummatikabalkuragi                                   1\n",
       "Gametime - Tickets to Sports, Concerts, Theater      1\n",
       "PTI Flex Maker, Photo Frame Editor & Songs 2018      1\n",
       "Wipe out                                             1\n",
       "Birthdays & Other Events                             1\n",
       "Events High - Meet Your City!                        1\n",
       "vide-greniers.org                                    1\n",
       "SUMMER SONIC app                                     1\n",
       "Quake & Volcanoes: 3D Globe of Volcanic Eruptions    1\n",
       "Prosperity                                           1\n",
       "Picktrainer: India's largest photo contest app       1\n",
       "Goldstar: Live Event Tickets                         1\n",
       "Emmabodafestivalen                                   1\n",
       "KudaGo - things to do in NY                          1\n",
       "Mindvalley U Tallinn 2018                            1\n",
       "Freitas Auctioneer Official                          1\n",
       "Xceed - Clubs, DJs, Festivals & Tickets              1\n",
       "Arab Halls - For Wedding & Events                    1\n",
       "Endurance Lifestyle                                  1\n",
       "The T Factor                                         1\n",
       "Event Manager - AllEvents.in                         1\n",
       "AO Player                                            1\n",
       "Outdoor Movies BC                                    1\n",
       "Bo Aung Din                                          1\n",
       "Bw Events                                            1\n",
       "CG BILASPUR CARNIVAL                                 1\n",
       "DW Event                                             1\n",
       "EF Events                                            1\n",
       "EK Bailey Preaching Conference                       1\n",
       "FAST EO                                              1\n",
       "NFP 2018                                             1\n",
       "Name: count, dtype: int64"
      ]
     },
     "execution_count": 31,
     "metadata": {},
     "output_type": "execute_result"
    }
   ],
   "source": [
    "df_evt[\"App\"].value_counts()"
   ]
  },
  {
   "cell_type": "code",
   "execution_count": 32,
   "id": "ce821de5",
   "metadata": {},
   "outputs": [
    {
     "data": {
      "text/plain": [
       "Type\n",
       "Free    45\n",
       "Name: count, dtype: int64"
      ]
     },
     "execution_count": 32,
     "metadata": {},
     "output_type": "execute_result"
    }
   ],
   "source": [
    "df_evt[\"Type\"].value_counts()"
   ]
  },
  {
   "cell_type": "markdown",
   "id": "d4bdf76f",
   "metadata": {},
   "source": [
    "#### Il n'y a donc pas d'applications EVENT payante, nous allons essayer d'étudier quelles sont les applications les plus intéressantes. On peut aller un peu plus vite ici"
   ]
  },
  {
   "cell_type": "code",
   "execution_count": 33,
   "id": "84bf0902",
   "metadata": {},
   "outputs": [
    {
     "data": {
      "application/vnd.plotly.v1+json": {
       "config": {
        "plotlyServerURL": "https://plot.ly"
       },
       "data": [
        {
         "alignmentgroup": "True",
         "boxpoints": "all",
         "hovertemplate": "Type=%{x}<br>Note=%{y}<extra></extra>",
         "legendgroup": "",
         "marker": {
          "color": "#636efa"
         },
         "name": "",
         "notched": false,
         "offsetgroup": "",
         "orientation": "v",
         "showlegend": false,
         "type": "box",
         "x": [
          "Free",
          "Free",
          "Free",
          "Free",
          "Free",
          "Free",
          "Free",
          "Free",
          "Free",
          "Free",
          "Free",
          "Free",
          "Free",
          "Free",
          "Free",
          "Free",
          "Free",
          "Free",
          "Free",
          "Free",
          "Free",
          "Free",
          "Free",
          "Free",
          "Free",
          "Free",
          "Free",
          "Free",
          "Free",
          "Free",
          "Free",
          "Free",
          "Free",
          "Free",
          "Free",
          "Free",
          "Free",
          "Free",
          "Free",
          "Free",
          "Free",
          "Free",
          "Free",
          "Free",
          "Free"
         ],
         "x0": " ",
         "xaxis": "x",
         "y": [
          4,
          4,
          4.5,
          4.5,
          4,
          4,
          4.2,
          4.4,
          4.6,
          4.6,
          4.1,
          4.6,
          4.4,
          4.6,
          4.9,
          4.5,
          4.6,
          4.7,
          4.3,
          4.2,
          4.3,
          5,
          4.4,
          5,
          4.5,
          4.5,
          4.8,
          4.4,
          5,
          3.7,
          4.1,
          4.8,
          4.6,
          4.8,
          4.7,
          4,
          2.9,
          4.1,
          4.4,
          3.8,
          4.3,
          5,
          5,
          5,
          4.8
         ],
         "y0": " ",
         "yaxis": "y"
        }
       ],
       "layout": {
        "boxmode": "group",
        "legend": {
         "tracegroupgap": 0
        },
        "template": {
         "data": {
          "bar": [
           {
            "error_x": {
             "color": "#2a3f5f"
            },
            "error_y": {
             "color": "#2a3f5f"
            },
            "marker": {
             "line": {
              "color": "#E5ECF6",
              "width": 0.5
             },
             "pattern": {
              "fillmode": "overlay",
              "size": 10,
              "solidity": 0.2
             }
            },
            "type": "bar"
           }
          ],
          "barpolar": [
           {
            "marker": {
             "line": {
              "color": "#E5ECF6",
              "width": 0.5
             },
             "pattern": {
              "fillmode": "overlay",
              "size": 10,
              "solidity": 0.2
             }
            },
            "type": "barpolar"
           }
          ],
          "carpet": [
           {
            "aaxis": {
             "endlinecolor": "#2a3f5f",
             "gridcolor": "white",
             "linecolor": "white",
             "minorgridcolor": "white",
             "startlinecolor": "#2a3f5f"
            },
            "baxis": {
             "endlinecolor": "#2a3f5f",
             "gridcolor": "white",
             "linecolor": "white",
             "minorgridcolor": "white",
             "startlinecolor": "#2a3f5f"
            },
            "type": "carpet"
           }
          ],
          "choropleth": [
           {
            "colorbar": {
             "outlinewidth": 0,
             "ticks": ""
            },
            "type": "choropleth"
           }
          ],
          "contour": [
           {
            "colorbar": {
             "outlinewidth": 0,
             "ticks": ""
            },
            "colorscale": [
             [
              0,
              "#0d0887"
             ],
             [
              0.1111111111111111,
              "#46039f"
             ],
             [
              0.2222222222222222,
              "#7201a8"
             ],
             [
              0.3333333333333333,
              "#9c179e"
             ],
             [
              0.4444444444444444,
              "#bd3786"
             ],
             [
              0.5555555555555556,
              "#d8576b"
             ],
             [
              0.6666666666666666,
              "#ed7953"
             ],
             [
              0.7777777777777778,
              "#fb9f3a"
             ],
             [
              0.8888888888888888,
              "#fdca26"
             ],
             [
              1,
              "#f0f921"
             ]
            ],
            "type": "contour"
           }
          ],
          "contourcarpet": [
           {
            "colorbar": {
             "outlinewidth": 0,
             "ticks": ""
            },
            "type": "contourcarpet"
           }
          ],
          "heatmap": [
           {
            "colorbar": {
             "outlinewidth": 0,
             "ticks": ""
            },
            "colorscale": [
             [
              0,
              "#0d0887"
             ],
             [
              0.1111111111111111,
              "#46039f"
             ],
             [
              0.2222222222222222,
              "#7201a8"
             ],
             [
              0.3333333333333333,
              "#9c179e"
             ],
             [
              0.4444444444444444,
              "#bd3786"
             ],
             [
              0.5555555555555556,
              "#d8576b"
             ],
             [
              0.6666666666666666,
              "#ed7953"
             ],
             [
              0.7777777777777778,
              "#fb9f3a"
             ],
             [
              0.8888888888888888,
              "#fdca26"
             ],
             [
              1,
              "#f0f921"
             ]
            ],
            "type": "heatmap"
           }
          ],
          "heatmapgl": [
           {
            "colorbar": {
             "outlinewidth": 0,
             "ticks": ""
            },
            "colorscale": [
             [
              0,
              "#0d0887"
             ],
             [
              0.1111111111111111,
              "#46039f"
             ],
             [
              0.2222222222222222,
              "#7201a8"
             ],
             [
              0.3333333333333333,
              "#9c179e"
             ],
             [
              0.4444444444444444,
              "#bd3786"
             ],
             [
              0.5555555555555556,
              "#d8576b"
             ],
             [
              0.6666666666666666,
              "#ed7953"
             ],
             [
              0.7777777777777778,
              "#fb9f3a"
             ],
             [
              0.8888888888888888,
              "#fdca26"
             ],
             [
              1,
              "#f0f921"
             ]
            ],
            "type": "heatmapgl"
           }
          ],
          "histogram": [
           {
            "marker": {
             "pattern": {
              "fillmode": "overlay",
              "size": 10,
              "solidity": 0.2
             }
            },
            "type": "histogram"
           }
          ],
          "histogram2d": [
           {
            "colorbar": {
             "outlinewidth": 0,
             "ticks": ""
            },
            "colorscale": [
             [
              0,
              "#0d0887"
             ],
             [
              0.1111111111111111,
              "#46039f"
             ],
             [
              0.2222222222222222,
              "#7201a8"
             ],
             [
              0.3333333333333333,
              "#9c179e"
             ],
             [
              0.4444444444444444,
              "#bd3786"
             ],
             [
              0.5555555555555556,
              "#d8576b"
             ],
             [
              0.6666666666666666,
              "#ed7953"
             ],
             [
              0.7777777777777778,
              "#fb9f3a"
             ],
             [
              0.8888888888888888,
              "#fdca26"
             ],
             [
              1,
              "#f0f921"
             ]
            ],
            "type": "histogram2d"
           }
          ],
          "histogram2dcontour": [
           {
            "colorbar": {
             "outlinewidth": 0,
             "ticks": ""
            },
            "colorscale": [
             [
              0,
              "#0d0887"
             ],
             [
              0.1111111111111111,
              "#46039f"
             ],
             [
              0.2222222222222222,
              "#7201a8"
             ],
             [
              0.3333333333333333,
              "#9c179e"
             ],
             [
              0.4444444444444444,
              "#bd3786"
             ],
             [
              0.5555555555555556,
              "#d8576b"
             ],
             [
              0.6666666666666666,
              "#ed7953"
             ],
             [
              0.7777777777777778,
              "#fb9f3a"
             ],
             [
              0.8888888888888888,
              "#fdca26"
             ],
             [
              1,
              "#f0f921"
             ]
            ],
            "type": "histogram2dcontour"
           }
          ],
          "mesh3d": [
           {
            "colorbar": {
             "outlinewidth": 0,
             "ticks": ""
            },
            "type": "mesh3d"
           }
          ],
          "parcoords": [
           {
            "line": {
             "colorbar": {
              "outlinewidth": 0,
              "ticks": ""
             }
            },
            "type": "parcoords"
           }
          ],
          "pie": [
           {
            "automargin": true,
            "type": "pie"
           }
          ],
          "scatter": [
           {
            "fillpattern": {
             "fillmode": "overlay",
             "size": 10,
             "solidity": 0.2
            },
            "type": "scatter"
           }
          ],
          "scatter3d": [
           {
            "line": {
             "colorbar": {
              "outlinewidth": 0,
              "ticks": ""
             }
            },
            "marker": {
             "colorbar": {
              "outlinewidth": 0,
              "ticks": ""
             }
            },
            "type": "scatter3d"
           }
          ],
          "scattercarpet": [
           {
            "marker": {
             "colorbar": {
              "outlinewidth": 0,
              "ticks": ""
             }
            },
            "type": "scattercarpet"
           }
          ],
          "scattergeo": [
           {
            "marker": {
             "colorbar": {
              "outlinewidth": 0,
              "ticks": ""
             }
            },
            "type": "scattergeo"
           }
          ],
          "scattergl": [
           {
            "marker": {
             "colorbar": {
              "outlinewidth": 0,
              "ticks": ""
             }
            },
            "type": "scattergl"
           }
          ],
          "scattermapbox": [
           {
            "marker": {
             "colorbar": {
              "outlinewidth": 0,
              "ticks": ""
             }
            },
            "type": "scattermapbox"
           }
          ],
          "scatterpolar": [
           {
            "marker": {
             "colorbar": {
              "outlinewidth": 0,
              "ticks": ""
             }
            },
            "type": "scatterpolar"
           }
          ],
          "scatterpolargl": [
           {
            "marker": {
             "colorbar": {
              "outlinewidth": 0,
              "ticks": ""
             }
            },
            "type": "scatterpolargl"
           }
          ],
          "scatterternary": [
           {
            "marker": {
             "colorbar": {
              "outlinewidth": 0,
              "ticks": ""
             }
            },
            "type": "scatterternary"
           }
          ],
          "surface": [
           {
            "colorbar": {
             "outlinewidth": 0,
             "ticks": ""
            },
            "colorscale": [
             [
              0,
              "#0d0887"
             ],
             [
              0.1111111111111111,
              "#46039f"
             ],
             [
              0.2222222222222222,
              "#7201a8"
             ],
             [
              0.3333333333333333,
              "#9c179e"
             ],
             [
              0.4444444444444444,
              "#bd3786"
             ],
             [
              0.5555555555555556,
              "#d8576b"
             ],
             [
              0.6666666666666666,
              "#ed7953"
             ],
             [
              0.7777777777777778,
              "#fb9f3a"
             ],
             [
              0.8888888888888888,
              "#fdca26"
             ],
             [
              1,
              "#f0f921"
             ]
            ],
            "type": "surface"
           }
          ],
          "table": [
           {
            "cells": {
             "fill": {
              "color": "#EBF0F8"
             },
             "line": {
              "color": "white"
             }
            },
            "header": {
             "fill": {
              "color": "#C8D4E3"
             },
             "line": {
              "color": "white"
             }
            },
            "type": "table"
           }
          ]
         },
         "layout": {
          "annotationdefaults": {
           "arrowcolor": "#2a3f5f",
           "arrowhead": 0,
           "arrowwidth": 1
          },
          "autotypenumbers": "strict",
          "coloraxis": {
           "colorbar": {
            "outlinewidth": 0,
            "ticks": ""
           }
          },
          "colorscale": {
           "diverging": [
            [
             0,
             "#8e0152"
            ],
            [
             0.1,
             "#c51b7d"
            ],
            [
             0.2,
             "#de77ae"
            ],
            [
             0.3,
             "#f1b6da"
            ],
            [
             0.4,
             "#fde0ef"
            ],
            [
             0.5,
             "#f7f7f7"
            ],
            [
             0.6,
             "#e6f5d0"
            ],
            [
             0.7,
             "#b8e186"
            ],
            [
             0.8,
             "#7fbc41"
            ],
            [
             0.9,
             "#4d9221"
            ],
            [
             1,
             "#276419"
            ]
           ],
           "sequential": [
            [
             0,
             "#0d0887"
            ],
            [
             0.1111111111111111,
             "#46039f"
            ],
            [
             0.2222222222222222,
             "#7201a8"
            ],
            [
             0.3333333333333333,
             "#9c179e"
            ],
            [
             0.4444444444444444,
             "#bd3786"
            ],
            [
             0.5555555555555556,
             "#d8576b"
            ],
            [
             0.6666666666666666,
             "#ed7953"
            ],
            [
             0.7777777777777778,
             "#fb9f3a"
            ],
            [
             0.8888888888888888,
             "#fdca26"
            ],
            [
             1,
             "#f0f921"
            ]
           ],
           "sequentialminus": [
            [
             0,
             "#0d0887"
            ],
            [
             0.1111111111111111,
             "#46039f"
            ],
            [
             0.2222222222222222,
             "#7201a8"
            ],
            [
             0.3333333333333333,
             "#9c179e"
            ],
            [
             0.4444444444444444,
             "#bd3786"
            ],
            [
             0.5555555555555556,
             "#d8576b"
            ],
            [
             0.6666666666666666,
             "#ed7953"
            ],
            [
             0.7777777777777778,
             "#fb9f3a"
            ],
            [
             0.8888888888888888,
             "#fdca26"
            ],
            [
             1,
             "#f0f921"
            ]
           ]
          },
          "colorway": [
           "#636efa",
           "#EF553B",
           "#00cc96",
           "#ab63fa",
           "#FFA15A",
           "#19d3f3",
           "#FF6692",
           "#B6E880",
           "#FF97FF",
           "#FECB52"
          ],
          "font": {
           "color": "#2a3f5f"
          },
          "geo": {
           "bgcolor": "white",
           "lakecolor": "white",
           "landcolor": "#E5ECF6",
           "showlakes": true,
           "showland": true,
           "subunitcolor": "white"
          },
          "hoverlabel": {
           "align": "left"
          },
          "hovermode": "closest",
          "mapbox": {
           "style": "light"
          },
          "paper_bgcolor": "white",
          "plot_bgcolor": "#E5ECF6",
          "polar": {
           "angularaxis": {
            "gridcolor": "white",
            "linecolor": "white",
            "ticks": ""
           },
           "bgcolor": "#E5ECF6",
           "radialaxis": {
            "gridcolor": "white",
            "linecolor": "white",
            "ticks": ""
           }
          },
          "scene": {
           "xaxis": {
            "backgroundcolor": "#E5ECF6",
            "gridcolor": "white",
            "gridwidth": 2,
            "linecolor": "white",
            "showbackground": true,
            "ticks": "",
            "zerolinecolor": "white"
           },
           "yaxis": {
            "backgroundcolor": "#E5ECF6",
            "gridcolor": "white",
            "gridwidth": 2,
            "linecolor": "white",
            "showbackground": true,
            "ticks": "",
            "zerolinecolor": "white"
           },
           "zaxis": {
            "backgroundcolor": "#E5ECF6",
            "gridcolor": "white",
            "gridwidth": 2,
            "linecolor": "white",
            "showbackground": true,
            "ticks": "",
            "zerolinecolor": "white"
           }
          },
          "shapedefaults": {
           "line": {
            "color": "#2a3f5f"
           }
          },
          "ternary": {
           "aaxis": {
            "gridcolor": "white",
            "linecolor": "white",
            "ticks": ""
           },
           "baxis": {
            "gridcolor": "white",
            "linecolor": "white",
            "ticks": ""
           },
           "bgcolor": "#E5ECF6",
           "caxis": {
            "gridcolor": "white",
            "linecolor": "white",
            "ticks": ""
           }
          },
          "title": {
           "x": 0.05
          },
          "xaxis": {
           "automargin": true,
           "gridcolor": "white",
           "linecolor": "white",
           "ticks": "",
           "title": {
            "standoff": 15
           },
           "zerolinecolor": "white",
           "zerolinewidth": 2
          },
          "yaxis": {
           "automargin": true,
           "gridcolor": "white",
           "linecolor": "white",
           "ticks": "",
           "title": {
            "standoff": 15
           },
           "zerolinecolor": "white",
           "zerolinewidth": 2
          }
         }
        },
        "title": {
         "text": "Distribution des notes - EVENT"
        },
        "xaxis": {
         "anchor": "y",
         "domain": [
          0,
          1
         ],
         "title": {
          "text": "Type"
         }
        },
        "yaxis": {
         "anchor": "x",
         "domain": [
          0,
          1
         ],
         "title": {
          "text": "Note"
         }
        }
       }
      }
     },
     "metadata": {},
     "output_type": "display_data"
    }
   ],
   "source": [
    "fig = px.box(\n",
    "    df_evt,\n",
    "    x='Type',\n",
    "    y='Rating',\n",
    "    points='all', \n",
    "    title=\"Distribution des notes - EVENT\",\n",
    "    labels={'Rating': 'Note'}\n",
    ")\n",
    "fig.show()\n"
   ]
  },
  {
   "cell_type": "code",
   "execution_count": 34,
   "id": "81a868f1",
   "metadata": {},
   "outputs": [
    {
     "data": {
      "application/vnd.plotly.v1+json": {
       "config": {
        "plotlyServerURL": "https://plot.ly"
       },
       "data": [
        {
         "alignmentgroup": "True",
         "boxpoints": "all",
         "hovertemplate": "Type=%{x}<br>Installs_clean=%{y}<extra></extra>",
         "legendgroup": "",
         "marker": {
          "color": "#636efa"
         },
         "name": "",
         "notched": false,
         "offsetgroup": "",
         "orientation": "v",
         "showlegend": false,
         "type": "box",
         "x": [
          "Free",
          "Free",
          "Free",
          "Free",
          "Free",
          "Free",
          "Free",
          "Free",
          "Free",
          "Free",
          "Free",
          "Free",
          "Free",
          "Free",
          "Free",
          "Free",
          "Free",
          "Free",
          "Free",
          "Free",
          "Free",
          "Free",
          "Free",
          "Free",
          "Free",
          "Free",
          "Free",
          "Free",
          "Free",
          "Free",
          "Free",
          "Free",
          "Free",
          "Free",
          "Free",
          "Free",
          "Free",
          "Free",
          "Free",
          "Free",
          "Free",
          "Free",
          "Free",
          "Free",
          "Free"
         ],
         "x0": " ",
         "xaxis": "x",
         "y": [
          100000,
          5000000,
          500000,
          50000,
          5000000,
          1000000,
          10000,
          1000000,
          100000,
          1000000,
          100000,
          100000,
          100000,
          50000,
          1000,
          1000000,
          10000,
          500,
          50000,
          100000,
          100000,
          500,
          100000,
          100,
          100000,
          100000,
          1000,
          100000,
          100,
          50000,
          100000,
          1000,
          500,
          1000,
          10000,
          1000,
          500,
          5000,
          100,
          5000,
          1000,
          100,
          500,
          10,
          500
         ],
         "y0": " ",
         "yaxis": "y"
        }
       ],
       "layout": {
        "boxmode": "group",
        "legend": {
         "tracegroupgap": 0
        },
        "template": {
         "data": {
          "bar": [
           {
            "error_x": {
             "color": "#2a3f5f"
            },
            "error_y": {
             "color": "#2a3f5f"
            },
            "marker": {
             "line": {
              "color": "#E5ECF6",
              "width": 0.5
             },
             "pattern": {
              "fillmode": "overlay",
              "size": 10,
              "solidity": 0.2
             }
            },
            "type": "bar"
           }
          ],
          "barpolar": [
           {
            "marker": {
             "line": {
              "color": "#E5ECF6",
              "width": 0.5
             },
             "pattern": {
              "fillmode": "overlay",
              "size": 10,
              "solidity": 0.2
             }
            },
            "type": "barpolar"
           }
          ],
          "carpet": [
           {
            "aaxis": {
             "endlinecolor": "#2a3f5f",
             "gridcolor": "white",
             "linecolor": "white",
             "minorgridcolor": "white",
             "startlinecolor": "#2a3f5f"
            },
            "baxis": {
             "endlinecolor": "#2a3f5f",
             "gridcolor": "white",
             "linecolor": "white",
             "minorgridcolor": "white",
             "startlinecolor": "#2a3f5f"
            },
            "type": "carpet"
           }
          ],
          "choropleth": [
           {
            "colorbar": {
             "outlinewidth": 0,
             "ticks": ""
            },
            "type": "choropleth"
           }
          ],
          "contour": [
           {
            "colorbar": {
             "outlinewidth": 0,
             "ticks": ""
            },
            "colorscale": [
             [
              0,
              "#0d0887"
             ],
             [
              0.1111111111111111,
              "#46039f"
             ],
             [
              0.2222222222222222,
              "#7201a8"
             ],
             [
              0.3333333333333333,
              "#9c179e"
             ],
             [
              0.4444444444444444,
              "#bd3786"
             ],
             [
              0.5555555555555556,
              "#d8576b"
             ],
             [
              0.6666666666666666,
              "#ed7953"
             ],
             [
              0.7777777777777778,
              "#fb9f3a"
             ],
             [
              0.8888888888888888,
              "#fdca26"
             ],
             [
              1,
              "#f0f921"
             ]
            ],
            "type": "contour"
           }
          ],
          "contourcarpet": [
           {
            "colorbar": {
             "outlinewidth": 0,
             "ticks": ""
            },
            "type": "contourcarpet"
           }
          ],
          "heatmap": [
           {
            "colorbar": {
             "outlinewidth": 0,
             "ticks": ""
            },
            "colorscale": [
             [
              0,
              "#0d0887"
             ],
             [
              0.1111111111111111,
              "#46039f"
             ],
             [
              0.2222222222222222,
              "#7201a8"
             ],
             [
              0.3333333333333333,
              "#9c179e"
             ],
             [
              0.4444444444444444,
              "#bd3786"
             ],
             [
              0.5555555555555556,
              "#d8576b"
             ],
             [
              0.6666666666666666,
              "#ed7953"
             ],
             [
              0.7777777777777778,
              "#fb9f3a"
             ],
             [
              0.8888888888888888,
              "#fdca26"
             ],
             [
              1,
              "#f0f921"
             ]
            ],
            "type": "heatmap"
           }
          ],
          "heatmapgl": [
           {
            "colorbar": {
             "outlinewidth": 0,
             "ticks": ""
            },
            "colorscale": [
             [
              0,
              "#0d0887"
             ],
             [
              0.1111111111111111,
              "#46039f"
             ],
             [
              0.2222222222222222,
              "#7201a8"
             ],
             [
              0.3333333333333333,
              "#9c179e"
             ],
             [
              0.4444444444444444,
              "#bd3786"
             ],
             [
              0.5555555555555556,
              "#d8576b"
             ],
             [
              0.6666666666666666,
              "#ed7953"
             ],
             [
              0.7777777777777778,
              "#fb9f3a"
             ],
             [
              0.8888888888888888,
              "#fdca26"
             ],
             [
              1,
              "#f0f921"
             ]
            ],
            "type": "heatmapgl"
           }
          ],
          "histogram": [
           {
            "marker": {
             "pattern": {
              "fillmode": "overlay",
              "size": 10,
              "solidity": 0.2
             }
            },
            "type": "histogram"
           }
          ],
          "histogram2d": [
           {
            "colorbar": {
             "outlinewidth": 0,
             "ticks": ""
            },
            "colorscale": [
             [
              0,
              "#0d0887"
             ],
             [
              0.1111111111111111,
              "#46039f"
             ],
             [
              0.2222222222222222,
              "#7201a8"
             ],
             [
              0.3333333333333333,
              "#9c179e"
             ],
             [
              0.4444444444444444,
              "#bd3786"
             ],
             [
              0.5555555555555556,
              "#d8576b"
             ],
             [
              0.6666666666666666,
              "#ed7953"
             ],
             [
              0.7777777777777778,
              "#fb9f3a"
             ],
             [
              0.8888888888888888,
              "#fdca26"
             ],
             [
              1,
              "#f0f921"
             ]
            ],
            "type": "histogram2d"
           }
          ],
          "histogram2dcontour": [
           {
            "colorbar": {
             "outlinewidth": 0,
             "ticks": ""
            },
            "colorscale": [
             [
              0,
              "#0d0887"
             ],
             [
              0.1111111111111111,
              "#46039f"
             ],
             [
              0.2222222222222222,
              "#7201a8"
             ],
             [
              0.3333333333333333,
              "#9c179e"
             ],
             [
              0.4444444444444444,
              "#bd3786"
             ],
             [
              0.5555555555555556,
              "#d8576b"
             ],
             [
              0.6666666666666666,
              "#ed7953"
             ],
             [
              0.7777777777777778,
              "#fb9f3a"
             ],
             [
              0.8888888888888888,
              "#fdca26"
             ],
             [
              1,
              "#f0f921"
             ]
            ],
            "type": "histogram2dcontour"
           }
          ],
          "mesh3d": [
           {
            "colorbar": {
             "outlinewidth": 0,
             "ticks": ""
            },
            "type": "mesh3d"
           }
          ],
          "parcoords": [
           {
            "line": {
             "colorbar": {
              "outlinewidth": 0,
              "ticks": ""
             }
            },
            "type": "parcoords"
           }
          ],
          "pie": [
           {
            "automargin": true,
            "type": "pie"
           }
          ],
          "scatter": [
           {
            "fillpattern": {
             "fillmode": "overlay",
             "size": 10,
             "solidity": 0.2
            },
            "type": "scatter"
           }
          ],
          "scatter3d": [
           {
            "line": {
             "colorbar": {
              "outlinewidth": 0,
              "ticks": ""
             }
            },
            "marker": {
             "colorbar": {
              "outlinewidth": 0,
              "ticks": ""
             }
            },
            "type": "scatter3d"
           }
          ],
          "scattercarpet": [
           {
            "marker": {
             "colorbar": {
              "outlinewidth": 0,
              "ticks": ""
             }
            },
            "type": "scattercarpet"
           }
          ],
          "scattergeo": [
           {
            "marker": {
             "colorbar": {
              "outlinewidth": 0,
              "ticks": ""
             }
            },
            "type": "scattergeo"
           }
          ],
          "scattergl": [
           {
            "marker": {
             "colorbar": {
              "outlinewidth": 0,
              "ticks": ""
             }
            },
            "type": "scattergl"
           }
          ],
          "scattermapbox": [
           {
            "marker": {
             "colorbar": {
              "outlinewidth": 0,
              "ticks": ""
             }
            },
            "type": "scattermapbox"
           }
          ],
          "scatterpolar": [
           {
            "marker": {
             "colorbar": {
              "outlinewidth": 0,
              "ticks": ""
             }
            },
            "type": "scatterpolar"
           }
          ],
          "scatterpolargl": [
           {
            "marker": {
             "colorbar": {
              "outlinewidth": 0,
              "ticks": ""
             }
            },
            "type": "scatterpolargl"
           }
          ],
          "scatterternary": [
           {
            "marker": {
             "colorbar": {
              "outlinewidth": 0,
              "ticks": ""
             }
            },
            "type": "scatterternary"
           }
          ],
          "surface": [
           {
            "colorbar": {
             "outlinewidth": 0,
             "ticks": ""
            },
            "colorscale": [
             [
              0,
              "#0d0887"
             ],
             [
              0.1111111111111111,
              "#46039f"
             ],
             [
              0.2222222222222222,
              "#7201a8"
             ],
             [
              0.3333333333333333,
              "#9c179e"
             ],
             [
              0.4444444444444444,
              "#bd3786"
             ],
             [
              0.5555555555555556,
              "#d8576b"
             ],
             [
              0.6666666666666666,
              "#ed7953"
             ],
             [
              0.7777777777777778,
              "#fb9f3a"
             ],
             [
              0.8888888888888888,
              "#fdca26"
             ],
             [
              1,
              "#f0f921"
             ]
            ],
            "type": "surface"
           }
          ],
          "table": [
           {
            "cells": {
             "fill": {
              "color": "#EBF0F8"
             },
             "line": {
              "color": "white"
             }
            },
            "header": {
             "fill": {
              "color": "#C8D4E3"
             },
             "line": {
              "color": "white"
             }
            },
            "type": "table"
           }
          ]
         },
         "layout": {
          "annotationdefaults": {
           "arrowcolor": "#2a3f5f",
           "arrowhead": 0,
           "arrowwidth": 1
          },
          "autotypenumbers": "strict",
          "coloraxis": {
           "colorbar": {
            "outlinewidth": 0,
            "ticks": ""
           }
          },
          "colorscale": {
           "diverging": [
            [
             0,
             "#8e0152"
            ],
            [
             0.1,
             "#c51b7d"
            ],
            [
             0.2,
             "#de77ae"
            ],
            [
             0.3,
             "#f1b6da"
            ],
            [
             0.4,
             "#fde0ef"
            ],
            [
             0.5,
             "#f7f7f7"
            ],
            [
             0.6,
             "#e6f5d0"
            ],
            [
             0.7,
             "#b8e186"
            ],
            [
             0.8,
             "#7fbc41"
            ],
            [
             0.9,
             "#4d9221"
            ],
            [
             1,
             "#276419"
            ]
           ],
           "sequential": [
            [
             0,
             "#0d0887"
            ],
            [
             0.1111111111111111,
             "#46039f"
            ],
            [
             0.2222222222222222,
             "#7201a8"
            ],
            [
             0.3333333333333333,
             "#9c179e"
            ],
            [
             0.4444444444444444,
             "#bd3786"
            ],
            [
             0.5555555555555556,
             "#d8576b"
            ],
            [
             0.6666666666666666,
             "#ed7953"
            ],
            [
             0.7777777777777778,
             "#fb9f3a"
            ],
            [
             0.8888888888888888,
             "#fdca26"
            ],
            [
             1,
             "#f0f921"
            ]
           ],
           "sequentialminus": [
            [
             0,
             "#0d0887"
            ],
            [
             0.1111111111111111,
             "#46039f"
            ],
            [
             0.2222222222222222,
             "#7201a8"
            ],
            [
             0.3333333333333333,
             "#9c179e"
            ],
            [
             0.4444444444444444,
             "#bd3786"
            ],
            [
             0.5555555555555556,
             "#d8576b"
            ],
            [
             0.6666666666666666,
             "#ed7953"
            ],
            [
             0.7777777777777778,
             "#fb9f3a"
            ],
            [
             0.8888888888888888,
             "#fdca26"
            ],
            [
             1,
             "#f0f921"
            ]
           ]
          },
          "colorway": [
           "#636efa",
           "#EF553B",
           "#00cc96",
           "#ab63fa",
           "#FFA15A",
           "#19d3f3",
           "#FF6692",
           "#B6E880",
           "#FF97FF",
           "#FECB52"
          ],
          "font": {
           "color": "#2a3f5f"
          },
          "geo": {
           "bgcolor": "white",
           "lakecolor": "white",
           "landcolor": "#E5ECF6",
           "showlakes": true,
           "showland": true,
           "subunitcolor": "white"
          },
          "hoverlabel": {
           "align": "left"
          },
          "hovermode": "closest",
          "mapbox": {
           "style": "light"
          },
          "paper_bgcolor": "white",
          "plot_bgcolor": "#E5ECF6",
          "polar": {
           "angularaxis": {
            "gridcolor": "white",
            "linecolor": "white",
            "ticks": ""
           },
           "bgcolor": "#E5ECF6",
           "radialaxis": {
            "gridcolor": "white",
            "linecolor": "white",
            "ticks": ""
           }
          },
          "scene": {
           "xaxis": {
            "backgroundcolor": "#E5ECF6",
            "gridcolor": "white",
            "gridwidth": 2,
            "linecolor": "white",
            "showbackground": true,
            "ticks": "",
            "zerolinecolor": "white"
           },
           "yaxis": {
            "backgroundcolor": "#E5ECF6",
            "gridcolor": "white",
            "gridwidth": 2,
            "linecolor": "white",
            "showbackground": true,
            "ticks": "",
            "zerolinecolor": "white"
           },
           "zaxis": {
            "backgroundcolor": "#E5ECF6",
            "gridcolor": "white",
            "gridwidth": 2,
            "linecolor": "white",
            "showbackground": true,
            "ticks": "",
            "zerolinecolor": "white"
           }
          },
          "shapedefaults": {
           "line": {
            "color": "#2a3f5f"
           }
          },
          "ternary": {
           "aaxis": {
            "gridcolor": "white",
            "linecolor": "white",
            "ticks": ""
           },
           "baxis": {
            "gridcolor": "white",
            "linecolor": "white",
            "ticks": ""
           },
           "bgcolor": "#E5ECF6",
           "caxis": {
            "gridcolor": "white",
            "linecolor": "white",
            "ticks": ""
           }
          },
          "title": {
           "x": 0.05
          },
          "xaxis": {
           "automargin": true,
           "gridcolor": "white",
           "linecolor": "white",
           "ticks": "",
           "title": {
            "standoff": 15
           },
           "zerolinecolor": "white",
           "zerolinewidth": 2
          },
          "yaxis": {
           "automargin": true,
           "gridcolor": "white",
           "linecolor": "white",
           "ticks": "",
           "title": {
            "standoff": 15
           },
           "zerolinecolor": "white",
           "zerolinewidth": 2
          }
         }
        },
        "title": {
         "text": "Distribution des installations - EVENT (échelle log)"
        },
        "xaxis": {
         "anchor": "y",
         "domain": [
          0,
          1
         ],
         "title": {
          "text": "Type"
         }
        },
        "yaxis": {
         "anchor": "x",
         "domain": [
          0,
          1
         ],
         "title": {
          "text": "Installs_clean"
         },
         "type": "log"
        }
       }
      }
     },
     "metadata": {},
     "output_type": "display_data"
    }
   ],
   "source": [
    "fig = px.box(\n",
    "    df_evt,\n",
    "    x='Type',\n",
    "    y='Installs_clean',\n",
    "    points='all',\n",
    "    title=\"Distribution des installations - EVENT (échelle log)\",\n",
    ")\n",
    "\n",
    "fig.update_yaxes(type='log')\n",
    "fig.show()\n"
   ]
  },
  {
   "cell_type": "code",
   "execution_count": 35,
   "id": "37a7f9e8",
   "metadata": {},
   "outputs": [],
   "source": [
    "scaler = MinMaxScaler()\n",
    "\n",
    "df_evt[['Rating_norm', 'Installs_norm']] = scaler.fit_transform(df_evt[['Rating', 'Installs_clean']])\n",
    "df_evt['Attractiveness_Score'] = df_evt['Rating_norm'] * 0.5 + df_evt['Installs_norm'] * 0.5\n",
    "\n",
    "top_free = df_evt[df_evt['Type'] == 'Free'].sort_values('Attractiveness_Score', ascending=False).head(2)\n"
   ]
  },
  {
   "cell_type": "code",
   "execution_count": 36,
   "id": "e82f4951",
   "metadata": {},
   "outputs": [
    {
     "name": "stdout",
     "output_type": "stream",
     "text": [
      "Top apps gratuites :\n",
      "- Ticketmaster Event Tickets → Note : 4.0, Installs : 5,000,000\n",
      "- StubHub - Tickets to Sports, Concerts & Events → Note : 4.0, Installs : 5,000,000\n"
     ]
    }
   ],
   "source": [
    "print(\"Top apps gratuites :\")\n",
    "for app in top_free[['App', 'Rating', 'Installs_clean']].values:\n",
    "    print(f\"- {app[0]} → Note : {app[1]}, Installs : {int(app[2]):,}\")\n",
    "\n"
   ]
  },
  {
   "cell_type": "markdown",
   "id": "bbc8321c",
   "metadata": {},
   "source": [
    "#### Nous recommandons de vous pencher sur les applications **\"Ticketmaster Event Tickets\"** et **\"StubHub - Tickets to Sports, Concerts & Events\"**"
   ]
  },
  {
   "cell_type": "markdown",
   "id": "3edcfbdf",
   "metadata": {},
   "source": [
    "## 5. Éventuelles failles ou risques à considérer"
   ]
  },
  {
   "cell_type": "markdown",
   "id": "e8cd287f",
   "metadata": {},
   "source": [
    "#### 5.1 Présence d’applications anciennes ou peu maintenues\n",
    "\n",
    "De nombreuses applications, bien que très installées, n’ont pas été mises à jour depuis plusieurs années. Elles peuvent encore générer du trafic mais ne représentent plus une opportunité active. Cela biaise les scores si on n'intègre pas la dimension temporelle.\n",
    "\n",
    "C'est par exemple le cas avec cette application de la catégorie EDUCATION, avec +1,000,000 de téléchargement et 4.3 de rating. Mais cela ne représente pas un bon investissement (en se basant sur le fait que le dataset date de 2018)."
   ]
  },
  {
   "cell_type": "code",
   "execution_count": 37,
   "id": "f92c0d9b",
   "metadata": {},
   "outputs": [
    {
     "data": {
      "text/html": [
       "<div>\n",
       "<style scoped>\n",
       "    .dataframe tbody tr th:only-of-type {\n",
       "        vertical-align: middle;\n",
       "    }\n",
       "\n",
       "    .dataframe tbody tr th {\n",
       "        vertical-align: top;\n",
       "    }\n",
       "\n",
       "    .dataframe thead th {\n",
       "        text-align: right;\n",
       "    }\n",
       "</style>\n",
       "<table border=\"1\" class=\"dataframe\">\n",
       "  <thead>\n",
       "    <tr style=\"text-align: right;\">\n",
       "      <th></th>\n",
       "      <th>App</th>\n",
       "      <th>Category</th>\n",
       "      <th>Rating</th>\n",
       "      <th>Reviews</th>\n",
       "      <th>Size</th>\n",
       "      <th>Installs</th>\n",
       "      <th>Type</th>\n",
       "      <th>Price</th>\n",
       "      <th>Content Rating</th>\n",
       "      <th>Genres</th>\n",
       "      <th>Last Updated</th>\n",
       "      <th>Current Ver</th>\n",
       "      <th>Android Ver</th>\n",
       "      <th>Installs_clean</th>\n",
       "      <th>Engagement</th>\n",
       "      <th>Rating_norm</th>\n",
       "      <th>Installs_norm</th>\n",
       "      <th>Attractiveness_Score</th>\n",
       "    </tr>\n",
       "  </thead>\n",
       "  <tbody>\n",
       "    <tr>\n",
       "      <th>754</th>\n",
       "      <td>C++ Programming</td>\n",
       "      <td>EDUCATION</td>\n",
       "      <td>4.3</td>\n",
       "      <td>11904</td>\n",
       "      <td>1.8M</td>\n",
       "      <td>1,000,000+</td>\n",
       "      <td>Free</td>\n",
       "      <td>0</td>\n",
       "      <td>Everyone</td>\n",
       "      <td>Education</td>\n",
       "      <td>August 22, 2015</td>\n",
       "      <td>2.0</td>\n",
       "      <td>2.3 and up</td>\n",
       "      <td>1000000</td>\n",
       "      <td>0.011904</td>\n",
       "      <td>0.571429</td>\n",
       "      <td>0.00999</td>\n",
       "      <td>0.290709</td>\n",
       "    </tr>\n",
       "  </tbody>\n",
       "</table>\n",
       "</div>"
      ],
      "text/plain": [
       "                 App   Category  Rating  Reviews  Size    Installs  Type  \\\n",
       "754  C++ Programming  EDUCATION     4.3    11904  1.8M  1,000,000+  Free   \n",
       "\n",
       "    Price Content Rating     Genres     Last Updated Current Ver Android Ver  \\\n",
       "754     0       Everyone  Education  August 22, 2015         2.0  2.3 and up   \n",
       "\n",
       "     Installs_clean  Engagement  Rating_norm  Installs_norm  \\\n",
       "754         1000000    0.011904     0.571429        0.00999   \n",
       "\n",
       "     Attractiveness_Score  \n",
       "754              0.290709  "
      ]
     },
     "execution_count": 37,
     "metadata": {},
     "output_type": "execute_result"
    }
   ],
   "source": [
    "df_edu[df_edu[\"Last Updated\"] == \"August 22, 2015\"]"
   ]
  },
  {
   "cell_type": "markdown",
   "id": "ebf797c9",
   "metadata": {},
   "source": [
    "#### 5.2  Données issues d'une source unique (Google Play Store)\n",
    "L’analyse repose uniquement sur les données publiques disponibles sur le Play Store. Aucune donnée interne (revenu réel, rétention journalière, coût d’acquisition client) n’est accessible, ce qui limite l’évaluation fine du ROI."
   ]
  },
  {
   "cell_type": "markdown",
   "id": "2b1f8020",
   "metadata": {},
   "source": [
    "#### 5.3 Indicateurs indirects de performance\n",
    "Le score construit repose sur des variables comme la note moyenne, les installations et les reviews. Ces éléments ne traduisent pas nécessairement la rentabilité réelle ou la satisfaction long terme des utilisateurs."
   ]
  },
  {
   "cell_type": "markdown",
   "id": "65143c00",
   "metadata": {},
   "source": [
    "#### 5.4 Approche simplifiée du modèle économique\n",
    "L’analyse distingue les apps Free vs Paid, sans intégrer la complexité des modèles hybrides : freemium, abonnements, achats in-app. De ce fait, la valorisation du potentiel économique reste partielle."
   ]
  },
  {
   "cell_type": "markdown",
   "id": "05b159ad",
   "metadata": {},
   "source": [
    "#### 5.5 Pas de dynamique temporelle\n",
    "L’étude ne prend pas en compte l’évolution des installations, des notes ou des mises à jour dans le temps. Cela limite la capacité à identifier les tendances ou les apps en forte croissance."
   ]
  },
  {
   "cell_type": "markdown",
   "id": "4bf85d30",
   "metadata": {},
   "source": [
    "## Conclusion"
   ]
  },
  {
   "cell_type": "markdown",
   "id": "06327696",
   "metadata": {},
   "source": [
    "L’analyse menée nous a permis d’obtenir un aperçu global du marché des applications mobiles en 2018. Elle a conduit à l’identification de deux axes stratégiques d’investissement : le court terme à fort retour sur investissement et l’approche qualitative axée sur la valeur perçue.\n",
    "À partir de ces orientations, nous avons mis en évidence les catégories les plus attractives, puis, à l’aide de scores d’attractivité combinant données quantitatives et critères d’engagement, nous avons pu isoler plusieurs applications prometteuses pour un investissement ciblé.\n",
    "\n",
    "Il faut tout de même prendre du recul sur cette analyse. Les données que nous avons utilisées restent peu suffisantes pour évaluer pleinement la rentabilité réelle des applications. En effet, elles ne fournissent aucune information sur les revenus générés, le coût d’acquisition utilisateur, la durée de rétention, ou encore la stratégie de monétisation mise en place. De plus, l’absence de données temporelles limite notre capacité à détecter les tendances de croissance ou de déclin. Ainsi, cette étude constitue une première étape d’exploration stratégique, mais devrait idéalement être complétée par une analyse financière plus approfondie et des données comportementales réelles."
   ]
  },
  {
   "cell_type": "markdown",
   "id": "054f5dfc",
   "metadata": {},
   "source": [
    "<h1 style=\"color:orange\">Sous-partie 2 - Pour aller plus loin</h1>"
   ]
  },
  {
   "cell_type": "markdown",
   "id": "75371fe9",
   "metadata": {},
   "source": [
    "### La conclusion est une superbe introduction à notre sous-partie 2 : comment enrichir le jeu de données actuel ? "
   ]
  },
  {
   "cell_type": "markdown",
   "id": "296b1eb8",
   "metadata": {},
   "source": [
    "### 1. Récupérer les avis des utilisateurs"
   ]
  },
  {
   "cell_type": "markdown",
   "id": "efa3726d",
   "metadata": {},
   "source": [
    "Il serait très intéressant d’enrichir notre jeu de données en récupérant les avis réels des utilisateurs afin de mieux comprendre leurs retours, ressentis et remarques générales. Cela permettrait d'aller au-delà des simples notes pour identifier des signaux faibles ou des insights comportementaux.\n",
    "\n",
    "En analysant ces avis, on pourrait utiliser des modèles NLP d’analyse de sentiment, ou même faire appel à un LLM pour générer une synthèse des remarques récurrentes. On pourrait ainsi identifier automatiquement des commentaires comportant des éléments pertinents comme : \"Depuis la dernière mise à jour, j’ai pris l’abonnement payant\" ou \"J’ai recommandé cette application à ma famille\". Ces extraits révèlent des informations précieuses sur la monétisation, la rétention ou le bouche-à-oreille.\n",
    "\n",
    "Pour collecter les avis directement depuis le Google Play Store, plusieurs options sont possibles :\n",
    "\n",
    "#### A. Utiliser un service API (freemium ou payant)\n",
    "Des services comme Outscraper proposent des abonnements permettant d’accéder aux reviews de n’importe quelle application du Google Play Store. L’API fonctionne par nom d’app, et retourne un JSON contenant les avis structurés (texte, date, note, etc.). Il est également possible d’exporter ces données au format CSV/XLSX depuis leur interface web. Mon idée serait de créer un script Python qui parcourt les noms d’applications présents dans notre dataset (en évitant les doublons), effectue un appel à l’API pour récupérer jusqu’à 1 000 reviews par application, puis traite le JSON pour intégrer les avis dans une nouvelle colonne \"Users_reviews\" au format \"avis 1 - avis 2 - ...\" afin de rendre cette donnée directement exploitable par un modèle de langage (LLM) pour de l’analyse de sentiment, de la synthèse, ou de la détection de signaux spécifiques.\n",
    "\n",
    "Les avantages de cette solution résident dans sa simplicité : il suffit de savoir effectuer un appel API et de traiter un fichier JSON, ce qui la rend facilement intégrable dans un pipeline Python classique. De plus, l’utilisation d’un service comme Outscraper donne accès à un support client, ce qui peut s’avérer précieux en cas de difficulté technique, de limitation sur les quotas, ou si la qualité des données retournées nécessite clarification ou ajustement.\n",
    "\n",
    "Le principal inconvénient de ce type de solution reste son coût lorsqu'on souhaite accéder à un volume conséquent de données. D’après le simulateur de tarification d’Outscraper, la récupération de 1 000 reviews coûte environ 2$. Si l’on applique ce tarif à l’ensemble des applications présentes dans notre dataset, on arrive rapidement à un budget avoisinant les 18 500 $, ce qui est — à mon sens — excessif pour une simple analyse de sentiment à grande échelle. Bien sûr, on pourrait choisir de récupérer un échantillon plus réduit (par exemple 100 avis par app), mais cela limiterait la représentativité des retours utilisateurs et réduirait fortement la fiabilité de l’interprétation.\n",
    "\n",
    "#### B. Scraper nous-mêmes les données du Google Play Store\n",
    "Il est également envisageable de récupérer les avis utilisateurs en développant notre propre script de scraping, à l’aide de bibliothèques Python comme Selenium et BeautifulSoup. Le processus serait globalement similaire à celui d’un appel API, mais bien plus technique à mettre en œuvre.\n",
    "\n",
    "L’avantage principal de cette solution réside dans son coût très faible, voire inexistant, et dans la flexibilité qu’elle offre : on pourrait personnaliser notre script pour scraper non seulement les reviews, mais aussi d’autres informations disponibles sur les pages d’applications.\n",
    "\n",
    "En revanche, cette méthode présente plusieurs inconvénients. Le plus notable est le risque de blocage de la part de Google, qui ne permet pas officiellement ce type de collecte automatisée. Pour contourner ce problème, il faudrait mettre en place un système de rotation de proxy ou d’user-agents, ce qui augmente la complexité et le coût. De plus, ce type de solution est fragile dans le temps : une simple modification du code HTML côté Google Play pourrait rendre notre script inutilisable, rendant difficile toute industrialisation ou mise en production viable."
   ]
  },
  {
   "cell_type": "markdown",
   "id": "c0bea0b9",
   "metadata": {},
   "source": [
    "### 2. Mettre en place un suivi temporel des métriques clés"
   ]
  },
  {
   "cell_type": "markdown",
   "id": "a370ddc8",
   "metadata": {},
   "source": [
    "Une autre piste d’enrichissement consisterait à mettre en place un système de suivi temporel des données pour chaque application du dataset. L’idée serait de récupérer régulièrement (par exemple chaque semaine) les principales métriques disponibles publiquement sur le Google Play Store — telles que le nombre d’installations, la note moyenne, ou encore le nombre de reviews — afin de construire une série temporelle par application. Chaque collecte serait stockée avec un timestamp dans une base de données, ce qui permettrait ensuite d’analyser l’évolution de chaque app dans le temps.\n",
    "\n",
    "L’intérêt de cette approche est qu’elle permettrait de détecter des dynamiques de croissance ou de déclin, d’identifier des pics d’intérêt suite à une mise à jour ou une campagne marketing, ou encore de repérer des signaux faibles révélant un ralentissement progressif. Ces informations sont précieuses pour un investisseur, car elles aident à intervenir au bon moment, en misant sur des apps en pleine ascension ou en évitant celles en perte de vitesse.\n",
    "\n",
    "L’inconvénient principal réside dans la mise en place d’une infrastructure de collecte continue, qui nécessite un minimum d’automatisation et de stockage. De plus, cette méthode ne donne des résultats intéressants qu’à condition d’avoir une granularité suffisante et des données historiques régulières — ce que ne permet pas le dataset statique dont nous disposons actuellement. Cela implique donc de projeter ce système sur plusieurs semaines ou mois."
   ]
  },
  {
   "cell_type": "markdown",
   "id": "4c8775e2",
   "metadata": {},
   "source": [
    "### 3. Estimer les revenus générés par les applications\n",
    "\n",
    "Une autre piste d’enrichissement pertinente consisterait à intégrer des estimations de revenus pour chaque application, afin de compléter les KPIs publics (comme les notes ou les installations) par des données plus pertinentes pour le côté business, telles que le chiffre d’affaires, le nombre d’abonnements actifs ou encore les achats in-app. Cela permettrait d’avoir une idée plus concrète de la performance économique réelle d’une app, et donc de son potentiel de rentabilité.\n",
    "\n",
    "Pour cela, deux approches sont envisageables :\n",
    "- La première repose sur l’utilisation de bases de données spécialisées comme Sensor Tower, Data.ai ou AppMagic, qui proposent des API payantes permettant de récupérer ce type d’estimations pour un large catalogue d’apps.\n",
    "- La seconde approche, plus artisanale, consiste à estimer les revenus à partir du prix de l’app et du nombre d’installations, en prenant soin d’intégrer un taux de conversion réaliste (pour les achats in-app ou les abonnements).\n",
    "\n",
    "L’avantage de cette démarche est évident : elle permettrait de rapprocher les données utilisateurs des données financières, ce qui est essentiel dans une logique d’investissement. En revanche, ces données sont souvent payantes, et leur fiabilité peut varier selon la source. Sans accès API ou accord de l’éditeur, il est également difficile d’obtenir des chiffres précis ou vérifiables. Cela en limite donc l’usage à des analyses de scoring ou de priorisation, mais rarement à des décisions d’investissement définitives.\n"
   ]
  },
  {
   "cell_type": "markdown",
   "id": "d30e0eee",
   "metadata": {},
   "source": [
    "<h1 style=\"color:orange\">Partie 2 - SQL</h1>"
   ]
  },
  {
   "cell_type": "markdown",
   "id": "d99ece08",
   "metadata": {},
   "source": [
    "### Question 1 : Le nombre d’application téléchargées plus de 100 000 fois"
   ]
  },
  {
   "cell_type": "markdown",
   "id": "bb5712af",
   "metadata": {},
   "source": [
    "SELECT COUNT(*)\n",
    "\n",
    "FROM application \n",
    "\n",
    "WHERE download>100000;"
   ]
  },
  {
   "cell_type": "markdown",
   "id": "a454255a",
   "metadata": {},
   "source": [
    "### Question 2 : La note moyenne de l’application « Notilus »"
   ]
  },
  {
   "cell_type": "markdown",
   "id": "092d2ee8",
   "metadata": {},
   "source": [
    "SELECT AVG(rating)\n",
    "\n",
    "FROM application\n",
    "\n",
    "JOIN review ON application.id = review.app_id\n",
    "\n",
    "WHERE name = 'Notilus';"
   ]
  },
  {
   "cell_type": "markdown",
   "id": "edeeab61",
   "metadata": {},
   "source": [
    "### Question 3 : Les 10 applications les mieux notées en moyenne"
   ]
  },
  {
   "cell_type": "markdown",
   "id": "5402f810",
   "metadata": {},
   "source": [
    "SELECT name, AVG(rating)\n",
    "\n",
    "FROM application\n",
    "\n",
    "JOIN review ON application.id = review\\.app\\_id\n",
    "\n",
    "GROUP BY name\n",
    "\n",
    "ORDER BY AVG(rating) DESC\n",
    "\n",
    "LIMIT 10;\n"
   ]
  },
  {
   "cell_type": "markdown",
   "id": "a4750218",
   "metadata": {},
   "source": [
    "### Question 4 : La catégorie la mieux notée en moyenne "
   ]
  },
  {
   "cell_type": "markdown",
   "id": "168cb2d1",
   "metadata": {},
   "source": [
    "SELECT AVG(rating), category \n",
    "\n",
    "FROM application\n",
    "\n",
    "JOIN review ON application.id = review.app_id\n",
    "\n",
    "GROUP BY category\n",
    "\n",
    "ORDER BY AVG(rating) DESC \n",
    "\n",
    "LIMIT 1;"
   ]
  }
 ],
 "metadata": {
  "kernelspec": {
   "display_name": "Python 3",
   "language": "python",
   "name": "python3"
  },
  "language_info": {
   "codemirror_mode": {
    "name": "ipython",
    "version": 3
   },
   "file_extension": ".py",
   "mimetype": "text/x-python",
   "name": "python",
   "nbconvert_exporter": "python",
   "pygments_lexer": "ipython3",
   "version": "3.12.6"
  }
 },
 "nbformat": 4,
 "nbformat_minor": 5
}
